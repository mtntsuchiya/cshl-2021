{
 "cells": [
  {
   "cell_type": "markdown",
   "id": "a17a866f",
   "metadata": {},
   "source": [
    "# NCBI Datasets - CSHL (11/02/2021)"
   ]
  },
  {
   "cell_type": "markdown",
   "id": "26f69883",
   "metadata": {},
   "source": [
    "### Table of contents\n",
    "* [Part I: Accessing genomes](#Part-I)\n",
    "* [Part II: Accessing genes](#Part-II)\n",
    "* [Part III: Accessing orthologs](#Part-III)\n",
    "* [Part IV: Building a BLAST database and creating a phylogenetic tree](#Part-IV)\n",
    "* [Part V: Downloading large datasets (dehydration/rehydration) and `dataformat`](#Part-V)"
   ]
  },
  {
   "cell_type": "markdown",
   "id": "3c2018eb",
   "metadata": {},
   "source": [
    "### Important resources\n",
    "- Etherpad: https://etherpad.wikimedia.org/p/CSHL_Datasets_Workshop_2021\n",
    "- Github: https://github.com/ncbi/datasets/tree/workshop-cshl-2021/training/cshl-2021\n",
    "- NCBI datasets: https://www.ncbi.nlm.nih.gov/datasets/\n",
    "- jq cheat sheet: https://github.com/ncbi/datasets/blob/workshop-cshl-2021/training/cshl-2021/jq_cheatsheet.md"
   ]
  },
  {
   "cell_type": "markdown",
   "id": "ec6eeabe",
   "metadata": {},
   "source": [
    "## Before we start... What is a jupyter notebook?\n",
    "\n",
    "Jupyter Notebooks are a web-based approach to interactive code. A single notebook (the file you are currently reading) is composed of many \"cells\" which can contain either text, or code. To navigate between cells, either click, or use the arrow keys on your keyboard.\n",
    "\n",
    "A text cell will look like... well... this! While a code cell will look something like what you see below. To run the code inside a code cell, click on it, then click the \"Run\" button at the top of the screen. Try it on the code cell below!"
   ]
  },
  {
   "cell_type": "code",
   "execution_count": 1,
   "id": "c93b68fd",
   "metadata": {},
   "outputs": [
    {
     "name": "stdout",
     "output_type": "stream",
     "text": [
      "You ran the code cell!\n"
     ]
    }
   ],
   "source": [
    "#This is a code cell\n",
    "print('You ran the code cell!')"
   ]
  },
  {
   "cell_type": "markdown",
   "id": "9bea448c",
   "metadata": {},
   "source": [
    "If it worked, you should have seen text pop up underneath the cell saying `You ran the code cell!`. Note the `In [1]:` that appeared next to the cell. This tells you the order you have run code cells throughout the notebook. The next time you run a code cell, it will say `In [2]:`, then `In [3]:` and so on... This will help you know if/when code has been run.\n",
    "\n",
    "The remainder of the notebook below has been pre-built by the workshop organizer. You will not need to create any new cells, and you will be explicitly told if/when to execute a code cell.\n",
    "\n",
    "The code in this workshop is either Bash (i.e., terminal commands) or Python. Bash commands are prefixed with `!` or the cells have the notation `%%bash` at the top., while Python commands are not. If you are not familiar with code, don't feel pressured to interpret it very deeply. Descriptions of each code block will be provided!\n",
    "\n",
    "(Jupyter Notebook explanation by Cooper Park at the workshop on [Finding and Analyzing Metagenomic Data](https://www.nlm.nih.gov/oet/ed/ncbi/2021_10_meta.html))"
   ]
  },
  {
   "cell_type": "markdown",
   "id": "b8805d73",
   "metadata": {},
   "source": [
    "## Case study: Elmo loves ants\n",
    "\n",
    "Elmo is a graduate student at the Via Sesamum University. As part of his Ph.D. project, he studies Panamanian leaf cutter ants (genus *Acromyrmex*, family Formicidae) and how variation in the gene *orco* (**o**dorant **r**eceptor **co**receptor) affects the colonies of this genus.\n",
    "\n",
    "(here's the [link](https://www.ncbi.nlm.nih.gov/labs/pmc/articles/PMC5556950/) to a cool paper talking about this gene in ants of the species *Ooceraea biroi*).\n",
    "\n",
    "<img src=\"./images/ants.png\" alt=\"image\"/>"
   ]
  },
  {
   "cell_type": "markdown",
   "id": "fb672e02",
   "metadata": {},
   "source": [
    "Elmo will use `datasets` to help him gather the existing genomic resources from NCBI. He will:\n",
    "\n",
    "- download all available genomes for the genus *Acromyrmex*\n",
    "- download the *orco* gene from the *Acromyrmex* reference genome\n",
    "- download the ortholog set for this gene for all ants (Formicidae)\n",
    "\n",
    "In addition, he will also do the following tasks:\n",
    "- Create a custom BLAST database with the Panamanian leaf cutter ants genomes \n",
    "- BLAST the gene *orco* against the database\n",
    "- Multiple sequence alignment of the BLAST results and the ortholog gene sequences\n",
    "- Build a phylogenetic tree using fastTree\n"
   ]
  },
  {
   "cell_type": "markdown",
   "id": "8b785d5b",
   "metadata": {},
   "source": [
    "### How is `datasets` organized?\n",
    "\n",
    "[NCBI datasets](https://www.ncbi.nlm.nih.gov/datasets/docs/v1/quickstarts/command-line-tools/) is a command line tool that allows users to download data packages (data + metadata) or look at metadata summaries for genomes, RefSeq annotated genes, curated ortholog sets and SARS-Cov-2 virus sequences and proteins. The program follows a hierarchy that makes it easier for users to select exact which options they would like to use. In addition to the program commands, additional flags are available for filtering the results. We will go over those during this tutorial.\n",
    "<img src=\"./images/datasets_horizontal.drawio.png\" alt=\"datasets\" style=\"width: 600px;\"/>"
   ]
  },
  {
   "cell_type": "markdown",
   "id": "54d048ca",
   "metadata": {},
   "source": [
    "In addition to `datasets`, we will be using `jq` (JSON parser) to take a look at the metadata information. Our metadata reports are almost all in JSON or [JSON Lines](https://jsonlines.org/) format. We put together a [jq cheat sheet]( https://github.com/ncbi/datasets/blob/workshop-cshl-2021/training/cshl-2021/jq_cheatsheet.md) to help you extract information from those files.  "
   ]
  },
  {
   "cell_type": "markdown",
   "id": "75ad66b3",
   "metadata": {},
   "source": [
    "## Part I: Accessing genomes<a class=\"anchor\" id=\"Part-I\"></a>"
   ]
  },
  {
   "cell_type": "markdown",
   "id": "c5509425",
   "metadata": {},
   "source": [
    "![workflow](./images/elmo_workflow.drawio.png)"
   ]
  },
  {
   "cell_type": "markdown",
   "id": "b29b46e2",
   "metadata": {},
   "source": [
    "First, let's figure out what kind of genome information NCBI has for ants (family Formicidae)."
   ]
  },
  {
   "cell_type": "markdown",
   "id": "b1c78dcf",
   "metadata": {},
   "source": [
    "<img src=\"./images/genome_summary.drawio.png\" style=\"width: 600px;\"/>"
   ]
  },
  {
   "cell_type": "code",
   "execution_count": 2,
   "id": "076161ca",
   "metadata": {},
   "outputs": [
    {
     "name": "stdout",
     "output_type": "stream",
     "text": [
      "{\"assemblies\": [{\"assembly\": {\"annotation_metadata\":{\"file\":[{\"estimated_size\":\"3421616\",\"type\":\"GENOME_GFF\"},{\"estimated_size\":\"129483045\",\"type\":\"GENOME_GBFF\"},{\"estimated_size\":\"3444924\",\"type\":\"PROT_FASTA\"},{\"estimated_size\":\"2684704\",\"type\":\"GENOME_GTF\"},{\"estimated_size\":\"7862131\",\"type\":\"CDS_FASTA\"}],\"name\":\"From INSDC submitter\",\"release_date\":\"2021-03-29\",\"source\":\"BGI\",\"stats\":{\"gene_counts\":{\"protein_coding\":8986,\"total\":14640}}},\"assembly_accession\":\"GCA_017607545.1\",\"assembly_category\":\"representative genome\",\"assembly_level\":\"Scaffold\",\"bioproject_lineages\":[{\"bioprojects\":[{\"accession\":\"PRJNA605929\",\"title\":\"Project of the leaf-cutting ants\"}]}],\"biosample_accession\":\"SAMN14167745\",\"blast_url\":\"https://blast.ncbi.nlm.nih.gov/Blast.cgi?PAGE_TYPE=BlastSearch\\u0026PROG_DEF=blastn\\u0026BLAST_SPEC=GDH_GCA_017607545.1\",\"chromosomes\":[{\"length\":\"296539234\",\"name\":\"Un\"}],\"contig_n50\":34925,\"display_name\":\"ASM1760754v1\",\"estimated_size\":\"241200730\",\"gc_count\":\"99149685\",\"org\":{\"assembly_counts\":{\"node\":1,\"subtree\":1},\"isolate\":\"BGI-DK2014a\",\"key\":\"2715315\",\"parent_tax_id\":\"64782\",\"rank\":\"SPECIES\",\"sci_name\":\"Acromyrmex charruanus\",\"tax_id\":\"2715315\",\"title\":\"Acromyrmex charruanus\"},\"seq_length\":\"296539234\",\"submission_date\":\"2021-03-29\",\"submitter\":\"BGI\"}},{\"assembly\": {\"annotation_metadata\":{\"busco\":{\"busco_lineage\":\"hymenoptera_odb10\",\"busco_ver\":\"4.0.2\",\"complete\":0.99265563,\"duplicated\":0.003171424,\"fragmented\":0.004172926,\"missing\":0.003171424,\"single_copy\":0.98948\n"
     ]
    }
   ],
   "source": [
    "%%bash\n",
    "# Get metadata info - this example output has been truncated to fit the notebook output screen in github\n",
    "# by printing only the first 1500 characters\n",
    "\n",
    "datasets summary genome taxon formicidae | cut -c1-1500\n",
    "\n",
    "# Original code run in the workshop\n",
    "# datasets summary genome taxon formicidae\n"
   ]
  },
  {
   "cell_type": "code",
   "execution_count": 3,
   "id": "9f1c4ea3",
   "metadata": {},
   "outputs": [],
   "source": [
    "%%bash\n",
    "# Get metadata info and save to a file\n",
    "datasets summary genome taxon formicidae > formicidae_summary.json"
   ]
  },
  {
   "cell_type": "markdown",
   "id": "dd676b9b",
   "metadata": {},
   "source": [
    "**Now let's take a look at the metadata using jq**"
   ]
  },
  {
   "cell_type": "code",
   "execution_count": 4,
   "id": "4206d799",
   "metadata": {},
   "outputs": [
    {
     "name": "stdout",
     "output_type": "stream",
     "text": [
      "{\n",
      "  \"assemblies\": [\n",
      "    {\n",
      "      \"assembly\": {\n",
      "        \"annotation_metadata\": {\n",
      "          \"file\": [\n",
      "            {\n",
      "              \"estimated_size\": \"3421616\",\n",
      "              \"type\": \"GENOME_GFF\"\n",
      "            },\n",
      "            {\n",
      "              \"estimated_size\": \"129483045\",\n",
      "              \"type\": \"GENOME_GBFF\"\n",
      "            },\n",
      "            {\n",
      "              \"estimated_size\": \"3444924\",\n",
      "              \"type\": \"PROT_FASTA\"\n",
      "            },\n",
      "            {\n",
      "              \"estimated_size\": \"2684704\",\n",
      "              \"type\": \"GENOME_GTF\"\n",
      "            },\n",
      "            {\n",
      "              \"estimated_size\": \"7862131\",\n",
      "              \"type\": \"CDS_FASTA\"\n",
      "            }\n",
      "          ],\n",
      "          \"name\": \"From INSDC submitter\",\n",
      "          \"release_date\": \"2021-03-29\",\n",
      "          \"source\": \"BGI\",\n",
      "          \"stats\": {\n",
      "            \"gene_counts\": {\n",
      "              \"protein_coding\": 8986,\n",
      "              \"total\": 14640\n",
      "            }\n",
      "          }\n",
      "        },\n",
      "        \"assembly_accession\": \"GCA_017607545.1\",\n",
      "        \"assembly_category\": \"representative genome\",\n",
      "        \"assembly_level\": \"Scaffold\",\n",
      "        \"bioproject_lineages\": [\n",
      "          {\n",
      "            \"bioprojects\": [\n",
      "              {\n",
      "                \"accession\": \"PRJNA605929\",\n",
      "                \"title\": \"Project of the leaf-cutting ants\"\n",
      "              }\n",
      "            ]\n",
      "          }\n",
      "        ],\n",
      "        \"biosample_accession\": \"SAMN14167745\",\n",
      "        \"blast_url\": \"https://blast.ncbi.nlm.nih.gov/Blast.cgi?PAGE_TYPE=BlastSearch&PROG_DEF=blastn&BLAST_SPEC=GDH_GCA_017607545.1\",\n",
      "        \"chromosomes\": [\n",
      "          {\n",
      "            \"length\": \"296539234\",\n",
      "            \"name\": \"Un\"\n",
      "          }\n",
      "        ],\n",
      "        \"contig_n50\": 34925,\n",
      "        \"display_name\": \"ASM1760754v1\",\n",
      "        \"estimated_size\": \"241200730\",\n",
      "        \"gc_count\": \"99149685\",\n",
      "        \"org\": {\n",
      "          \"assembly_counts\": {\n",
      "            \"node\": 1,\n",
      "            \"subtree\": 1\n",
      "          },\n",
      "          \"isolate\": \"BGI-DK2014a\",\n",
      "          \"key\": \"2715315\",\n",
      "          \"parent_tax_id\": \"64782\",\n",
      "          \"rank\": \"SPECIES\",\n",
      "          \"sci_name\": \"Acromyrmex charruanus\",\n",
      "          \"tax_id\": \"2715315\",\n",
      "          \"title\": \"Acromyrmex charruanus\"\n",
      "        },\n",
      "        \"seq_length\": \"296539234\",\n",
      "        \"submission_date\": \"2021-03-29\",\n",
      "        \"submitter\": \"BGI\"\n",
      "      }\n",
      "    },\n",
      "    {\n",
      "      \"assembly\": {\n",
      "        \"annotation_metadata\": {\n",
      "          \"busco\": {\n",
      "            \"busco_lineage\": \"hymenoptera_odb10\",\n",
      "            \"busco_ver\": \"4.0.2\",\n",
      "            \"complete\": 0.99265563,\n",
      "            \"duplicated\": 0.003171424,\n",
      "            \"fragmented\": 0.004172926,\n",
      "            \"missing\": 0.003171424,\n",
      "            \"single_copy\": 0.98948425,\n",
      "            \"total_count\": \"5991\"\n",
      "          },\n",
      "          \"file\": [\n",
      "            {\n",
      "              \"estimated_size\": \"5006475\",\n",
      "              \"type\": \"GENOME_GFF\"\n",
      "            },\n",
      "            {\n",
      "              \"estimated_size\": \"130785045\",\n"
     ]
    }
   ],
   "source": [
    "%%bash\n",
    "# this example has been truncated to fit the notebook output in github by only printing the first 100 lines\n",
    "datasets summary genome taxon formicidae | jq . | perl -ne'1..100 and print' \n",
    "\n",
    "# Original code run in the workshop\n",
    "# datasets summary genome taxon formicidae | jq . "
   ]
  },
  {
   "cell_type": "markdown",
   "id": "0c98b353",
   "metadata": {},
   "source": [
    "### A little bit more about json files\n",
    "A JSON (JavaScript Object Notation) file stores data structures and objects. In a very simplified (and non-technical) way, a JSON file is a box, that might contain other boxes with more boxes inside. In `datasets summary genome` our JSON \"box\" is organized like this:\n",
    "<img src=\"./images/json8.png\" alt=\"image\"/>"
   ]
  },
  {
   "cell_type": "markdown",
   "id": "bec22061",
   "metadata": {},
   "source": [
    "But let's explore the \"boxes\" in stages, so we can understand how everything is organized and how we can use this knowledge to extract information from the summary metadata file. At the first level, we have this: \n",
    "```\n",
    "{\n",
    " assemblies[\n",
    "      assembly{},\n",
    "      assembly{},\n",
    " ],\n",
    " total_count\n",
    "}\n",
    "```\n",
    "<img src=\"./images/json1.png\" />"
   ]
  },
  {
   "cell_type": "markdown",
   "id": "df8dc57c",
   "metadata": {},
   "source": [
    "If we want to look at the value in the field \"total_count\", here's the command we would use:"
   ]
  },
  {
   "cell_type": "code",
   "execution_count": 5,
   "id": "16dcb31e",
   "metadata": {},
   "outputs": [
    {
     "name": "stdout",
     "output_type": "stream",
     "text": [
      "5\n"
     ]
    }
   ],
   "source": [
    "%%bash\n",
    "datasets summary genome taxon herpestidae | jq '.total_count'"
   ]
  },
  {
   "cell_type": "markdown",
   "id": "648dbd10",
   "metadata": {},
   "source": [
    "If we continue to expand each one of those assembly boxes, more levels of the hierarchy will be revealed. Let's expand each assembly and look at what information we can find at that level.  \n",
    "\n",
    "<img src=\"./images/json2a.png\" alt=\"image\"/>"
   ]
  },
  {
   "cell_type": "markdown",
   "id": "3332c595",
   "metadata": {},
   "source": [
    "Here we can see that some of the assembly information, such as assembly accession number, contig N50 or submission date are not included inside any of the available \"boxes\" (annotation_metadata, chromosomes, bioproject_lineage, and org). Those fields describe assembly features/characteristics that pertain to the entire assembly, and not only any of those boxes available. What are the contig n50 values of those assemblies?\n",
    "\n",
    "To retrieve that information, we need to call each box, starting from the largest one, until the field we're interested in. And each level is separated from the next by a period (.). \n",
    "\n",
    "<img src=\"./images/json3.png\" />"
   ]
  },
  {
   "cell_type": "code",
   "execution_count": 6,
   "id": "bf818971",
   "metadata": {},
   "outputs": [
    {
     "name": "stdout",
     "output_type": "stream",
     "text": [
      "113567\n",
      "180702\n",
      "75409\n",
      "148487\n",
      "75409\n"
     ]
    }
   ],
   "source": [
    "%%bash\n",
    "datasets summary genome taxon herpestidae | jq '.assemblies[].assembly.contig_n50'"
   ]
  },
  {
   "cell_type": "markdown",
   "id": "c4998eb9",
   "metadata": {},
   "source": [
    "Now let's see what we have inside `annotation_metadata`, `bioproject_lineages`, `org` and `chromosomes`. \n",
    "<img src=\"./images/json8.png\" alt=\"image\"/>"
   ]
  },
  {
   "cell_type": "markdown",
   "id": "e4d84d63",
   "metadata": {},
   "source": [
    "Now let's see how we can retrieve the scientific names associated with those assemblies.\n",
    "<img src=\"./images/json4.png\" />"
   ]
  },
  {
   "cell_type": "code",
   "execution_count": 7,
   "id": "d4e19c50",
   "metadata": {},
   "outputs": [
    {
     "name": "stdout",
     "output_type": "stream",
     "text": [
      "\"Helogale parvula\"\n",
      "\"Mungos mungo\"\n",
      "\"Suricata suricatta\"\n",
      "\"Suricata suricatta\"\n",
      "\"Suricata suricatta\"\n"
     ]
    }
   ],
   "source": [
    "%%bash\n",
    "datasets summary genome taxon herpestidae | jq '.assemblies[].assembly.org.sci_name'"
   ]
  },
  {
   "cell_type": "markdown",
   "id": "7cb3fd67",
   "metadata": {},
   "source": [
    "As you can see, `jq` is very useful in retrieving information from the summary metadata *as long as* you know the path to find it. Let's try a few more complex examples.\n",
    "<img src=\"./images/json5.png\" />"
   ]
  },
  {
   "cell_type": "markdown",
   "id": "5a7bb1f1",
   "metadata": {},
   "source": [
    "First, let's retrieve information from three fields at the same time: scientific name (`sci_name`), assembly accession number (`assembly_accession`) and contig N50 (`contig_n50`)."
   ]
  },
  {
   "cell_type": "code",
   "execution_count": 8,
   "id": "0804f4ca",
   "metadata": {},
   "outputs": [
    {
     "name": "stdout",
     "output_type": "stream",
     "text": [
      "\"Helogale parvula\"\n",
      "\"GCA_004023845.1\"\n",
      "113567\n",
      "\"Mungos mungo\"\n",
      "\"GCA_004023785.1\"\n",
      "180702\n",
      "\"Suricata suricatta\"\n",
      "\"GCF_006229205.1\"\n",
      "75409\n",
      "\"Suricata suricatta\"\n",
      "\"GCA_004023905.1\"\n",
      "148487\n",
      "\"Suricata suricatta\"\n",
      "\"GCA_006229205.1\"\n",
      "75409\n"
     ]
    }
   ],
   "source": [
    "%%bash\n",
    "datasets summary genome taxon herpestidae | jq '.assemblies[].assembly | (.org.sci_name, .assembly_accession, .contig_n50)'"
   ]
  },
  {
   "cell_type": "markdown",
   "id": "d98060ff",
   "metadata": {},
   "source": [
    "Since all three fields are inside the `.assemblies[].assembly`, we can call the first part of the path once and use a pipe (|) to call each specific field. \n",
    "Now let's try to make this a little easier to read. We can create new fields and assign values to them, like this:"
   ]
  },
  {
   "cell_type": "code",
   "execution_count": 9,
   "id": "2237df0b",
   "metadata": {},
   "outputs": [
    {
     "name": "stdout",
     "output_type": "stream",
     "text": [
      "{\n",
      "  \"species\": \"Helogale parvula\",\n",
      "  \"accession\": \"GCA_004023845.1\",\n",
      "  \"contigN50\": 113567\n",
      "}\n",
      "{\n",
      "  \"species\": \"Mungos mungo\",\n",
      "  \"accession\": \"GCA_004023785.1\",\n",
      "  \"contigN50\": 180702\n",
      "}\n",
      "{\n",
      "  \"species\": \"Suricata suricatta\",\n",
      "  \"accession\": \"GCF_006229205.1\",\n",
      "  \"contigN50\": 75409\n",
      "}\n",
      "{\n",
      "  \"species\": \"Suricata suricatta\",\n",
      "  \"accession\": \"GCA_004023905.1\",\n",
      "  \"contigN50\": 148487\n",
      "}\n",
      "{\n",
      "  \"species\": \"Suricata suricatta\",\n",
      "  \"accession\": \"GCA_006229205.1\",\n",
      "  \"contigN50\": 75409\n",
      "}\n"
     ]
    }
   ],
   "source": [
    "%%bash\n",
    "datasets summary genome taxon herpestidae | jq '.assemblies[].assembly \n",
    "| {species: .org.sci_name, accession: .assembly_accession, contigN50:.contig_n50}'"
   ]
  },
  {
   "cell_type": "markdown",
   "id": "7a6fe95c",
   "metadata": {},
   "source": [
    "**Last one**: let's look at a larger collection of genome assemblies (let's say, all Carnivora) and select only those assemblies with contig N50 larger than 15 Mb (15000000 bp). `datasets` provides many options for filtering, but there is no built-in filter for contig N50 size.  \n",
    "\n",
    "Here's what we want to see: assembly accession number, species and assembly level for those genomes with contig N50 above 15 Mb."
   ]
  },
  {
   "cell_type": "code",
   "execution_count": 10,
   "id": "3f2a71f4",
   "metadata": {},
   "outputs": [
    {
     "name": "stdout",
     "output_type": "stream",
     "text": [
      "GCA_905319855.2\tCanis lupus\tChromosome\n",
      "GCF_012295265.1\tCanis lupus dingo\tChromosome\n",
      "GCA_003254725.2\tCanis lupus dingo\tChromosome\n",
      "GCA_012295265.1\tCanis lupus dingo\tChromosome\n",
      "GCF_000002285.5\tCanis lupus familiaris\tChromosome\n",
      "GCF_013276365.1\tCanis lupus familiaris\tChromosome\n",
      "GCA_000002285.4\tCanis lupus familiaris\tChromosome\n",
      "GCA_008641055.3\tCanis lupus familiaris\tChromosome\n",
      "GCA_013276365.2\tCanis lupus familiaris\tChromosome\n",
      "GCF_018350175.1\tFelis catus\tChromosome\n",
      "GCF_000181335.3\tFelis catus\tChromosome\n",
      "GCA_000181335.5\tFelis catus\tChromosome\n",
      "GCA_013340865.1\tFelis catus\tContig\n",
      "GCA_016509815.2\tFelis catus\tChromosome\n",
      "GCA_018350175.1\tFelis catus\tChromosome\n",
      "GCA_019924945.1\tFelis chaus\tChromosome\n",
      "GCF_018350155.1\tLeopardus geoffroyi\tChromosome\n",
      "GCA_018350155.1\tLeopardus geoffroyi\tChromosome\n",
      "GCA_902655055.2\tLutra lutra\tChromosome\n",
      "GCA_922984935.1\tMeles meles\tChromosome\n",
      "GCF_009829155.1\tMustela erminea\tChromosome\n",
      "GCA_009829155.1\tMustela erminea\tChromosome\n",
      "GCF_011764305.1\tMustela putorius furo\tContig\n",
      "GCA_009859125.1\tMustela putorius furo\tContig\n",
      "GCA_009859175.1\tMustela putorius furo\tContig\n",
      "GCA_009859215.1\tMustela putorius furo\tContig\n",
      "GCA_009859225.1\tMustela putorius furo\tContig\n",
      "GCA_009859235.1\tMustela putorius furo\tContig\n",
      "GCA_009859245.1\tMustela putorius furo\tContig\n",
      "GCA_009859265.1\tMustela putorius furo\tContig\n",
      "GCA_010015535.1\tMustela putorius furo\tContig\n",
      "GCA_010367565.1\tMustela putorius furo\tContig\n",
      "GCA_010367575.1\tMustela putorius furo\tContig\n",
      "GCA_011764305.2\tMustela putorius furo\tContig\n",
      "GCF_020171115.1\tNeogale vison\tChromosome\n",
      "GCA_020171115.1\tNeogale vison\tChromosome\n",
      "GCA_905146905.1\tNyctereutes procyonoides\tScaffold\n",
      "GCF_018350215.1\tPanthera leo\tChromosome\n",
      "GCA_018350215.1\tPanthera leo\tChromosome\n",
      "GCF_018350195.1\tPanthera tigris\tChromosome\n",
      "GCA_018350195.2\tPanthera tigris\tChromosome\n",
      "GCF_016509475.1\tPrionailurus bengalensis\tChromosome\n",
      "GCA_016509475.2\tPrionailurus bengalensis\tChromosome\n",
      "GCF_018345385.1\tVulpes lagopus\tChromosome\n",
      "GCA_018345385.1\tVulpes lagopus\tChromosome\n",
      "GCF_009762305.2\tZalophus californianus\tChromosome\n",
      "GCA_009762305.2\tZalophus californianus\tChromosome\n"
     ]
    }
   ],
   "source": [
    "%%bash\n",
    "datasets summary genome taxon carnivora | jq -r '.assemblies[].assembly \n",
    "| select(.contig_n50 > 15000000) \n",
    "| [.assembly_accession, .org.sci_name, .assembly_level] \n",
    "| @tsv'"
   ]
  },
  {
   "cell_type": "markdown",
   "id": "64bd7499",
   "metadata": {},
   "source": [
    "**RESOURCE:**  \n",
    "We included a list of all fields in the genome summary in our [jq cheatsheet](https://github.com/ncbi/datasets/blob/workshop-cshl-2021/training/cshl-2021/jq_cheatsheet.md) to help you extract the information you need. And we will show you now how to do that. "
   ]
  },
  {
   "cell_type": "markdown",
   "id": "2f550f75",
   "metadata": {},
   "source": [
    "### Let's continue to explore the available genomes for the family Formicidae\n",
    "\n",
    "<img src=\"./images/genome_summary.drawio.png\" alt=\"summary\" style=\"width: 600px\"/>"
   ]
  },
  {
   "cell_type": "markdown",
   "id": "87806b8c",
   "metadata": {},
   "source": [
    "For this part, we will use two UNIX commands: `sort` and `uniq`. \n",
    "\n",
    "- `sort` can be used to sort text files line by line, numerically and alphabetically.   \n",
    "- `uniq` will filter out the repeated lines in a file. However, `uniq` can only detect repeated lines if they are adjacent to each other. In other words, if they are alphabetically or numerically sorted. The flag `-c` or `--count` tells the command `uniq` to remove the repeated lines, and to count how many times each value appeared. \n",
    "\n",
    "So, we will use `jq` to extract the information we need, sort the result and count the number of unique entries."
   ]
  },
  {
   "cell_type": "code",
   "execution_count": 11,
   "id": "b2c1912d",
   "metadata": {},
   "outputs": [
    {
     "name": "stdout",
     "output_type": "stream",
     "text": [
      "   1 \"Acromyrmex charruanus\"\n",
      "   2 \"Acromyrmex echinatior\"\n",
      "   1 \"Acromyrmex heyeri\"\n",
      "   1 \"Acromyrmex insinuator\"\n",
      "   1 \"Aphaenogaster ashmeadi\"\n",
      "   1 \"Aphaenogaster floridana\"\n",
      "   1 \"Aphaenogaster fulva\"\n",
      "   1 \"Aphaenogaster miamiana\"\n",
      "   1 \"Aphaenogaster picea\"\n",
      "   2 \"Aphaenogaster rudis\"\n",
      "   2 \"Atta cephalotes\"\n",
      "   2 \"Atta colombica\"\n",
      "   1 \"Atta texana\"\n",
      "   4 \"Camponotus floridanus\"\n",
      "   1 \"Cardiocondyla obscurior\"\n",
      "   1 \"Cataglyphis hispanica\"\n",
      "   1 \"Cataglyphis niger\"\n",
      "   1 \"Crematogaster levior\"\n",
      "   2 \"Cyphomyrmex costatus\"\n",
      "   2 \"Dinoponera quadriceps\"\n",
      "   1 \"Eciton burchellii\"\n",
      "   1 \"Formica aquilonia x Formica polyctena\"\n",
      "   2 \"Formica exsecta\"\n",
      "   1 \"Formica selysi\"\n",
      "   4 \"Harpegnathos saltator\"\n",
      "   1 \"Lasius niger\"\n",
      "   2 \"Linepithema humile\"\n",
      "   7 \"Monomorium pharaonis\"\n",
      "   2 \"Nylanderia fulva\"\n",
      "   2 \"Odontomachus brunneus\"\n",
      "   4 \"Ooceraea biroi\"\n",
      "   2 \"Pogonomyrmex barbatus\"\n",
      "   1 \"Pogonomyrmex californicus\"\n",
      "   1 \"Pseudoatta argentina\"\n",
      "   1 \"Pseudomyrmex concolor\"\n",
      "   1 \"Pseudomyrmex cubaensis\"\n",
      "   1 \"Pseudomyrmex dendroicus\"\n",
      "   1 \"Pseudomyrmex elongatus\"\n",
      "   1 \"Pseudomyrmex flavicornis\"\n",
      "   2 \"Pseudomyrmex gracilis\"\n",
      "   1 \"Pseudomyrmex pallidus\"\n",
      "   1 \"Pseudomyrmex sp. PSW-54\"\n",
      "   1 \"Solenopsis fugax\"\n",
      "  10 \"Solenopsis invicta\"\n",
      "   2 \"Temnothorax curvispinosus\"\n",
      "   1 \"Temnothorax longispinosus\"\n",
      "   1 \"Tetramorium bicarinatum\"\n",
      "   1 \"Tetramorium immigrans\"\n",
      "   1 \"Tetramorium parvispinum\"\n",
      "   1 \"Tetramorium simillimum\"\n",
      "   2 \"Trachymyrmex cornetzi\"\n",
      "   2 \"Trachymyrmex septentrionalis\"\n",
      "   2 \"Trachymyrmex zeteki\"\n",
      "   2 \"Vollenhovia emeryi\"\n",
      "   2 \"Wasmannia auropunctata\"\n"
     ]
    }
   ],
   "source": [
    "%%bash\n",
    "# For which species does NCBI have genomes in its database? How many per species?\n",
    "\n",
    "datasets summary genome taxon formicidae | jq '.assemblies[].assembly.org.sci_name' | sort | uniq -c"
   ]
  },
  {
   "cell_type": "code",
   "execution_count": 12,
   "id": "6c953fbd",
   "metadata": {},
   "outputs": [
    {
     "name": "stdout",
     "output_type": "stream",
     "text": [
      "  12 \"Chromosome\"\n",
      "   1 \"Contig\"\n",
      "  84 \"Scaffold\"\n"
     ]
    }
   ],
   "source": [
    "%%bash\n",
    "# What is the assembly level (contig, scaffold, chromosome, complete) breakdown?\n",
    "\n",
    "datasets summary genome taxon formicidae | jq '.assemblies[].assembly.assembly_level' | sort | uniq -c"
   ]
  },
  {
   "cell_type": "markdown",
   "id": "ed84aedf",
   "metadata": {},
   "source": [
    "### How to get help when using the command line\n",
    "\n",
    "Since `datasets` is a very hierarchical program, we can use that characteristic to our advantage to get very specific help.   For example: if we type `datasets --help`, we will see the first level of commands available.\n"
   ]
  },
  {
   "cell_type": "code",
   "execution_count": 13,
   "id": "d219e750",
   "metadata": {},
   "outputs": [
    {
     "name": "stdout",
     "output_type": "stream",
     "text": [
      "datasets is a command-line tool that is used to query and download biological sequence data\n",
      "across all domains of life from NCBI databases.\n",
      "\n",
      "Refer to NCBI's [command line quickstart](https://www.ncbi.nlm.nih.gov/datasets/docs/quickstarts/command-line-tools/) documentation for information about getting started with the command-line tools.\n",
      "\n",
      "Usage\n",
      "  datasets [command]\n",
      "\n",
      "Data Retrieval Commands\n",
      "  summary              print a summary of a gene or genome dataset\n",
      "  download             download a gene, genome or coronavirus dataset as a zip file\n",
      "  rehydrate            rehydrate a downloaded, dehydrated dataset\n",
      "\n",
      "Miscellaneous Commands\n",
      "  completion           generate autocompletion scripts\n",
      "  version              print the version of this client and exit\n",
      "  help                 Help about any command\n",
      "\n",
      "Flags\n",
      "      --api-key string   NCBI Datasets API Key\n",
      "  -h, --help             help for datasets\n",
      "      --no-progressbar   hide progress bar\n",
      "\n",
      "Use datasets help <command> for detailed help about a command.\n"
     ]
    }
   ],
   "source": [
    "%%bash\n",
    "datasets --help"
   ]
  },
  {
   "cell_type": "markdown",
   "id": "db05f935",
   "metadata": {},
   "source": [
    "Notice the difference from when we type `datasets summary genome taxon formicidae --help`  \n"
   ]
  },
  {
   "cell_type": "code",
   "execution_count": 14,
   "id": "a09930dd",
   "metadata": {},
   "outputs": [
    {
     "name": "stdout",
     "output_type": "stream",
     "text": [
      "\n",
      "Print a summary of a genome dataset by taxon (NCBI Taxonomy ID, scientific or common name at any tax rank). The summary is returned in JSON format.\n",
      "\n",
      "Refer to NCBI's [command line quickstart](https://www.ncbi.nlm.nih.gov/datasets/docs/quickstarts/command-line-tools/) documentation for information about getting started with the command-line tools.\n",
      "\n",
      "Usage\n",
      "  datasets summary genome taxon [flags]\n",
      "\n",
      "Examples\n",
      "  datasets summary genome taxon human\n",
      "  datasets summary genome taxon \"mus musculus\"\n",
      "  datasets summary genome taxon 10116\n",
      "\n",
      "Flags\n",
      "  -h, --help              help for taxon\n",
      "      --tax-exact-match   exclude sub-species when a species-level taxon is specified\n",
      "\n",
      "\n",
      "Global Flags\n",
      "  -a, --annotated                only include genomes with annotation\n",
      "      --api-key string           NCBI Datasets API Key\n",
      "      --as-json-lines            Stream results as newline delimited JSON-Lines\n",
      "      --assembly-level string    restrict assemblies to a comma-separated list of one or more of: chromosome, complete_genome, contig, scaffold\n",
      "      --assembly-source string   restrict assemblies to refseq or genbank only\n",
      "      --assmaccs                 return only assembly accessions\n",
      "      --limit string             limit the number of genome summaries returned\n",
      "                                 * \"all\": returns all matching genome summaries\n",
      "                                 * \"none\": returns only the number of matching genome summaries\n",
      "                                 * a number: returns the specified number of matching genome summaries\n",
      "                                  (default \"all\")\n",
      "      --no-progressbar           hide progress bar\n",
      "      --reference                limit to reference and representative (GCF_ and GCA_) assemblies\n",
      "      --released-before string   only include genomes that have been released before a specified date (MM/DD/YYYY)\n",
      "      --released-since string    only include genomes that have been released after a specified date (MM/DD/YYYY)\n",
      "      --search strings           only include genomes that have the specified text in the\n",
      "                                 searchable fields: species and infraspecies, assembly name and submitter\n",
      "                                 To provide multiple strings '--search' can be included multiple times\n",
      "\n"
     ]
    }
   ],
   "source": [
    "%%bash\n",
    "datasets summary genome taxon formicidae --help"
   ]
  },
  {
   "cell_type": "markdown",
   "id": "598672be",
   "metadata": {},
   "source": [
    "### Exercises\n",
    "\n",
    "Now we will practice what we learned about `datasets`. Take a look at the questions below and feel free to ask questions. Useful resources for this exercise are the `--help` from the command line and the [jq cheatsheet](). \n"
   ]
  },
  {
   "cell_type": "code",
   "execution_count": 15,
   "id": "7c88ac9b",
   "metadata": {},
   "outputs": [],
   "source": [
    "%%bash\n",
    "# How many reference genomes in the family Formicidae? (hint --reference)\n",
    "\n"
   ]
  },
  {
   "cell_type": "code",
   "execution_count": 16,
   "id": "e5632797",
   "metadata": {},
   "outputs": [],
   "source": [
    "%%bash\n",
    "# How many reference genomes are annotated? (hint: --annotated)\n",
    "\n"
   ]
  },
  {
   "cell_type": "code",
   "execution_count": 17,
   "id": "462d4858",
   "metadata": {},
   "outputs": [],
   "source": [
    "%%bash\n",
    "# How many genomes have NCBI (RefSeq) annotations? (hint: --assembly-source)\n",
    "\n"
   ]
  },
  {
   "cell_type": "markdown",
   "id": "507517eb",
   "metadata": {},
   "source": [
    "### Bonus questions:"
   ]
  },
  {
   "cell_type": "code",
   "execution_count": 18,
   "id": "b74655c4",
   "metadata": {},
   "outputs": [],
   "source": [
    "%%bash\n",
    "## Take a look at the jq cheat sheet (link here) and try to build a jq query for the metadata\n",
    "\n"
   ]
  },
  {
   "cell_type": "code",
   "execution_count": 19,
   "id": "c114d6ee",
   "metadata": {},
   "outputs": [],
   "source": [
    "%%bash\n",
    "# Now look at the summary metadata for your organism of interest \n",
    "# (if you don't have a favorite, go with red panda, Ailurus fulgens, taxid: 9649)\n",
    "\n"
   ]
  },
  {
   "cell_type": "code",
   "execution_count": 20,
   "id": "62ff1beb",
   "metadata": {},
   "outputs": [],
   "source": [
    "%%bash\n",
    "# How many genomes?\n",
    "\n"
   ]
  },
  {
   "cell_type": "code",
   "execution_count": 21,
   "id": "308bd3d3",
   "metadata": {},
   "outputs": [],
   "source": [
    "%%bash\n",
    "# Assembly level breakdown\n",
    "\n"
   ]
  },
  {
   "cell_type": "code",
   "execution_count": 22,
   "id": "9bf4dbee",
   "metadata": {},
   "outputs": [],
   "source": [
    "%%bash\n",
    "# How many genomes have a contig N50 value above 15Mb?\n",
    "\n"
   ]
  },
  {
   "cell_type": "markdown",
   "id": "6c3bdb20",
   "metadata": {},
   "source": [
    "### Back to the main room\n"
   ]
  },
  {
   "cell_type": "markdown",
   "id": "6b9ce67e",
   "metadata": {},
   "source": [
    "### What is the difference/relationship between Genbank, RefSeq and Reference assemblies?\n",
    "\n",
    "<img src=\"./images/gca_gcf.png\" alt=\"ref\" />"
   ]
  },
  {
   "cell_type": "markdown",
   "id": "d66b33f7",
   "metadata": {},
   "source": [
    "### Data package\n",
    "\n",
    "We explored the `datasets summary` option, in which we had a chance to look at the summary metadata ***without*** downloading any files. In the next steps, we will look at the data packages, which contain the actual data files. \n",
    "\n",
    "<img src=\"./images/genome_data_package.png\" alt=\"data_package\" />"
   ]
  },
  {
   "cell_type": "code",
   "execution_count": 23,
   "id": "fa1fd70d",
   "metadata": {},
   "outputs": [],
   "source": [
    "%%bash\n",
    "# Download all available GenBank assemblies for the genus Acromyrmex and save as genomes.zip\n",
    "datasets download genome taxon acromyrmex --assembly-source genbank --filename genomes.zip --no-progressbar"
   ]
  },
  {
   "cell_type": "code",
   "execution_count": 24,
   "id": "5f57b5e8",
   "metadata": {},
   "outputs": [
    {
     "name": "stdout",
     "output_type": "stream",
     "text": [
      "Archive:  genomes.zip\n",
      "  inflating: genomes/README.md       \n",
      "  inflating: genomes/ncbi_dataset/data/assembly_data_report.jsonl  \n",
      "  inflating: genomes/ncbi_dataset/data/GCA_000204515.1/unplaced.scaf.fna  \n",
      "  inflating: genomes/ncbi_dataset/data/GCA_000204515.1/cds_from_genomic.fna  \n",
      "  inflating: genomes/ncbi_dataset/data/GCA_000204515.1/genomic.gff  \n",
      "  inflating: genomes/ncbi_dataset/data/GCA_000204515.1/protein.faa  \n",
      "  inflating: genomes/ncbi_dataset/data/GCA_017607455.1/GCA_017607455.1_ASM1760745v1_genomic.fna  \n",
      "  inflating: genomes/ncbi_dataset/data/GCA_017607455.1/cds_from_genomic.fna  \n",
      "  inflating: genomes/ncbi_dataset/data/GCA_017607455.1/genomic.gff  \n",
      "  inflating: genomes/ncbi_dataset/data/GCA_017607455.1/protein.faa  \n",
      "  inflating: genomes/ncbi_dataset/data/GCA_017607545.1/GCA_017607545.1_ASM1760754v1_genomic.fna  \n",
      "  inflating: genomes/ncbi_dataset/data/GCA_017607545.1/cds_from_genomic.fna  \n",
      "  inflating: genomes/ncbi_dataset/data/GCA_017607545.1/genomic.gff  \n",
      "  inflating: genomes/ncbi_dataset/data/GCA_017607545.1/protein.faa  \n",
      "  inflating: genomes/ncbi_dataset/data/GCA_017607565.1/GCA_017607565.1_ASM1760756v1_genomic.fna  \n",
      "  inflating: genomes/ncbi_dataset/data/GCA_017607565.1/cds_from_genomic.fna  \n",
      "  inflating: genomes/ncbi_dataset/data/GCA_017607565.1/genomic.gff  \n",
      "  inflating: genomes/ncbi_dataset/data/GCA_017607565.1/protein.faa  \n",
      "  inflating: genomes/ncbi_dataset/data/GCA_000204515.1/sequence_report.jsonl  \n",
      "  inflating: genomes/ncbi_dataset/data/GCA_017607455.1/sequence_report.jsonl  \n",
      "  inflating: genomes/ncbi_dataset/data/dataset_catalog.json  \n"
     ]
    }
   ],
   "source": [
    "%%bash\n",
    "# Unzip genomes.zip to the folder genomes\n",
    "unzip -o genomes.zip -d genomes"
   ]
  },
  {
   "cell_type": "code",
   "execution_count": 25,
   "id": "f3337168",
   "metadata": {},
   "outputs": [
    {
     "name": "stdout",
     "output_type": "stream",
     "text": [
      "\u001b[01;34mgenomes/\u001b[00m\n",
      "├── README.md\n",
      "└── \u001b[01;34mncbi_dataset\u001b[00m\n",
      "    └── \u001b[01;34mdata\u001b[00m\n",
      "        ├── \u001b[01;34mGCA_000204515.1\u001b[00m\n",
      "        │   ├── cds_from_genomic.fna\n",
      "        │   ├── genomic.gff\n",
      "        │   ├── protein.faa\n",
      "        │   ├── sequence_report.jsonl\n",
      "        │   └── unplaced.scaf.fna\n",
      "        ├── \u001b[01;34mGCA_017607455.1\u001b[00m\n",
      "        │   ├── GCA_017607455.1_ASM1760745v1_genomic.fna\n",
      "        │   ├── cds_from_genomic.fna\n",
      "        │   ├── genomic.gff\n",
      "        │   ├── protein.faa\n",
      "        │   └── sequence_report.jsonl\n",
      "        ├── \u001b[01;34mGCA_017607545.1\u001b[00m\n",
      "        │   ├── GCA_017607545.1_ASM1760754v1_genomic.fna\n",
      "        │   ├── cds_from_genomic.fna\n",
      "        │   ├── genomic.gff\n",
      "        │   └── protein.faa\n",
      "        ├── \u001b[01;34mGCA_017607565.1\u001b[00m\n",
      "        │   ├── GCA_017607565.1_ASM1760756v1_genomic.fna\n",
      "        │   ├── cds_from_genomic.fna\n",
      "        │   ├── genomic.gff\n",
      "        │   └── protein.faa\n",
      "        ├── assembly_data_report.jsonl\n",
      "        └── dataset_catalog.json\n",
      "\n",
      "6 directories, 21 files\n"
     ]
    }
   ],
   "source": [
    "%%bash\n",
    "# Explore the folder structure of the folder genome with the command tree\n",
    "tree -C genomes/"
   ]
  },
  {
   "cell_type": "markdown",
   "id": "77a0fe05",
   "metadata": {},
   "source": [
    "### Let's recap our goals\n",
    "\n",
    "We used `datasets` to download all the Genbank assemblies for the genus *Acromyrmex*. The next step is to download the gene *orco* (odorance receptor coreceptor) for the same genus. But first, let's learn more about how genes are organized at NCBI.\n",
    "\n",
    "<img src=\"./images/elmo_done1.png\" alt=\"done1\" style=\"width: 500px;\" />"
   ]
  },
  {
   "cell_type": "markdown",
   "id": "92c031a1",
   "metadata": {},
   "source": [
    "## Part II: Accessing genes <a class=\"anchor\" id=\"Part-II\"></a>\n",
    "### GENES\n",
    "\n",
    "Independent of choosing `datasets download` or `datasets summary`, there are three options for retrieving gene information:\n",
    "- accession\n",
    "- gene-id\n",
    "- symbol\n",
    "\n",
    "<img src=\"./images/genes_op2.png\" style=\"width: 800px;\"/>\n"
   ]
  },
  {
   "cell_type": "markdown",
   "id": "5b4d055b",
   "metadata": {},
   "source": [
    "When choosing any of those three options, you will retrieve the gene information for the **reference** taxon. Like this:\n",
    "\n",
    "`datasets download gene accession XR_002738142.1`  \n",
    "`datasets download gene gene-id 101081937`  \n",
    "`datasets download gene symbol BRCA1 --taxon cat`  \n",
    "\n",
    "All three commands will download the same gene from the cat (<i>Felis catus</i>) <u>reference genome</u>. \n",
    "\n",
    "#### accession\n",
    "Unique identifier. Accession includes RefSeq RNA and protein accessions. Since it's unique, taxon is implied (aka there will never be two sequences from different taxa with the same accession number).  \n",
    "\n",
    "#### gene-id\n",
    "Also a unique identifier. Every RefSeq genome annotated has a unique set of identifiers. For example: the gene-id for BRCA1 in human is 672, while in cat is 101081937.  \n",
    "\n",
    "#### symbol\n",
    "Differently from accession and gene-id, gene symbol is not unique and means different things in different taxonomic groups. If using the symbol option, you should specify the species. The default option is human.\n",
    "\n",
    "**Remember**: both `summary` and `download` will return results for the **reference assembly** of a <u>single species</u>. If you want to download a curated set of the same gene for multiple taxa, you should use the option `ortholog`. We'll talk more about it later. For reference, here's the JSON organization of the gene summary metadata.  \n",
    "\n",
    "<img src=\"./images/gene_json.drawio.png\" />\n",
    "\n",
    "Now let's take a look at a gene example:"
   ]
  },
  {
   "cell_type": "code",
   "execution_count": 26,
   "id": "6e2b6fe8",
   "metadata": {},
   "outputs": [
    {
     "name": "stdout",
     "output_type": "stream",
     "text": [
      "\u001b[1;39m{\n",
      "  \u001b[0m\u001b[34;1m\"genes\"\u001b[0m\u001b[1;39m: \u001b[0m\u001b[1;39m[\n",
      "    \u001b[1;39m{\n",
      "      \u001b[0m\u001b[34;1m\"gene\"\u001b[0m\u001b[1;39m: \u001b[0m\u001b[1;39m{\n",
      "        \u001b[0m\u001b[34;1m\"annotations\"\u001b[0m\u001b[1;39m: \u001b[0m\u001b[1;39m[\n",
      "          \u001b[1;39m{\n",
      "            \u001b[0m\u001b[34;1m\"assemblies_in_scope\"\u001b[0m\u001b[1;39m: \u001b[0m\u001b[1;39m[\n",
      "              \u001b[1;39m{\n",
      "                \u001b[0m\u001b[34;1m\"accession\"\u001b[0m\u001b[1;39m: \u001b[0m\u001b[0;32m\"GCF_000001405.39\"\u001b[0m\u001b[1;39m,\n",
      "                \u001b[0m\u001b[34;1m\"name\"\u001b[0m\u001b[1;39m: \u001b[0m\u001b[0;32m\"GRCh38.p13\"\u001b[0m\u001b[1;39m\n",
      "              \u001b[1;39m}\u001b[0m\u001b[1;39m\n",
      "            \u001b[1;39m]\u001b[0m\u001b[1;39m,\n",
      "            \u001b[0m\u001b[34;1m\"release_date\"\u001b[0m\u001b[1;39m: \u001b[0m\u001b[0;32m\"2021-11-19\"\u001b[0m\u001b[1;39m,\n",
      "            \u001b[0m\u001b[34;1m\"release_name\"\u001b[0m\u001b[1;39m: \u001b[0m\u001b[0;32m\"NCBI Homo sapiens Updated Annotation Release 109.20211119\"\u001b[0m\u001b[1;39m\n",
      "          \u001b[1;39m}\u001b[0m\u001b[1;39m\n",
      "        \u001b[1;39m]\u001b[0m\u001b[1;39m,\n",
      "        \u001b[0m\u001b[34;1m\"chromosomes\"\u001b[0m\u001b[1;39m: \u001b[0m\u001b[1;39m[\n",
      "          \u001b[0;32m\"12\"\u001b[0m\u001b[1;39m\n",
      "        \u001b[1;39m]\u001b[0m\u001b[1;39m,\n",
      "        \u001b[0m\u001b[34;1m\"common_name\"\u001b[0m\u001b[1;39m: \u001b[0m\u001b[0;32m\"human\"\u001b[0m\u001b[1;39m,\n",
      "        \u001b[0m\u001b[34;1m\"description\"\u001b[0m\u001b[1;39m: \u001b[0m\u001b[0;32m\"interferon gamma\"\u001b[0m\u001b[1;39m,\n",
      "        \u001b[0m\u001b[34;1m\"ensembl_gene_ids\"\u001b[0m\u001b[1;39m: \u001b[0m\u001b[1;39m[\n",
      "          \u001b[0;32m\"ENSG00000111537\"\u001b[0m\u001b[1;39m\n",
      "        \u001b[1;39m]\u001b[0m\u001b[1;39m,\n",
      "        \u001b[0m\u001b[34;1m\"gene_id\"\u001b[0m\u001b[1;39m: \u001b[0m\u001b[0;32m\"3458\"\u001b[0m\u001b[1;39m,\n",
      "        \u001b[0m\u001b[34;1m\"genomic_ranges\"\u001b[0m\u001b[1;39m: \u001b[0m\u001b[1;39m[\n",
      "          \u001b[1;39m{\n",
      "            \u001b[0m\u001b[34;1m\"accession_version\"\u001b[0m\u001b[1;39m: \u001b[0m\u001b[0;32m\"NC_000012.12\"\u001b[0m\u001b[1;39m,\n",
      "            \u001b[0m\u001b[34;1m\"range\"\u001b[0m\u001b[1;39m: \u001b[0m\u001b[1;39m[\n",
      "              \u001b[1;39m{\n",
      "                \u001b[0m\u001b[34;1m\"begin\"\u001b[0m\u001b[1;39m: \u001b[0m\u001b[0;32m\"68154768\"\u001b[0m\u001b[1;39m,\n",
      "                \u001b[0m\u001b[34;1m\"end\"\u001b[0m\u001b[1;39m: \u001b[0m\u001b[0;32m\"68159740\"\u001b[0m\u001b[1;39m,\n",
      "                \u001b[0m\u001b[34;1m\"orientation\"\u001b[0m\u001b[1;39m: \u001b[0m\u001b[0;32m\"minus\"\u001b[0m\u001b[1;39m\n",
      "              \u001b[1;39m}\u001b[0m\u001b[1;39m\n",
      "            \u001b[1;39m]\u001b[0m\u001b[1;39m\n",
      "          \u001b[1;39m}\u001b[0m\u001b[1;39m\n",
      "        \u001b[1;39m]\u001b[0m\u001b[1;39m,\n",
      "        \u001b[0m\u001b[34;1m\"nomenclature_authority\"\u001b[0m\u001b[1;39m: \u001b[0m\u001b[1;39m{\n",
      "          \u001b[0m\u001b[34;1m\"authority\"\u001b[0m\u001b[1;39m: \u001b[0m\u001b[0;32m\"HGNC\"\u001b[0m\u001b[1;39m,\n",
      "          \u001b[0m\u001b[34;1m\"identifier\"\u001b[0m\u001b[1;39m: \u001b[0m\u001b[0;32m\"HGNC:5438\"\u001b[0m\u001b[1;39m\n",
      "        \u001b[1;39m}\u001b[0m\u001b[1;39m,\n",
      "        \u001b[0m\u001b[34;1m\"omim_ids\"\u001b[0m\u001b[1;39m: \u001b[0m\u001b[1;39m[\n",
      "          \u001b[0;32m\"147570\"\u001b[0m\u001b[1;39m\n",
      "        \u001b[1;39m]\u001b[0m\u001b[1;39m,\n",
      "        \u001b[0m\u001b[34;1m\"orientation\"\u001b[0m\u001b[1;39m: \u001b[0m\u001b[0;32m\"minus\"\u001b[0m\u001b[1;39m,\n",
      "        \u001b[0m\u001b[34;1m\"reference_standards\"\u001b[0m\u001b[1;39m: \u001b[0m\u001b[1;39m[\n",
      "          \u001b[1;39m{\n",
      "            \u001b[0m\u001b[34;1m\"gene_range\"\u001b[0m\u001b[1;39m: \u001b[0m\u001b[1;39m{\n",
      "              \u001b[0m\u001b[34;1m\"accession_version\"\u001b[0m\u001b[1;39m: \u001b[0m\u001b[0;32m\"NG_015840.1\"\u001b[0m\u001b[1;39m,\n",
      "              \u001b[0m\u001b[34;1m\"range\"\u001b[0m\u001b[1;39m: \u001b[0m\u001b[1;39m[\n",
      "                \u001b[1;39m{\n",
      "                  \u001b[0m\u001b[34;1m\"begin\"\u001b[0m\u001b[1;39m: \u001b[0m\u001b[0;32m\"5002\"\u001b[0m\u001b[1;39m,\n",
      "                  \u001b[0m\u001b[34;1m\"end\"\u001b[0m\u001b[1;39m: \u001b[0m\u001b[0;32m\"9974\"\u001b[0m\u001b[1;39m,\n",
      "                  \u001b[0m\u001b[34;1m\"orientation\"\u001b[0m\u001b[1;39m: \u001b[0m\u001b[0;32m\"plus\"\u001b[0m\u001b[1;39m\n",
      "                \u001b[1;39m}\u001b[0m\u001b[1;39m\n",
      "              \u001b[1;39m]\u001b[0m\u001b[1;39m\n",
      "            \u001b[1;39m}\u001b[0m\u001b[1;39m,\n",
      "            \u001b[0m\u001b[34;1m\"type\"\u001b[0m\u001b[1;39m: \u001b[0m\u001b[0;32m\"REFSEQ_GENE\"\u001b[0m\u001b[1;39m\n",
      "          \u001b[1;39m}\u001b[0m\u001b[1;39m\n",
      "        \u001b[1;39m]\u001b[0m\u001b[1;39m,\n",
      "        \u001b[0m\u001b[34;1m\"swiss_prot_accessions\"\u001b[0m\u001b[1;39m: \u001b[0m\u001b[1;39m[\n",
      "          \u001b[0;32m\"P01579\"\u001b[0m\u001b[1;39m\n",
      "        \u001b[1;39m]\u001b[0m\u001b[1;39m,\n",
      "        \u001b[0m\u001b[34;1m\"symbol\"\u001b[0m\u001b[1;39m: \u001b[0m\u001b[0;32m\"IFNG\"\u001b[0m\u001b[1;39m,\n",
      "        \u001b[0m\u001b[34;1m\"synonyms\"\u001b[0m\u001b[1;39m: \u001b[0m\u001b[1;39m[\n",
      "          \u001b[0;32m\"IFG\"\u001b[0m\u001b[1;39m,\n",
      "          \u001b[0;32m\"IFI\"\u001b[0m\u001b[1;39m,\n",
      "          \u001b[0;32m\"IMD69\"\u001b[0m\u001b[1;39m\n",
      "        \u001b[1;39m]\u001b[0m\u001b[1;39m,\n",
      "        \u001b[0m\u001b[34;1m\"tax_id\"\u001b[0m\u001b[1;39m: \u001b[0m\u001b[0;32m\"9606\"\u001b[0m\u001b[1;39m,\n",
      "        \u001b[0m\u001b[34;1m\"taxname\"\u001b[0m\u001b[1;39m: \u001b[0m\u001b[0;32m\"Homo sapiens\"\u001b[0m\u001b[1;39m,\n",
      "        \u001b[0m\u001b[34;1m\"transcripts\"\u001b[0m\u001b[1;39m: \u001b[0m\u001b[1;39m[\n",
      "          \u001b[1;39m{\n",
      "            \u001b[0m\u001b[34;1m\"accession_version\"\u001b[0m\u001b[1;39m: \u001b[0m\u001b[0;32m\"NM_000619.3\"\u001b[0m\u001b[1;39m,\n",
      "            \u001b[0m\u001b[34;1m\"cds\"\u001b[0m\u001b[1;39m: \u001b[0m\u001b[1;39m{\n",
      "              \u001b[0m\u001b[34;1m\"accession_version\"\u001b[0m\u001b[1;39m: \u001b[0m\u001b[0;32m\"NM_000619.3\"\u001b[0m\u001b[1;39m,\n",
      "              \u001b[0m\u001b[34;1m\"range\"\u001b[0m\u001b[1;39m: \u001b[0m\u001b[1;39m[\n",
      "                \u001b[1;39m{\n",
      "                  \u001b[0m\u001b[34;1m\"begin\"\u001b[0m\u001b[1;39m: \u001b[0m\u001b[0;32m\"126\"\u001b[0m\u001b[1;39m,\n",
      "                  \u001b[0m\u001b[34;1m\"end\"\u001b[0m\u001b[1;39m: \u001b[0m\u001b[0;32m\"626\"\u001b[0m\u001b[1;39m\n",
      "                \u001b[1;39m}\u001b[0m\u001b[1;39m\n",
      "              \u001b[1;39m]\u001b[0m\u001b[1;39m\n",
      "            \u001b[1;39m}\u001b[0m\u001b[1;39m,\n",
      "            \u001b[0m\u001b[34;1m\"ensembl_transcript\"\u001b[0m\u001b[1;39m: \u001b[0m\u001b[0;32m\"ENST00000229135.4\"\u001b[0m\u001b[1;39m,\n",
      "            \u001b[0m\u001b[34;1m\"exons\"\u001b[0m\u001b[1;39m: \u001b[0m\u001b[1;39m{\n",
      "              \u001b[0m\u001b[34;1m\"accession_version\"\u001b[0m\u001b[1;39m: \u001b[0m\u001b[0;32m\"NC_000012.12\"\u001b[0m\u001b[1;39m,\n",
      "              \u001b[0m\u001b[34;1m\"range\"\u001b[0m\u001b[1;39m: \u001b[0m\u001b[1;39m[\n",
      "                \u001b[1;39m{\n",
      "                  \u001b[0m\u001b[34;1m\"begin\"\u001b[0m\u001b[1;39m: \u001b[0m\u001b[0;32m\"68159502\"\u001b[0m\u001b[1;39m,\n",
      "                  \u001b[0m\u001b[34;1m\"end\"\u001b[0m\u001b[1;39m: \u001b[0m\u001b[0;32m\"68159740\"\u001b[0m\u001b[1;39m,\n",
      "                  \u001b[0m\u001b[34;1m\"order\"\u001b[0m\u001b[1;39m: \u001b[0m\u001b[0;39m1\u001b[0m\u001b[1;39m\n",
      "                \u001b[1;39m}\u001b[0m\u001b[1;39m,\n",
      "                \u001b[1;39m{\n",
      "                  \u001b[0m\u001b[34;1m\"begin\"\u001b[0m\u001b[1;39m: \u001b[0m\u001b[0;32m\"68158191\"\u001b[0m\u001b[1;39m,\n",
      "                  \u001b[0m\u001b[34;1m\"end\"\u001b[0m\u001b[1;39m: \u001b[0m\u001b[0;32m\"68158259\"\u001b[0m\u001b[1;39m,\n",
      "                  \u001b[0m\u001b[34;1m\"order\"\u001b[0m\u001b[1;39m: \u001b[0m\u001b[0;39m2\u001b[0m\u001b[1;39m\n",
      "                \u001b[1;39m}\u001b[0m\u001b[1;39m,\n",
      "                \u001b[1;39m{\n",
      "                  \u001b[0m\u001b[34;1m\"begin\"\u001b[0m\u001b[1;39m: \u001b[0m\u001b[0;32m\"68157913\"\u001b[0m\u001b[1;39m,\n",
      "                  \u001b[0m\u001b[34;1m\"end\"\u001b[0m\u001b[1;39m: \u001b[0m\u001b[0;32m\"68158095\"\u001b[0m\u001b[1;39m,\n",
      "                  \u001b[0m\u001b[34;1m\"order\"\u001b[0m\u001b[1;39m: \u001b[0m\u001b[0;39m3\u001b[0m\u001b[1;39m\n",
      "                \u001b[1;39m}\u001b[0m\u001b[1;39m,\n",
      "                \u001b[1;39m{\n",
      "                  \u001b[0m\u001b[34;1m\"begin\"\u001b[0m\u001b[1;39m: \u001b[0m\u001b[0;32m\"68154768\"\u001b[0m\u001b[1;39m,\n",
      "                  \u001b[0m\u001b[34;1m\"end\"\u001b[0m\u001b[1;39m: \u001b[0m\u001b[0;32m\"68155487\"\u001b[0m\u001b[1;39m,\n",
      "                  \u001b[0m\u001b[34;1m\"order\"\u001b[0m\u001b[1;39m: \u001b[0m\u001b[0;39m4\u001b[0m\u001b[1;39m\n",
      "                \u001b[1;39m}\u001b[0m\u001b[1;39m\n",
      "              \u001b[1;39m]\u001b[0m\u001b[1;39m\n",
      "            \u001b[1;39m}\u001b[0m\u001b[1;39m,\n",
      "            \u001b[0m\u001b[34;1m\"genomic_locations\"\u001b[0m\u001b[1;39m: \u001b[0m\u001b[1;39m[\n",
      "              \u001b[1;39m{\n",
      "                \u001b[0m\u001b[34;1m\"exons\"\u001b[0m\u001b[1;39m: \u001b[0m\u001b[1;39m[\n",
      "                  \u001b[1;39m{\n",
      "                    \u001b[0m\u001b[34;1m\"begin\"\u001b[0m\u001b[1;39m: \u001b[0m\u001b[0;32m\"68159502\"\u001b[0m\u001b[1;39m,\n",
      "                    \u001b[0m\u001b[34;1m\"end\"\u001b[0m\u001b[1;39m: \u001b[0m\u001b[0;32m\"68159740\"\u001b[0m\u001b[1;39m,\n",
      "                    \u001b[0m\u001b[34;1m\"order\"\u001b[0m\u001b[1;39m: \u001b[0m\u001b[0;39m1\u001b[0m\u001b[1;39m\n",
      "                  \u001b[1;39m}\u001b[0m\u001b[1;39m,\n",
      "                  \u001b[1;39m{\n",
      "                    \u001b[0m\u001b[34;1m\"begin\"\u001b[0m\u001b[1;39m: \u001b[0m\u001b[0;32m\"68158191\"\u001b[0m\u001b[1;39m,\n",
      "                    \u001b[0m\u001b[34;1m\"end\"\u001b[0m\u001b[1;39m: \u001b[0m\u001b[0;32m\"68158259\"\u001b[0m\u001b[1;39m,\n",
      "                    \u001b[0m\u001b[34;1m\"order\"\u001b[0m\u001b[1;39m: \u001b[0m\u001b[0;39m2\u001b[0m\u001b[1;39m\n",
      "                  \u001b[1;39m}\u001b[0m\u001b[1;39m,\n",
      "                  \u001b[1;39m{\n",
      "                    \u001b[0m\u001b[34;1m\"begin\"\u001b[0m\u001b[1;39m: \u001b[0m\u001b[0;32m\"68157913\"\u001b[0m\u001b[1;39m,\n",
      "                    \u001b[0m\u001b[34;1m\"end\"\u001b[0m\u001b[1;39m: \u001b[0m\u001b[0;32m\"68158095\"\u001b[0m\u001b[1;39m,\n",
      "                    \u001b[0m\u001b[34;1m\"order\"\u001b[0m\u001b[1;39m: \u001b[0m\u001b[0;39m3\u001b[0m\u001b[1;39m\n",
      "                  \u001b[1;39m}\u001b[0m\u001b[1;39m,\n",
      "                  \u001b[1;39m{\n",
      "                    \u001b[0m\u001b[34;1m\"begin\"\u001b[0m\u001b[1;39m: \u001b[0m\u001b[0;32m\"68154768\"\u001b[0m\u001b[1;39m,\n",
      "                    \u001b[0m\u001b[34;1m\"end\"\u001b[0m\u001b[1;39m: \u001b[0m\u001b[0;32m\"68155487\"\u001b[0m\u001b[1;39m,\n",
      "                    \u001b[0m\u001b[34;1m\"order\"\u001b[0m\u001b[1;39m: \u001b[0m\u001b[0;39m4\u001b[0m\u001b[1;39m\n",
      "                  \u001b[1;39m}\u001b[0m\u001b[1;39m\n",
      "                \u001b[1;39m]\u001b[0m\u001b[1;39m,\n",
      "                \u001b[0m\u001b[34;1m\"genomic_accession_version\"\u001b[0m\u001b[1;39m: \u001b[0m\u001b[0;32m\"NC_000012.12\"\u001b[0m\u001b[1;39m,\n",
      "                \u001b[0m\u001b[34;1m\"genomic_range\"\u001b[0m\u001b[1;39m: \u001b[0m\u001b[1;39m{\n",
      "                  \u001b[0m\u001b[34;1m\"begin\"\u001b[0m\u001b[1;39m: \u001b[0m\u001b[0;32m\"68154768\"\u001b[0m\u001b[1;39m,\n",
      "                  \u001b[0m\u001b[34;1m\"end\"\u001b[0m\u001b[1;39m: \u001b[0m\u001b[0;32m\"68159740\"\u001b[0m\u001b[1;39m,\n",
      "                  \u001b[0m\u001b[34;1m\"orientation\"\u001b[0m\u001b[1;39m: \u001b[0m\u001b[0;32m\"minus\"\u001b[0m\u001b[1;39m\n",
      "                \u001b[1;39m}\u001b[0m\u001b[1;39m,\n",
      "                \u001b[0m\u001b[34;1m\"sequence_name\"\u001b[0m\u001b[1;39m: \u001b[0m\u001b[0;32m\"Chromosome 12 Reference GRCh38.p13 Primary Assembly\"\u001b[0m\u001b[1;39m\n",
      "              \u001b[1;39m}\u001b[0m\u001b[1;39m\n",
      "            \u001b[1;39m]\u001b[0m\u001b[1;39m,\n",
      "            \u001b[0m\u001b[34;1m\"genomic_range\"\u001b[0m\u001b[1;39m: \u001b[0m\u001b[1;39m{\n",
      "              \u001b[0m\u001b[34;1m\"accession_version\"\u001b[0m\u001b[1;39m: \u001b[0m\u001b[0;32m\"NC_000012.12\"\u001b[0m\u001b[1;39m,\n",
      "              \u001b[0m\u001b[34;1m\"range\"\u001b[0m\u001b[1;39m: \u001b[0m\u001b[1;39m[\n",
      "                \u001b[1;39m{\n",
      "                  \u001b[0m\u001b[34;1m\"begin\"\u001b[0m\u001b[1;39m: \u001b[0m\u001b[0;32m\"68154768\"\u001b[0m\u001b[1;39m,\n",
      "                  \u001b[0m\u001b[34;1m\"end\"\u001b[0m\u001b[1;39m: \u001b[0m\u001b[0;32m\"68159740\"\u001b[0m\u001b[1;39m,\n",
      "                  \u001b[0m\u001b[34;1m\"orientation\"\u001b[0m\u001b[1;39m: \u001b[0m\u001b[0;32m\"minus\"\u001b[0m\u001b[1;39m\n",
      "                \u001b[1;39m}\u001b[0m\u001b[1;39m\n",
      "              \u001b[1;39m]\u001b[0m\u001b[1;39m\n",
      "            \u001b[1;39m}\u001b[0m\u001b[1;39m,\n",
      "            \u001b[0m\u001b[34;1m\"length\"\u001b[0m\u001b[1;39m: \u001b[0m\u001b[0;39m1211\u001b[0m\u001b[1;39m,\n",
      "            \u001b[0m\u001b[34;1m\"protein\"\u001b[0m\u001b[1;39m: \u001b[0m\u001b[1;39m{\n",
      "              \u001b[0m\u001b[34;1m\"accession_version\"\u001b[0m\u001b[1;39m: \u001b[0m\u001b[0;32m\"NP_000610.2\"\u001b[0m\u001b[1;39m,\n",
      "              \u001b[0m\u001b[34;1m\"ensembl_protein\"\u001b[0m\u001b[1;39m: \u001b[0m\u001b[0;32m\"ENSP00000229135.3\"\u001b[0m\u001b[1;39m,\n",
      "              \u001b[0m\u001b[34;1m\"length\"\u001b[0m\u001b[1;39m: \u001b[0m\u001b[0;39m166\u001b[0m\u001b[1;39m,\n",
      "              \u001b[0m\u001b[34;1m\"name\"\u001b[0m\u001b[1;39m: \u001b[0m\u001b[0;32m\"interferon gamma precursor\"\u001b[0m\u001b[1;39m\n",
      "            \u001b[1;39m}\u001b[0m\u001b[1;39m,\n",
      "            \u001b[0m\u001b[34;1m\"type\"\u001b[0m\u001b[1;39m: \u001b[0m\u001b[0;32m\"PROTEIN_CODING\"\u001b[0m\u001b[1;39m\n",
      "          \u001b[1;39m}\u001b[0m\u001b[1;39m\n",
      "        \u001b[1;39m]\u001b[0m\u001b[1;39m,\n",
      "        \u001b[0m\u001b[34;1m\"type\"\u001b[0m\u001b[1;39m: \u001b[0m\u001b[0;32m\"PROTEIN_CODING\"\u001b[0m\u001b[1;39m\n",
      "      \u001b[1;39m}\u001b[0m\u001b[1;39m,\n",
      "      \u001b[0m\u001b[34;1m\"query\"\u001b[0m\u001b[1;39m: \u001b[0m\u001b[1;39m[\n",
      "        \u001b[0;32m\"ifng\"\u001b[0m\u001b[1;39m\n",
      "      \u001b[1;39m]\u001b[0m\u001b[1;39m\n",
      "    \u001b[1;39m}\u001b[0m\u001b[1;39m\n",
      "  \u001b[1;39m]\u001b[0m\u001b[1;39m\n",
      "\u001b[1;39m}\u001b[0m\n"
     ]
    }
   ],
   "source": [
    "%%bash\n",
    "#Example: IFNG in human\n",
    "datasets summary gene symbol ifng | jq -C .\n"
   ]
  },
  {
   "cell_type": "code",
   "execution_count": 27,
   "id": "e748073a",
   "metadata": {},
   "outputs": [
    {
     "name": "stdout",
     "output_type": "stream",
     "text": [
      "\u001b[1;39m{\n",
      "  \u001b[0m\u001b[34;1m\"species\"\u001b[0m\u001b[1;39m: \u001b[0m\u001b[0;32m\"Homo sapiens\"\u001b[0m\u001b[1;39m,\n",
      "  \u001b[0m\u001b[34;1m\"symbol\"\u001b[0m\u001b[1;39m: \u001b[0m\u001b[0;32m\"IFNG\"\u001b[0m\u001b[1;39m,\n",
      "  \u001b[0m\u001b[34;1m\"synonyms\"\u001b[0m\u001b[1;39m: \u001b[0m\u001b[1;39m[\n",
      "    \u001b[0;32m\"IFG\"\u001b[0m\u001b[1;39m,\n",
      "    \u001b[0;32m\"IFI\"\u001b[0m\u001b[1;39m,\n",
      "    \u001b[0;32m\"IMD69\"\u001b[0m\u001b[1;39m\n",
      "  \u001b[1;39m]\u001b[0m\u001b[1;39m\n",
      "\u001b[1;39m}\u001b[0m\n"
     ]
    }
   ],
   "source": [
    "%%bash\n",
    "# how datasets deals with synonyms\n",
    "datasets summary gene symbol IFG | jq -C -r '.genes[].gene | {species: .taxname, symbol: .symbol, synonyms:.synonyms}'\n"
   ]
  },
  {
   "cell_type": "code",
   "execution_count": 28,
   "id": "94d1bdbf",
   "metadata": {},
   "outputs": [
    {
     "name": "stdout",
     "output_type": "stream",
     "text": [
      "{\"genes\":[{\"gene\":{\"annotations\":[{\"assemblies_in_scope\":[{\"accession\":\"GCF_018350175.1\",\"name\":\"F.catus_Fca126_mat1.0\"}],\"release_date\":\"2021-10-27\",\"release_name\":\"NCBI Felis catus Annotation Release 105\"}],\"chromosomes\":[\"B4\"],\"common_name\":\"domestic cat\",\"description\":\"interferon gamma\",\"gene_id\":\"493965\",\"genomic_ranges\":[{\"accession_version\":\"NC_058374.1\",\"range\":[{\"begin\":\"93137484\",\"end\":\"93141840\",\"orientation\":\"minus\"}]}],\"nomenclature_authority\":{\"authority\":\"VGNC\",\"identifier\":\"VGNC:67703\"},\"orientation\":\"minus\",\"swiss_prot_accessions\":[\"P46402\"],\"symbol\":\"IFNG\",\"tax_id\":\"9685\",\"taxname\":\"Felis catus\",\"transcripts\":[{\"accession_version\":\"NM_001009873.1\",\"cds\":{\"accession_version\":\"NM_001009873.1\",\"range\":[{\"begin\":\"40\",\"end\":\"543\"}]},\"exons\":{\"accession_version\":\"NC_058374.1\",\"range\":[{\"begin\":\"93141688\",\"end\":\"93141840\",\"order\":1},{\"begin\":\"93140419\",\"end\":\"93140487\",\"order\":2},{\"begin\":\"93140138\",\"end\":\"93140323\",\"order\":3},{\"begin\":\"93137484\",\"end\":\"93137642\",\"order\":4}]},\"genomic_locations\":[{\"exons\":[{\"begin\":\"93141688\",\"end\":\"93141840\",\"order\":1},{\"begin\":\"93140419\",\"end\":\"93140487\",\"order\":2},{\"begin\":\"93140138\",\"end\":\"93140323\",\"order\":3},{\"begin\":\"93137484\",\"end\":\"93137642\",\"order\":4}],\"genomic_accession_version\":\"NC_058374.1\",\"genomic_range\":{\"begin\":\"93137484\",\"end\":\"93141840\",\"orientation\":\"minus\"},\"sequence_name\":\"Chromosome B4 Reference F.catus_Fca126_mat1.0 Primary Assembly\"}],\"genomic_range\":{\"accession_version\":\"NC_058374.1\",\"range\":[{\"begin\":\"93137484\",\"end\":\"93141840\",\"orientation\":\"minus\"}]},\"length\":567,\"protein\":{\"accession_version\":\"NP_001009873.1\",\"length\":167,\"name\":\"interferon gamma precursor\"},\"type\":\"PROTEIN_CODING\"}],\"type\":\"PROTEIN_CODING\"},\"query\":[\"ifng\"]}]}\n"
     ]
    }
   ],
   "source": [
    "%%bash\n",
    "#Example: IFNG in cat\n",
    "datasets summary gene symbol ifng --taxon \"felis catus\"\n"
   ]
  },
  {
   "cell_type": "markdown",
   "id": "1d69331f",
   "metadata": {},
   "source": [
    "### Back to ants\n",
    "We will download the gene *orco* for the species *Acromyrmex echinatior*. We will use the gene-id 105147775 instead of the symbol because no informative gene symbol has been assigned for this gene.  "
   ]
  },
  {
   "cell_type": "code",
   "execution_count": 29,
   "id": "0d5bb16e",
   "metadata": {},
   "outputs": [
    {
     "name": "stdout",
     "output_type": "stream",
     "text": [
      "\u001b[1;39m{\n",
      "  \u001b[0m\u001b[34;1m\"gene_description\"\u001b[0m\u001b[1;39m: \u001b[0m\u001b[0;32m\"odorant receptor coreceptor\"\u001b[0m\u001b[1;39m,\n",
      "  \u001b[0m\u001b[34;1m\"gene_id\"\u001b[0m\u001b[1;39m: \u001b[0m\u001b[0;32m\"105147775\"\u001b[0m\u001b[1;39m,\n",
      "  \u001b[0m\u001b[34;1m\"symbol\"\u001b[0m\u001b[1;39m: \u001b[0m\u001b[0;32m\"LOC105147775\"\u001b[0m\u001b[1;39m,\n",
      "  \u001b[0m\u001b[34;1m\"species\"\u001b[0m\u001b[1;39m: \u001b[0m\u001b[0;32m\"Acromyrmex echinatior\"\u001b[0m\u001b[1;39m\n",
      "\u001b[1;39m}\u001b[0m\n"
     ]
    }
   ],
   "source": [
    "%%bash\n",
    "# Using gene-id to retrieve gene information\n",
    "datasets summary gene gene-id 105147775 | jq -C '.genes[].gene \n",
    "| {gene_description: .description, gene_id: .gene_id, symbol: .symbol, species: .taxname}'"
   ]
  },
  {
   "cell_type": "code",
   "execution_count": 30,
   "id": "91058e44",
   "metadata": {},
   "outputs": [
    {
     "name": "stdout",
     "output_type": "stream",
     "text": [
      "{\"genes\":[{\"query\":[\"orco\"],\"warnings\":[{\"gene_warning_code\":\"UNRECOGNIZED_GENE_SYMBOL\",\"message\":\"The gene symbol that you specified, (orco) is either not a recognized gene symbol or not unique for the specified organism. Please try again using a Gene ID or a unique gene symbol.\\\"\\n\",\"reason\":\"This symbol is unrecognized.\",\"unrecognized_identifier\":\"orco\"}]}]}\n"
     ]
    }
   ],
   "source": [
    "%%bash\n",
    "# if we try to retrieve metadata information for this gene using the symbol orco, what happens?\n",
    "datasets summary gene symbol orco --taxon \"acromyrmex echinatior\"\n"
   ]
  },
  {
   "cell_type": "code",
   "execution_count": 31,
   "id": "e08b9763",
   "metadata": {},
   "outputs": [],
   "source": [
    "%%bash\n",
    "# Download the gene data package for the gene-id 105147775 (*orco* in Acromyrmex echinatior)\n",
    "datasets download gene gene-id 105147775 --filename gene.zip --no-progressbar\n"
   ]
  },
  {
   "cell_type": "code",
   "execution_count": 32,
   "id": "32ff018d",
   "metadata": {},
   "outputs": [
    {
     "name": "stdout",
     "output_type": "stream",
     "text": [
      "Archive:  gene.zip\n",
      "  inflating: gene/README.md          \n",
      "  inflating: gene/ncbi_dataset/data/gene.fna  \n",
      "  inflating: gene/ncbi_dataset/data/rna.fna  \n",
      "  inflating: gene/ncbi_dataset/data/protein.faa  \n",
      "  inflating: gene/ncbi_dataset/data/data_report.jsonl  \n",
      "  inflating: gene/ncbi_dataset/data/data_table.tsv  \n",
      "  inflating: gene/ncbi_dataset/data/dataset_catalog.json  \n"
     ]
    }
   ],
   "source": [
    "%%bash\n",
    "#Unzip the file\n",
    "unzip -o gene.zip -d gene"
   ]
  },
  {
   "cell_type": "code",
   "execution_count": 33,
   "id": "9ab71ee8",
   "metadata": {},
   "outputs": [
    {
     "name": "stdout",
     "output_type": "stream",
     "text": [
      "gene\n",
      "├── README.md\n",
      "└── ncbi_dataset\n",
      "    └── data\n",
      "        ├── data_report.jsonl\n",
      "        ├── data_table.tsv\n",
      "        ├── dataset_catalog.json\n",
      "        ├── gene.fna\n",
      "        ├── protein.faa\n",
      "        └── rna.fna\n",
      "\n",
      "2 directories, 7 files\n"
     ]
    }
   ],
   "source": [
    "%%bash\n",
    "#Explore the data package structure using tree\n",
    "tree gene"
   ]
  },
  {
   "cell_type": "markdown",
   "id": "970bc941",
   "metadata": {},
   "source": [
    "Now we are going to take advantage of the fact that we are using a Jupyter Notebook and use the package `pandas` to look at the gene data table"
   ]
  },
  {
   "cell_type": "code",
   "execution_count": 34,
   "id": "255253a9",
   "metadata": {},
   "outputs": [
    {
     "data": {
      "text/html": [
       "<div>\n",
       "<style scoped>\n",
       "    .dataframe tbody tr th:only-of-type {\n",
       "        vertical-align: middle;\n",
       "    }\n",
       "\n",
       "    .dataframe tbody tr th {\n",
       "        vertical-align: top;\n",
       "    }\n",
       "\n",
       "    .dataframe thead th {\n",
       "        text-align: right;\n",
       "    }\n",
       "</style>\n",
       "<table border=\"1\" class=\"dataframe\">\n",
       "  <thead>\n",
       "    <tr style=\"text-align: right;\">\n",
       "      <th></th>\n",
       "      <th>gene_id</th>\n",
       "      <th>gene_symbol</th>\n",
       "      <th>description</th>\n",
       "      <th>scientific_name</th>\n",
       "      <th>common_name</th>\n",
       "      <th>tax_id</th>\n",
       "      <th>genomic_range</th>\n",
       "      <th>orientation</th>\n",
       "      <th>location</th>\n",
       "      <th>gene_type</th>\n",
       "      <th>transcript_accession</th>\n",
       "      <th>transcript_name</th>\n",
       "      <th>transcript_length</th>\n",
       "      <th>transcript_cds_coords</th>\n",
       "      <th>protein_accession</th>\n",
       "      <th>isoform_name</th>\n",
       "      <th>protein_length</th>\n",
       "      <th>protein_name</th>\n",
       "    </tr>\n",
       "  </thead>\n",
       "  <tbody>\n",
       "    <tr>\n",
       "      <th>0</th>\n",
       "      <td>105147775</td>\n",
       "      <td>LOC105147775</td>\n",
       "      <td>odorant receptor coreceptor</td>\n",
       "      <td>Acromyrmex echinatior</td>\n",
       "      <td>Panamanian leafcutter ant</td>\n",
       "      <td>103372</td>\n",
       "      <td>NW_011627180.1:39489-47719</td>\n",
       "      <td>-</td>\n",
       "      <td>chr Un</td>\n",
       "      <td>PROTEIN_CODING</td>\n",
       "      <td>XM_011059026.1</td>\n",
       "      <td>NaN</td>\n",
       "      <td>2621</td>\n",
       "      <td>XM_011059026.1:264-1712</td>\n",
       "      <td>XP_011057328.1</td>\n",
       "      <td>NaN</td>\n",
       "      <td>482</td>\n",
       "      <td>odorant receptor coreceptor</td>\n",
       "    </tr>\n",
       "  </tbody>\n",
       "</table>\n",
       "</div>"
      ],
      "text/plain": [
       "     gene_id   gene_symbol                  description  \\\n",
       "0  105147775  LOC105147775  odorant receptor coreceptor   \n",
       "\n",
       "         scientific_name                common_name  tax_id  \\\n",
       "0  Acromyrmex echinatior  Panamanian leafcutter ant  103372   \n",
       "\n",
       "                genomic_range orientation location       gene_type  \\\n",
       "0  NW_011627180.1:39489-47719           -   chr Un  PROTEIN_CODING   \n",
       "\n",
       "  transcript_accession  transcript_name  transcript_length  \\\n",
       "0       XM_011059026.1              NaN               2621   \n",
       "\n",
       "     transcript_cds_coords protein_accession  isoform_name  protein_length  \\\n",
       "0  XM_011059026.1:264-1712    XP_011057328.1           NaN             482   \n",
       "\n",
       "                  protein_name  \n",
       "0  odorant receptor coreceptor  "
      ]
     },
     "execution_count": 34,
     "metadata": {},
     "output_type": "execute_result"
    }
   ],
   "source": [
    "import pandas as pd                                                        #load pandas to this notebook\n",
    "gene_orco = pd.read_csv('gene/ncbi_dataset/data/data_table.tsv', sep='\\t') #use pandas to import the data_table.tsv\n",
    "gene_orco                                                                  #visualize the data table as the object gene_orco"
   ]
  },
  {
   "cell_type": "markdown",
   "id": "af8f7dde",
   "metadata": {},
   "source": [
    "### Exercises\n",
    "\n",
    "1. Look for the summary data for a gene of interest (check the [etherpad](https://etherpad.wikimedia.org/p/CSHL_Datasets_Workshop_2021) for suggestions)\n",
    "2. What is the gene location?\n",
    "3. What is the gene range?\n",
    "4. Now, download a list of gene symbols using the file genes.txt (provided). Save it as gene_list.zip\n",
    "5. Unzip gene_list.zip and explore the folder structure\n",
    "6. How many fasta files are there?"
   ]
  },
  {
   "cell_type": "code",
   "execution_count": 35,
   "id": "a4250b69",
   "metadata": {},
   "outputs": [],
   "source": [
    "%%bash\n",
    "# Summary data\n",
    "\n"
   ]
  },
  {
   "cell_type": "code",
   "execution_count": 36,
   "id": "60d2f31e",
   "metadata": {},
   "outputs": [],
   "source": [
    "%%bash\n",
    "# Gene location\n",
    "\n"
   ]
  },
  {
   "cell_type": "code",
   "execution_count": 37,
   "id": "a2d483de",
   "metadata": {},
   "outputs": [],
   "source": [
    "%%bash\n",
    "# Gene range\n",
    "\n"
   ]
  },
  {
   "cell_type": "code",
   "execution_count": 38,
   "id": "0ed6c85b",
   "metadata": {},
   "outputs": [],
   "source": [
    "%%bash\n",
    "# Download a list of genes and save the data package as gene_list.zip (--filename gene_list.zip)\n"
   ]
  },
  {
   "cell_type": "code",
   "execution_count": 39,
   "id": "bfa13ee9",
   "metadata": {},
   "outputs": [],
   "source": [
    "%%bash\n",
    "# Explore the folder structure\n",
    "\n"
   ]
  },
  {
   "cell_type": "code",
   "execution_count": 40,
   "id": "cde5b036",
   "metadata": {},
   "outputs": [],
   "source": [
    "%%bash\n",
    "# How many genes were downloaded?\n",
    "\n"
   ]
  },
  {
   "cell_type": "code",
   "execution_count": 41,
   "id": "f4dfb0a2",
   "metadata": {},
   "outputs": [],
   "source": [
    "%%bash\n",
    "# How many fasta files in the data package?\n",
    "\n"
   ]
  },
  {
   "cell_type": "markdown",
   "id": "c908cc8b",
   "metadata": {},
   "source": [
    "## Part III: Accessing orthologs <a class=\"anchor\" id=\"Part-III\"></a>\n",
    "\n",
    "### Orthologs\n",
    "\n",
    "The options to retrieve ortholog sets are the same as those for genes. We'll go over the differences when using each option:\n",
    "\n",
    "- accession\n",
    "- gene-id\n",
    "- symbol\n",
    "\n",
    "<img src=\"./images/ortholog.png\" style=\"width: 800px;\" />\n",
    "\n",
    "When choosing any of those three options, you will download the **full ortholog set** to which they belong (unless you use additional filtering. We'll cover it below). Like this:\n",
    "\n",
    "`datasets download ortholog accession XR_002738142.1`  \n",
    "`datasets download ortholog gene-id 101081937`  \n",
    "`datasets download ortholog symbol BRCA1 --taxon cat`  \n",
    "\n",
    "All three commands will download the **same** ortholog set. \n",
    "\n",
    "---\n",
    "\n",
    "#### <font color='blue'>Wait, but what is an ortholog set?</font>\n",
    "\n",
    ">An ortholog set, or ortholog gene group, is a group of sequences that have been identified by the NCBI genome annotation team as homologous genes related to each other by speciation events. They are identified by a combination of protein similarity + local syntheny information. \n",
    "Currently, NCBI has ortholog sets calculated for vertebrates and some insects. \n",
    "\n",
    "\n",
    "#### accession\n",
    "Unique identifier. Accession includes RefSeq accession RNA and protein sequences. Since it's unique, taxon is implied (aka there will never be two sequences from different taxa with the same accession number).\n",
    "\n",
    "#### gene-id\n",
    "Also an unique identifier. Every RefSeq genome annotated has a unique set of identifiers. For example: the gene-id for BRCA1 in human is 672, while in cat is 101081937. You can use either one (672 or 101081937) to get the same vertebrate BRCA1 ortholog set.\n",
    "\n",
    "#### symbol\n",
    "Differently from accession and gene-id, gene symbol is not unique and means different things in different taxonomic groups. For example: the P53 ortholog set in vertebrates is different from the insect set. If using the symbol option, you should specify the taxonomic group. The default option is human. Note that if you want ortholog sets from multiple vertebrate species, you might end up downloading the same ortholog set multiple times. Like this: \n",
    "\n",
    "`datasets download ortholog symbol brca1 --taxon cat`  \n",
    "`datasets download ortholog symbol brca1 --taxon chicken`  \n",
    "`datasets download ortholog symbol brca1 --taxon \"chelonia mydas\"`  \n",
    "\n",
    "If that's the case, how do you filter the ortholog set to include *only* your taxonomic group of interest?\n",
    "\n",
    "### Applying a taxonomic filter to the ortholog set\n",
    "\n",
    "For the orthologs, `datasets` provides the flag `--taxon-filter`, which allows the user to restrict the summary or download to one or multiple taxonomic groups.  `--taxon` and `--taxon-filter` have different effects on the data package/summary output. A few examples:\n",
    "\n",
    "- `datasets summary ortholog symbol brca1 --taxon-filter \"felis catus\"`  \n",
    "Prints a json metadata summary of the gene brca1 for the domestic cat. \n",
    "We did not specify a `--taxon` because the default is human, and Felidae and human are part of the same brca1 ortholog set.   \n",
    "\n",
    "  \n",
    "\n",
    "- `datasets summary ortholog symbol brca1 --taxon \"felis catus\"`  \n",
    "Even though this option looks almost the same as the one above, the result is *very different*. Here, we're asking `datasets` to find the ortholog set to which the gene brca1 in the domestic cat belongs. And `datasets` will download the <u>entire</u> ortholog set, not only the sequences for the domestic cat.\n",
    "\n",
    "\n",
    "- `datasets summary ortholog symbol brca1 --taxon \"felis catus\" --taxon-filter \"felis catus\"`  \n",
    "gives you the same result as `datasets summary ortholog symbol brca1 --taxon-filter \"felis catus\"`\n",
    "\n",
    "\n",
    "The summary metadata for orthologs is presented in JSON Lines, which means that each gene entry is in a different line. Here's the diagram to help you create queries.\n",
    "  \n",
    "<img src=\"./images/ortholog_jsonl.drawio.png\" />"
   ]
  },
  {
   "cell_type": "markdown",
   "id": "3673c066",
   "metadata": {},
   "source": [
    "#### We are going to do the following steps:\n",
    "- download the ortholog data package and save it with the name ortholog.zip\n",
    "- unzip it to the folder ortholog\n",
    "- look at the files\n",
    "\n",
    "Helpful info:\n",
    "\n",
    "- gene symbol: orco\n",
    "- gene-id in *Drosophila melanogaster*: 40650\n",
    "- gene-id in *Acromyrmer echinatior*: 105147775\n",
    "- target taxon: Formicidae"
   ]
  },
  {
   "cell_type": "code",
   "execution_count": 42,
   "id": "4040acda",
   "metadata": {},
   "outputs": [
    {
     "name": "stdout",
     "output_type": "stream",
     "text": [
      "Found 22 genes in set\n"
     ]
    }
   ],
   "source": [
    "%%bash\n",
    "# download the orco ortholog set for ants (Formicidae)\n",
    "datasets download ortholog gene-id 40650 --taxon-filter formicidae --filename ortholog.zip --no-progressbar\n"
   ]
  },
  {
   "cell_type": "code",
   "execution_count": 43,
   "id": "c295a289",
   "metadata": {},
   "outputs": [
    {
     "name": "stdout",
     "output_type": "stream",
     "text": [
      "Archive:  ortholog.zip\n",
      "  inflating: ortholog/README.md      \n",
      "  inflating: ortholog/ncbi_dataset/data/gene.fna  \n",
      "  inflating: ortholog/ncbi_dataset/data/rna.fna  \n",
      "  inflating: ortholog/ncbi_dataset/data/protein.faa  \n",
      "  inflating: ortholog/ncbi_dataset/data/data_report.jsonl  \n",
      "  inflating: ortholog/ncbi_dataset/data/data_table.tsv  \n",
      "  inflating: ortholog/ncbi_dataset/data/dataset_catalog.json  \n"
     ]
    }
   ],
   "source": [
    "%%bash\n",
    "# unzip it to the folder ortholog\n",
    "unzip -o ortholog.zip -d ortholog\n"
   ]
  },
  {
   "cell_type": "code",
   "execution_count": 44,
   "id": "5f22996a",
   "metadata": {},
   "outputs": [
    {
     "name": "stdout",
     "output_type": "stream",
     "text": [
      "ortholog/\n",
      "├── README.md\n",
      "└── ncbi_dataset\n",
      "    └── data\n",
      "        ├── data_report.jsonl\n",
      "        ├── data_table.tsv\n",
      "        ├── dataset_catalog.json\n",
      "        ├── gene.fna\n",
      "        ├── protein.faa\n",
      "        └── rna.fna\n",
      "\n",
      "2 directories, 7 files\n"
     ]
    }
   ],
   "source": [
    "%%bash\n",
    "#Explore the folder structure\n",
    "tree ortholog/\n"
   ]
  },
  {
   "cell_type": "code",
   "execution_count": 45,
   "id": "edc2c564",
   "metadata": {},
   "outputs": [
    {
     "data": {
      "text/html": [
       "<div>\n",
       "<style scoped>\n",
       "    .dataframe tbody tr th:only-of-type {\n",
       "        vertical-align: middle;\n",
       "    }\n",
       "\n",
       "    .dataframe tbody tr th {\n",
       "        vertical-align: top;\n",
       "    }\n",
       "\n",
       "    .dataframe thead th {\n",
       "        text-align: right;\n",
       "    }\n",
       "</style>\n",
       "<table border=\"1\" class=\"dataframe\">\n",
       "  <thead>\n",
       "    <tr style=\"text-align: right;\">\n",
       "      <th></th>\n",
       "      <th>gene_id</th>\n",
       "      <th>gene_symbol</th>\n",
       "      <th>description</th>\n",
       "      <th>scientific_name</th>\n",
       "      <th>common_name</th>\n",
       "      <th>tax_id</th>\n",
       "      <th>genomic_range</th>\n",
       "      <th>orientation</th>\n",
       "      <th>location</th>\n",
       "      <th>gene_type</th>\n",
       "      <th>transcript_accession</th>\n",
       "      <th>transcript_name</th>\n",
       "      <th>transcript_length</th>\n",
       "      <th>transcript_cds_coords</th>\n",
       "      <th>protein_accession</th>\n",
       "      <th>isoform_name</th>\n",
       "      <th>protein_length</th>\n",
       "      <th>protein_name</th>\n",
       "    </tr>\n",
       "  </thead>\n",
       "  <tbody>\n",
       "    <tr>\n",
       "      <th>0</th>\n",
       "      <td>105147775</td>\n",
       "      <td>LOC105147775</td>\n",
       "      <td>odorant receptor coreceptor</td>\n",
       "      <td>Acromyrmex echinatior</td>\n",
       "      <td>Panamanian leafcutter ant</td>\n",
       "      <td>103372</td>\n",
       "      <td>NW_011627180.1:39489-47719</td>\n",
       "      <td>-</td>\n",
       "      <td>chr Un</td>\n",
       "      <td>PROTEIN_CODING</td>\n",
       "      <td>XM_011059026.1</td>\n",
       "      <td>NaN</td>\n",
       "      <td>2621</td>\n",
       "      <td>XM_011059026.1:264-1712</td>\n",
       "      <td>XP_011057328.1</td>\n",
       "      <td>NaN</td>\n",
       "      <td>482</td>\n",
       "      <td>odorant receptor coreceptor</td>\n",
       "    </tr>\n",
       "    <tr>\n",
       "      <th>1</th>\n",
       "      <td>105183395</td>\n",
       "      <td>LOC105183395</td>\n",
       "      <td>odorant receptor coreceptor</td>\n",
       "      <td>Harpegnathos saltator</td>\n",
       "      <td>Jerdon's jumping ant</td>\n",
       "      <td>610380</td>\n",
       "      <td>NW_020230404.1:97134-107285</td>\n",
       "      <td>+</td>\n",
       "      <td>chr Un</td>\n",
       "      <td>PROTEIN_CODING</td>\n",
       "      <td>XM_011141465.3</td>\n",
       "      <td>NaN</td>\n",
       "      <td>4083</td>\n",
       "      <td>XM_011141465.3:381-1820</td>\n",
       "      <td>XP_011139767.1</td>\n",
       "      <td>NaN</td>\n",
       "      <td>479</td>\n",
       "      <td>odorant receptor coreceptor</td>\n",
       "    </tr>\n",
       "    <tr>\n",
       "      <th>2</th>\n",
       "      <td>105199036</td>\n",
       "      <td>LOC105199036</td>\n",
       "      <td>odorant receptor coreceptor</td>\n",
       "      <td>Solenopsis invicta</td>\n",
       "      <td>red fire ant</td>\n",
       "      <td>13686</td>\n",
       "      <td>NC_052665.1:4823610-4833998</td>\n",
       "      <td>+</td>\n",
       "      <td>chr 2</td>\n",
       "      <td>PROTEIN_CODING</td>\n",
       "      <td>XM_011165941.3</td>\n",
       "      <td>NaN</td>\n",
       "      <td>5506</td>\n",
       "      <td>XM_011165941.3:203-1648</td>\n",
       "      <td>XP_011164243.1</td>\n",
       "      <td>NaN</td>\n",
       "      <td>481</td>\n",
       "      <td>odorant receptor coreceptor</td>\n",
       "    </tr>\n",
       "    <tr>\n",
       "      <th>3</th>\n",
       "      <td>105249684</td>\n",
       "      <td>LOC105249684</td>\n",
       "      <td>odorant receptor coreceptor</td>\n",
       "      <td>Camponotus floridanus</td>\n",
       "      <td>Florida carpenter ant</td>\n",
       "      <td>104421</td>\n",
       "      <td>NW_020229214.1:9396847-9403345</td>\n",
       "      <td>+</td>\n",
       "      <td>chr Un</td>\n",
       "      <td>PROTEIN_CODING</td>\n",
       "      <td>XM_011255339.3</td>\n",
       "      <td>NaN</td>\n",
       "      <td>1933</td>\n",
       "      <td>XM_011255339.3:281-1726</td>\n",
       "      <td>XP_011253641.1</td>\n",
       "      <td>NaN</td>\n",
       "      <td>481</td>\n",
       "      <td>odorant receptor coreceptor</td>\n",
       "    </tr>\n",
       "    <tr>\n",
       "      <th>4</th>\n",
       "      <td>105284785</td>\n",
       "      <td>LOC105284785</td>\n",
       "      <td>odorant receptor coreceptor</td>\n",
       "      <td>Ooceraea biroi</td>\n",
       "      <td>clonal raider ant</td>\n",
       "      <td>2015173</td>\n",
       "      <td>NC_039506.1:10910490-10919026</td>\n",
       "      <td>+</td>\n",
       "      <td>chr 1</td>\n",
       "      <td>PROTEIN_CODING</td>\n",
       "      <td>XM_011348552.2</td>\n",
       "      <td>NaN</td>\n",
       "      <td>4114</td>\n",
       "      <td>XM_011348552.2:184-1620</td>\n",
       "      <td>XP_011346854.1</td>\n",
       "      <td>NaN</td>\n",
       "      <td>478</td>\n",
       "      <td>odorant receptor coreceptor</td>\n",
       "    </tr>\n",
       "    <tr>\n",
       "      <th>5</th>\n",
       "      <td>105424270</td>\n",
       "      <td>LOC105424270</td>\n",
       "      <td>odorant receptor coreceptor</td>\n",
       "      <td>Pogonomyrmex barbatus</td>\n",
       "      <td>red harvester ant</td>\n",
       "      <td>144034</td>\n",
       "      <td>NW_011933557.1:711662-718961</td>\n",
       "      <td>+</td>\n",
       "      <td>chr Un</td>\n",
       "      <td>PROTEIN_CODING</td>\n",
       "      <td>XM_011634408.2</td>\n",
       "      <td>NaN</td>\n",
       "      <td>2642</td>\n",
       "      <td>XM_011634408.2:308-1747</td>\n",
       "      <td>XP_011632710.1</td>\n",
       "      <td>NaN</td>\n",
       "      <td>479</td>\n",
       "      <td>odorant receptor coreceptor</td>\n",
       "    </tr>\n",
       "    <tr>\n",
       "      <th>6</th>\n",
       "      <td>105457428</td>\n",
       "      <td>LOC105457428</td>\n",
       "      <td>odorant receptor coreceptor</td>\n",
       "      <td>Wasmannia auropunctata</td>\n",
       "      <td>little fire ant</td>\n",
       "      <td>64793</td>\n",
       "      <td>NW_012027674.1:53097-61891</td>\n",
       "      <td>+</td>\n",
       "      <td>chr Un</td>\n",
       "      <td>PROTEIN_CODING</td>\n",
       "      <td>XM_011702081.1</td>\n",
       "      <td>NaN</td>\n",
       "      <td>2852</td>\n",
       "      <td>XM_011702081.1:277-1722</td>\n",
       "      <td>XP_011700383.1</td>\n",
       "      <td>NaN</td>\n",
       "      <td>481</td>\n",
       "      <td>odorant receptor coreceptor</td>\n",
       "    </tr>\n",
       "    <tr>\n",
       "      <th>7</th>\n",
       "      <td>105561667</td>\n",
       "      <td>LOC105561667</td>\n",
       "      <td>odorant receptor coreceptor</td>\n",
       "      <td>Vollenhovia emeryi</td>\n",
       "      <td>NaN</td>\n",
       "      <td>411798</td>\n",
       "      <td>NW_011967163.1:316278-324489</td>\n",
       "      <td>-</td>\n",
       "      <td>chr Un</td>\n",
       "      <td>PROTEIN_CODING</td>\n",
       "      <td>XM_012011854.1</td>\n",
       "      <td>NaN</td>\n",
       "      <td>2657</td>\n",
       "      <td>XM_012011854.1:444-1880</td>\n",
       "      <td>XP_011867244.1</td>\n",
       "      <td>NaN</td>\n",
       "      <td>478</td>\n",
       "      <td>odorant receptor coreceptor</td>\n",
       "    </tr>\n",
       "    <tr>\n",
       "      <th>8</th>\n",
       "      <td>105625195</td>\n",
       "      <td>LOC105625195</td>\n",
       "      <td>odorant receptor coreceptor</td>\n",
       "      <td>Atta cephalotes</td>\n",
       "      <td>NaN</td>\n",
       "      <td>12957</td>\n",
       "      <td>NW_012130067.1:2024690-2031375</td>\n",
       "      <td>-</td>\n",
       "      <td>chr Un</td>\n",
       "      <td>PROTEIN_CODING</td>\n",
       "      <td>XM_012206539.1</td>\n",
       "      <td>NaN</td>\n",
       "      <td>1449</td>\n",
       "      <td>XM_012206539.1:1-1449</td>\n",
       "      <td>XP_012061929.1</td>\n",
       "      <td>NaN</td>\n",
       "      <td>482</td>\n",
       "      <td>odorant receptor coreceptor</td>\n",
       "    </tr>\n",
       "    <tr>\n",
       "      <th>9</th>\n",
       "      <td>105673490</td>\n",
       "      <td>LOC105673490</td>\n",
       "      <td>odorant receptor coreceptor</td>\n",
       "      <td>Linepithema humile</td>\n",
       "      <td>Argentine ant</td>\n",
       "      <td>83485</td>\n",
       "      <td>NW_012160723.1:535817-538942</td>\n",
       "      <td>-</td>\n",
       "      <td>chr Un</td>\n",
       "      <td>PROTEIN_CODING</td>\n",
       "      <td>XM_012369146.1</td>\n",
       "      <td>NaN</td>\n",
       "      <td>1285</td>\n",
       "      <td>XM_012369146.1:251-1285</td>\n",
       "      <td>XP_012224569.1</td>\n",
       "      <td>NaN</td>\n",
       "      <td>344</td>\n",
       "      <td>LOW QUALITY PROTEIN: odorant receptor coreceptor</td>\n",
       "    </tr>\n",
       "    <tr>\n",
       "      <th>10</th>\n",
       "      <td>105831208</td>\n",
       "      <td>LOC105831208</td>\n",
       "      <td>odorant receptor coreceptor</td>\n",
       "      <td>Monomorium pharaonis</td>\n",
       "      <td>pharaoh ant</td>\n",
       "      <td>307658</td>\n",
       "      <td>NC_050473.1:303276-310042</td>\n",
       "      <td>+</td>\n",
       "      <td>chr 7</td>\n",
       "      <td>PROTEIN_CODING</td>\n",
       "      <td>XM_012671191.3</td>\n",
       "      <td>NaN</td>\n",
       "      <td>2231</td>\n",
       "      <td>XM_012671191.3:245-1687</td>\n",
       "      <td>XP_012526645.1</td>\n",
       "      <td>NaN</td>\n",
       "      <td>480</td>\n",
       "      <td>odorant receptor coreceptor</td>\n",
       "    </tr>\n",
       "    <tr>\n",
       "      <th>11</th>\n",
       "      <td>106748868</td>\n",
       "      <td>LOC106748868</td>\n",
       "      <td>odorant receptor coreceptor</td>\n",
       "      <td>Dinoponera quadriceps</td>\n",
       "      <td>NaN</td>\n",
       "      <td>609295</td>\n",
       "      <td>NW_014554446.1:2144020-2150756</td>\n",
       "      <td>+</td>\n",
       "      <td>chr Un</td>\n",
       "      <td>PROTEIN_CODING</td>\n",
       "      <td>XM_014627787.1</td>\n",
       "      <td>transcript variant X1</td>\n",
       "      <td>1452</td>\n",
       "      <td>XM_014627787.1:1-1452</td>\n",
       "      <td>XP_014483273.1</td>\n",
       "      <td>isoform X1</td>\n",
       "      <td>483</td>\n",
       "      <td>odorant receptor coreceptor</td>\n",
       "    </tr>\n",
       "    <tr>\n",
       "      <th>12</th>\n",
       "      <td>106748868</td>\n",
       "      <td>LOC106748868</td>\n",
       "      <td>odorant receptor coreceptor</td>\n",
       "      <td>Dinoponera quadriceps</td>\n",
       "      <td>NaN</td>\n",
       "      <td>609295</td>\n",
       "      <td>NW_014554446.1:2144020-2150756</td>\n",
       "      <td>+</td>\n",
       "      <td>chr Un</td>\n",
       "      <td>PROTEIN_CODING</td>\n",
       "      <td>XM_014627794.1</td>\n",
       "      <td>transcript variant X2</td>\n",
       "      <td>1443</td>\n",
       "      <td>XM_014627794.1:1-1443</td>\n",
       "      <td>XP_014483280.1</td>\n",
       "      <td>isoform X2</td>\n",
       "      <td>480</td>\n",
       "      <td>odorant receptor coreceptor</td>\n",
       "    </tr>\n",
       "    <tr>\n",
       "      <th>13</th>\n",
       "      <td>108684598</td>\n",
       "      <td>LOC108684598</td>\n",
       "      <td>odorant receptor coreceptor</td>\n",
       "      <td>Atta colombica</td>\n",
       "      <td>NaN</td>\n",
       "      <td>520822</td>\n",
       "      <td>NW_017259224.1:556925-564887</td>\n",
       "      <td>-</td>\n",
       "      <td>chr Un</td>\n",
       "      <td>PROTEIN_CODING</td>\n",
       "      <td>XM_018188997.1</td>\n",
       "      <td>transcript variant X1</td>\n",
       "      <td>2345</td>\n",
       "      <td>XM_018188997.1:1-1449</td>\n",
       "      <td>XP_018044486.1</td>\n",
       "      <td>NaN</td>\n",
       "      <td>482</td>\n",
       "      <td>odorant receptor coreceptor</td>\n",
       "    </tr>\n",
       "    <tr>\n",
       "      <th>14</th>\n",
       "      <td>108684598</td>\n",
       "      <td>LOC108684598</td>\n",
       "      <td>odorant receptor coreceptor</td>\n",
       "      <td>Atta colombica</td>\n",
       "      <td>NaN</td>\n",
       "      <td>520822</td>\n",
       "      <td>NW_017259224.1:556925-564887</td>\n",
       "      <td>-</td>\n",
       "      <td>chr Un</td>\n",
       "      <td>PROTEIN_CODING</td>\n",
       "      <td>XM_018188998.1</td>\n",
       "      <td>transcript variant X2</td>\n",
       "      <td>1717</td>\n",
       "      <td>XM_018188998.1:269-1717</td>\n",
       "      <td>XP_018044487.1</td>\n",
       "      <td>NaN</td>\n",
       "      <td>482</td>\n",
       "      <td>odorant receptor coreceptor</td>\n",
       "    </tr>\n",
       "    <tr>\n",
       "      <th>15</th>\n",
       "      <td>108724845</td>\n",
       "      <td>LOC108724845</td>\n",
       "      <td>odorant receptor coreceptor</td>\n",
       "      <td>Trachymyrmex zeteki</td>\n",
       "      <td>NaN</td>\n",
       "      <td>64791</td>\n",
       "      <td>NW_017257296.1:248166-257047</td>\n",
       "      <td>-</td>\n",
       "      <td>chr Un</td>\n",
       "      <td>PROTEIN_CODING</td>\n",
       "      <td>XM_018451504.1</td>\n",
       "      <td>NaN</td>\n",
       "      <td>2669</td>\n",
       "      <td>XM_018451504.1:289-1737</td>\n",
       "      <td>XP_018307006.1</td>\n",
       "      <td>NaN</td>\n",
       "      <td>482</td>\n",
       "      <td>odorant receptor coreceptor</td>\n",
       "    </tr>\n",
       "    <tr>\n",
       "      <th>16</th>\n",
       "      <td>108751604</td>\n",
       "      <td>LOC108751604</td>\n",
       "      <td>odorant receptor coreceptor</td>\n",
       "      <td>Trachymyrmex septentrionalis</td>\n",
       "      <td>NaN</td>\n",
       "      <td>34720</td>\n",
       "      <td>NW_017305673.1:749827-758198</td>\n",
       "      <td>+</td>\n",
       "      <td>chr Un</td>\n",
       "      <td>PROTEIN_CODING</td>\n",
       "      <td>XM_018491863.1</td>\n",
       "      <td>NaN</td>\n",
       "      <td>2764</td>\n",
       "      <td>XM_018491863.1:283-1731</td>\n",
       "      <td>XP_018347365.1</td>\n",
       "      <td>NaN</td>\n",
       "      <td>482</td>\n",
       "      <td>odorant receptor coreceptor</td>\n",
       "    </tr>\n",
       "    <tr>\n",
       "      <th>17</th>\n",
       "      <td>108758761</td>\n",
       "      <td>LOC108758761</td>\n",
       "      <td>odorant receptor coreceptor</td>\n",
       "      <td>Trachymyrmex cornetzi</td>\n",
       "      <td>NaN</td>\n",
       "      <td>471704</td>\n",
       "      <td>NW_017296201.1:2107387-2116125</td>\n",
       "      <td>-</td>\n",
       "      <td>chr Un</td>\n",
       "      <td>PROTEIN_CODING</td>\n",
       "      <td>XM_018503851.1</td>\n",
       "      <td>NaN</td>\n",
       "      <td>2766</td>\n",
       "      <td>XM_018503851.1:289-1737</td>\n",
       "      <td>XP_018359353.1</td>\n",
       "      <td>NaN</td>\n",
       "      <td>482</td>\n",
       "      <td>odorant receptor coreceptor</td>\n",
       "    </tr>\n",
       "    <tr>\n",
       "      <th>18</th>\n",
       "      <td>108774915</td>\n",
       "      <td>LOC108774915</td>\n",
       "      <td>odorant receptor coreceptor</td>\n",
       "      <td>Cyphomyrmex costatus</td>\n",
       "      <td>NaN</td>\n",
       "      <td>456900</td>\n",
       "      <td>NW_017276877.1:531746-539710</td>\n",
       "      <td>+</td>\n",
       "      <td>chr Un</td>\n",
       "      <td>PROTEIN_CODING</td>\n",
       "      <td>XM_018541153.1</td>\n",
       "      <td>NaN</td>\n",
       "      <td>2331</td>\n",
       "      <td>XM_018541153.1:1-1449</td>\n",
       "      <td>XP_018396655.1</td>\n",
       "      <td>NaN</td>\n",
       "      <td>482</td>\n",
       "      <td>odorant receptor coreceptor</td>\n",
       "    </tr>\n",
       "    <tr>\n",
       "      <th>19</th>\n",
       "      <td>109857416</td>\n",
       "      <td>LOC109857416</td>\n",
       "      <td>odorant receptor coreceptor</td>\n",
       "      <td>Pseudomyrmex gracilis</td>\n",
       "      <td>NaN</td>\n",
       "      <td>219809</td>\n",
       "      <td>NW_018020743.1:17518-25248</td>\n",
       "      <td>-</td>\n",
       "      <td>chr Un</td>\n",
       "      <td>PROTEIN_CODING</td>\n",
       "      <td>XM_020433696.1</td>\n",
       "      <td>NaN</td>\n",
       "      <td>3367</td>\n",
       "      <td>XM_020433696.1:276-1718</td>\n",
       "      <td>XP_020289285.1</td>\n",
       "      <td>NaN</td>\n",
       "      <td>480</td>\n",
       "      <td>odorant receptor coreceptor</td>\n",
       "    </tr>\n",
       "    <tr>\n",
       "      <th>20</th>\n",
       "      <td>112460528</td>\n",
       "      <td>LOC112460528</td>\n",
       "      <td>odorant receptor coreceptor</td>\n",
       "      <td>Temnothorax curvispinosus</td>\n",
       "      <td>NaN</td>\n",
       "      <td>300111</td>\n",
       "      <td>NW_020220410.1:328924-336806</td>\n",
       "      <td>-</td>\n",
       "      <td>chr Un</td>\n",
       "      <td>PROTEIN_CODING</td>\n",
       "      <td>XM_025025244.1</td>\n",
       "      <td>NaN</td>\n",
       "      <td>3655</td>\n",
       "      <td>XM_025025244.1:247-1695</td>\n",
       "      <td>XP_024881012.1</td>\n",
       "      <td>NaN</td>\n",
       "      <td>482</td>\n",
       "      <td>odorant receptor coreceptor</td>\n",
       "    </tr>\n",
       "    <tr>\n",
       "      <th>21</th>\n",
       "      <td>114934660</td>\n",
       "      <td>LOC114934660</td>\n",
       "      <td>odorant receptor coreceptor</td>\n",
       "      <td>Nylanderia fulva</td>\n",
       "      <td>NaN</td>\n",
       "      <td>613905</td>\n",
       "      <td>NW_021695544.1:528711-535660</td>\n",
       "      <td>+</td>\n",
       "      <td>chr Un</td>\n",
       "      <td>PROTEIN_CODING</td>\n",
       "      <td>XM_029307356.1</td>\n",
       "      <td>NaN</td>\n",
       "      <td>2614</td>\n",
       "      <td>XM_029307356.1:286-1731</td>\n",
       "      <td>XP_029163189.1</td>\n",
       "      <td>NaN</td>\n",
       "      <td>481</td>\n",
       "      <td>odorant receptor coreceptor</td>\n",
       "    </tr>\n",
       "    <tr>\n",
       "      <th>22</th>\n",
       "      <td>115237480</td>\n",
       "      <td>LOC115237480</td>\n",
       "      <td>odorant receptor coreceptor</td>\n",
       "      <td>Formica exsecta</td>\n",
       "      <td>NaN</td>\n",
       "      <td>72781</td>\n",
       "      <td>NW_021850207.1:595986-603861</td>\n",
       "      <td>-</td>\n",
       "      <td>chr Un</td>\n",
       "      <td>PROTEIN_CODING</td>\n",
       "      <td>XM_029810552.1</td>\n",
       "      <td>NaN</td>\n",
       "      <td>3615</td>\n",
       "      <td>XM_029810552.1:376-1821</td>\n",
       "      <td>XP_029666412.1</td>\n",
       "      <td>NaN</td>\n",
       "      <td>481</td>\n",
       "      <td>odorant receptor coreceptor</td>\n",
       "    </tr>\n",
       "    <tr>\n",
       "      <th>23</th>\n",
       "      <td>116854080</td>\n",
       "      <td>LOC116854080</td>\n",
       "      <td>odorant receptor coreceptor</td>\n",
       "      <td>Odontomachus brunneus</td>\n",
       "      <td>NaN</td>\n",
       "      <td>486640</td>\n",
       "      <td>NW_022639457.1:3117054-3128632</td>\n",
       "      <td>+</td>\n",
       "      <td>chr Un</td>\n",
       "      <td>PROTEIN_CODING</td>\n",
       "      <td>XM_032835619.1</td>\n",
       "      <td>NaN</td>\n",
       "      <td>3859</td>\n",
       "      <td>XM_032835619.1:264-1706</td>\n",
       "      <td>XP_032691510.1</td>\n",
       "      <td>NaN</td>\n",
       "      <td>480</td>\n",
       "      <td>odorant receptor coreceptor</td>\n",
       "    </tr>\n",
       "  </tbody>\n",
       "</table>\n",
       "</div>"
      ],
      "text/plain": [
       "      gene_id   gene_symbol                  description  \\\n",
       "0   105147775  LOC105147775  odorant receptor coreceptor   \n",
       "1   105183395  LOC105183395  odorant receptor coreceptor   \n",
       "2   105199036  LOC105199036  odorant receptor coreceptor   \n",
       "3   105249684  LOC105249684  odorant receptor coreceptor   \n",
       "4   105284785  LOC105284785  odorant receptor coreceptor   \n",
       "5   105424270  LOC105424270  odorant receptor coreceptor   \n",
       "6   105457428  LOC105457428  odorant receptor coreceptor   \n",
       "7   105561667  LOC105561667  odorant receptor coreceptor   \n",
       "8   105625195  LOC105625195  odorant receptor coreceptor   \n",
       "9   105673490  LOC105673490  odorant receptor coreceptor   \n",
       "10  105831208  LOC105831208  odorant receptor coreceptor   \n",
       "11  106748868  LOC106748868  odorant receptor coreceptor   \n",
       "12  106748868  LOC106748868  odorant receptor coreceptor   \n",
       "13  108684598  LOC108684598  odorant receptor coreceptor   \n",
       "14  108684598  LOC108684598  odorant receptor coreceptor   \n",
       "15  108724845  LOC108724845  odorant receptor coreceptor   \n",
       "16  108751604  LOC108751604  odorant receptor coreceptor   \n",
       "17  108758761  LOC108758761  odorant receptor coreceptor   \n",
       "18  108774915  LOC108774915  odorant receptor coreceptor   \n",
       "19  109857416  LOC109857416  odorant receptor coreceptor   \n",
       "20  112460528  LOC112460528  odorant receptor coreceptor   \n",
       "21  114934660  LOC114934660  odorant receptor coreceptor   \n",
       "22  115237480  LOC115237480  odorant receptor coreceptor   \n",
       "23  116854080  LOC116854080  odorant receptor coreceptor   \n",
       "\n",
       "                 scientific_name                common_name   tax_id  \\\n",
       "0          Acromyrmex echinatior  Panamanian leafcutter ant   103372   \n",
       "1          Harpegnathos saltator       Jerdon's jumping ant   610380   \n",
       "2             Solenopsis invicta               red fire ant    13686   \n",
       "3          Camponotus floridanus      Florida carpenter ant   104421   \n",
       "4                 Ooceraea biroi          clonal raider ant  2015173   \n",
       "5          Pogonomyrmex barbatus          red harvester ant   144034   \n",
       "6         Wasmannia auropunctata            little fire ant    64793   \n",
       "7             Vollenhovia emeryi                        NaN   411798   \n",
       "8                Atta cephalotes                        NaN    12957   \n",
       "9             Linepithema humile              Argentine ant    83485   \n",
       "10          Monomorium pharaonis                pharaoh ant   307658   \n",
       "11         Dinoponera quadriceps                        NaN   609295   \n",
       "12         Dinoponera quadriceps                        NaN   609295   \n",
       "13                Atta colombica                        NaN   520822   \n",
       "14                Atta colombica                        NaN   520822   \n",
       "15           Trachymyrmex zeteki                        NaN    64791   \n",
       "16  Trachymyrmex septentrionalis                        NaN    34720   \n",
       "17         Trachymyrmex cornetzi                        NaN   471704   \n",
       "18          Cyphomyrmex costatus                        NaN   456900   \n",
       "19         Pseudomyrmex gracilis                        NaN   219809   \n",
       "20     Temnothorax curvispinosus                        NaN   300111   \n",
       "21              Nylanderia fulva                        NaN   613905   \n",
       "22               Formica exsecta                        NaN    72781   \n",
       "23         Odontomachus brunneus                        NaN   486640   \n",
       "\n",
       "                     genomic_range orientation location       gene_type  \\\n",
       "0       NW_011627180.1:39489-47719           -   chr Un  PROTEIN_CODING   \n",
       "1      NW_020230404.1:97134-107285           +   chr Un  PROTEIN_CODING   \n",
       "2      NC_052665.1:4823610-4833998           +    chr 2  PROTEIN_CODING   \n",
       "3   NW_020229214.1:9396847-9403345           +   chr Un  PROTEIN_CODING   \n",
       "4    NC_039506.1:10910490-10919026           +    chr 1  PROTEIN_CODING   \n",
       "5     NW_011933557.1:711662-718961           +   chr Un  PROTEIN_CODING   \n",
       "6       NW_012027674.1:53097-61891           +   chr Un  PROTEIN_CODING   \n",
       "7     NW_011967163.1:316278-324489           -   chr Un  PROTEIN_CODING   \n",
       "8   NW_012130067.1:2024690-2031375           -   chr Un  PROTEIN_CODING   \n",
       "9     NW_012160723.1:535817-538942           -   chr Un  PROTEIN_CODING   \n",
       "10       NC_050473.1:303276-310042           +    chr 7  PROTEIN_CODING   \n",
       "11  NW_014554446.1:2144020-2150756           +   chr Un  PROTEIN_CODING   \n",
       "12  NW_014554446.1:2144020-2150756           +   chr Un  PROTEIN_CODING   \n",
       "13    NW_017259224.1:556925-564887           -   chr Un  PROTEIN_CODING   \n",
       "14    NW_017259224.1:556925-564887           -   chr Un  PROTEIN_CODING   \n",
       "15    NW_017257296.1:248166-257047           -   chr Un  PROTEIN_CODING   \n",
       "16    NW_017305673.1:749827-758198           +   chr Un  PROTEIN_CODING   \n",
       "17  NW_017296201.1:2107387-2116125           -   chr Un  PROTEIN_CODING   \n",
       "18    NW_017276877.1:531746-539710           +   chr Un  PROTEIN_CODING   \n",
       "19      NW_018020743.1:17518-25248           -   chr Un  PROTEIN_CODING   \n",
       "20    NW_020220410.1:328924-336806           -   chr Un  PROTEIN_CODING   \n",
       "21    NW_021695544.1:528711-535660           +   chr Un  PROTEIN_CODING   \n",
       "22    NW_021850207.1:595986-603861           -   chr Un  PROTEIN_CODING   \n",
       "23  NW_022639457.1:3117054-3128632           +   chr Un  PROTEIN_CODING   \n",
       "\n",
       "   transcript_accession        transcript_name  transcript_length  \\\n",
       "0        XM_011059026.1                    NaN               2621   \n",
       "1        XM_011141465.3                    NaN               4083   \n",
       "2        XM_011165941.3                    NaN               5506   \n",
       "3        XM_011255339.3                    NaN               1933   \n",
       "4        XM_011348552.2                    NaN               4114   \n",
       "5        XM_011634408.2                    NaN               2642   \n",
       "6        XM_011702081.1                    NaN               2852   \n",
       "7        XM_012011854.1                    NaN               2657   \n",
       "8        XM_012206539.1                    NaN               1449   \n",
       "9        XM_012369146.1                    NaN               1285   \n",
       "10       XM_012671191.3                    NaN               2231   \n",
       "11       XM_014627787.1  transcript variant X1               1452   \n",
       "12       XM_014627794.1  transcript variant X2               1443   \n",
       "13       XM_018188997.1  transcript variant X1               2345   \n",
       "14       XM_018188998.1  transcript variant X2               1717   \n",
       "15       XM_018451504.1                    NaN               2669   \n",
       "16       XM_018491863.1                    NaN               2764   \n",
       "17       XM_018503851.1                    NaN               2766   \n",
       "18       XM_018541153.1                    NaN               2331   \n",
       "19       XM_020433696.1                    NaN               3367   \n",
       "20       XM_025025244.1                    NaN               3655   \n",
       "21       XM_029307356.1                    NaN               2614   \n",
       "22       XM_029810552.1                    NaN               3615   \n",
       "23       XM_032835619.1                    NaN               3859   \n",
       "\n",
       "      transcript_cds_coords protein_accession isoform_name  protein_length  \\\n",
       "0   XM_011059026.1:264-1712    XP_011057328.1          NaN             482   \n",
       "1   XM_011141465.3:381-1820    XP_011139767.1          NaN             479   \n",
       "2   XM_011165941.3:203-1648    XP_011164243.1          NaN             481   \n",
       "3   XM_011255339.3:281-1726    XP_011253641.1          NaN             481   \n",
       "4   XM_011348552.2:184-1620    XP_011346854.1          NaN             478   \n",
       "5   XM_011634408.2:308-1747    XP_011632710.1          NaN             479   \n",
       "6   XM_011702081.1:277-1722    XP_011700383.1          NaN             481   \n",
       "7   XM_012011854.1:444-1880    XP_011867244.1          NaN             478   \n",
       "8     XM_012206539.1:1-1449    XP_012061929.1          NaN             482   \n",
       "9   XM_012369146.1:251-1285    XP_012224569.1          NaN             344   \n",
       "10  XM_012671191.3:245-1687    XP_012526645.1          NaN             480   \n",
       "11    XM_014627787.1:1-1452    XP_014483273.1   isoform X1             483   \n",
       "12    XM_014627794.1:1-1443    XP_014483280.1   isoform X2             480   \n",
       "13    XM_018188997.1:1-1449    XP_018044486.1          NaN             482   \n",
       "14  XM_018188998.1:269-1717    XP_018044487.1          NaN             482   \n",
       "15  XM_018451504.1:289-1737    XP_018307006.1          NaN             482   \n",
       "16  XM_018491863.1:283-1731    XP_018347365.1          NaN             482   \n",
       "17  XM_018503851.1:289-1737    XP_018359353.1          NaN             482   \n",
       "18    XM_018541153.1:1-1449    XP_018396655.1          NaN             482   \n",
       "19  XM_020433696.1:276-1718    XP_020289285.1          NaN             480   \n",
       "20  XM_025025244.1:247-1695    XP_024881012.1          NaN             482   \n",
       "21  XM_029307356.1:286-1731    XP_029163189.1          NaN             481   \n",
       "22  XM_029810552.1:376-1821    XP_029666412.1          NaN             481   \n",
       "23  XM_032835619.1:264-1706    XP_032691510.1          NaN             480   \n",
       "\n",
       "                                        protein_name  \n",
       "0                        odorant receptor coreceptor  \n",
       "1                        odorant receptor coreceptor  \n",
       "2                        odorant receptor coreceptor  \n",
       "3                        odorant receptor coreceptor  \n",
       "4                        odorant receptor coreceptor  \n",
       "5                        odorant receptor coreceptor  \n",
       "6                        odorant receptor coreceptor  \n",
       "7                        odorant receptor coreceptor  \n",
       "8                        odorant receptor coreceptor  \n",
       "9   LOW QUALITY PROTEIN: odorant receptor coreceptor  \n",
       "10                       odorant receptor coreceptor  \n",
       "11                       odorant receptor coreceptor  \n",
       "12                       odorant receptor coreceptor  \n",
       "13                       odorant receptor coreceptor  \n",
       "14                       odorant receptor coreceptor  \n",
       "15                       odorant receptor coreceptor  \n",
       "16                       odorant receptor coreceptor  \n",
       "17                       odorant receptor coreceptor  \n",
       "18                       odorant receptor coreceptor  \n",
       "19                       odorant receptor coreceptor  \n",
       "20                       odorant receptor coreceptor  \n",
       "21                       odorant receptor coreceptor  \n",
       "22                       odorant receptor coreceptor  \n",
       "23                       odorant receptor coreceptor  "
      ]
     },
     "execution_count": 45,
     "metadata": {},
     "output_type": "execute_result"
    }
   ],
   "source": [
    "# Create an object called ortho_table using pandas\n",
    "ortho_table = pd.read_csv(\"ortholog/ncbi_dataset/data/data_table.tsv\", sep='\\t')\n",
    "ortho_table"
   ]
  },
  {
   "cell_type": "markdown",
   "id": "ad41374d",
   "metadata": {},
   "source": [
    "## What have we done so far?\n",
    "- Explored metadata for all ant genomes\n",
    "- Downloaded genomes for the panamanian leaf cutter ant\n",
    "- Downloaded the orco gene for Acromyrmex echinatior\n",
    "- Downloaded the ortholog set for all ants for the orco gene\n",
    "\n",
    "<img src=\"./images/elmo_done.png\" />"
   ]
  },
  {
   "cell_type": "markdown",
   "id": "8a89ad6f",
   "metadata": {},
   "source": [
    "## Part IV: Building a BLAST database and creating a phylogenetic tree<a class=\"anchor\" id=\"Part-IV\"></a>\n",
    "\n",
    "### Here's what we are showing you now:\n",
    "- BLAST:\n",
    "    - Create a BLAST database for each genome\n",
    "    - BLAST the *orco* gene sequence against the genomes database and extract the matching regions\n",
    "- multiple sequence alignment of the blast matches and the ortholog sequences\n",
    "- generate a approximate maximum likelihood tree using FastTree\n",
    "\n",
    "We'll add more detailed information about the commands we're using here to the GitHub page."
   ]
  },
  {
   "cell_type": "markdown",
   "id": "aca6900d",
   "metadata": {},
   "source": [
    "#### Extracting taxIDs from the genome data package\n",
    "\n",
    "First, let's use `dataformat` to extract the species names, taxID and assembly accession numbers from the genomes we downloaded. We will talk in more detail about `dataformat` later."
   ]
  },
  {
   "cell_type": "code",
   "execution_count": 46,
   "id": "b1ce6599",
   "metadata": {},
   "outputs": [
    {
     "name": "stdout",
     "output_type": "stream",
     "text": [
      "Organism name\tTaxonomic ID\tAssembly Accession\n",
      "Acromyrmex echinatior\t103372\tGCA_000204515.1\n",
      "Acromyrmex insinuator\t230686\tGCA_017607455.1\n",
      "Acromyrmex charruanus\t2715315\tGCA_017607545.1\n",
      "Acromyrmex heyeri\t230685\tGCA_017607565.1\n"
     ]
    }
   ],
   "source": [
    "%%bash\n",
    "# Extract tax id for each species:\n",
    "dataformat tsv genome --fields organism-name,tax-id,assminfo-accession --package genomes.zip "
   ]
  },
  {
   "cell_type": "markdown",
   "id": "0c5e8357",
   "metadata": {},
   "source": [
    "#### Creating a BLAST database with taxonomy information.\n",
    "\n",
    "First we are going to create a folder called `blastdb` with the UNIX command `mkdir`. Next, we will change to the directory we just created. Finally, we will make a copy of the NCBI taxonomy database (taxdb)"
   ]
  },
  {
   "cell_type": "code",
   "execution_count": 47,
   "id": "89044275",
   "metadata": {},
   "outputs": [
    {
     "name": "stdout",
     "output_type": "stream",
     "text": [
      "/Users/mtsuchiya/Desktop/ncbi/CSHL/blastdb\n",
      "Connected to NCBI\n",
      "Downloading taxdb.tar.gz... [OK]\n"
     ]
    }
   ],
   "source": [
    "# Create a folder called blastdb\n",
    "!mkdir blastdb\n",
    "\n",
    "# change directory to the folder blastdb\n",
    "%cd blastdb\n",
    "\n",
    "# download the NCBI Taxonomy Database (taxdb)\n",
    "!update_blastdb.pl taxdb"
   ]
  },
  {
   "cell_type": "markdown",
   "id": "6ec18669",
   "metadata": {},
   "source": [
    "#### BLAST database and search\n",
    "Now we will create a BLAST database with the *Acromyrmex* genomes we downloaded. More information about the commands is available on out GitHub page."
   ]
  },
  {
   "cell_type": "code",
   "execution_count": 48,
   "id": "a15f18f5",
   "metadata": {},
   "outputs": [
    {
     "name": "stdout",
     "output_type": "stream",
     "text": [
      "\n",
      "\n",
      "Building a new DB, current time: 01/03/2022 14:43:46\n",
      "New DB name:   /Users/mtsuchiya/Desktop/ncbi/CSHL/blastdb/Aechinatior\n",
      "New DB title:  ../genomes/ncbi_dataset/data/GCA_000204515.1/unplaced.scaf.fna\n",
      "Sequence type: Nucleotide\n",
      "Keep MBits: T\n",
      "Maximum file size: 1000000000B\n",
      "Adding sequences from FASTA; added 4339 sequences in 2.88096 seconds.\n",
      "\n",
      "\n",
      "\n",
      "\n",
      "Building a new DB, current time: 01/03/2022 14:43:50\n",
      "New DB name:   /Users/mtsuchiya/Desktop/ncbi/CSHL/blastdb/Ainsinuator\n",
      "New DB title:  ../genomes/ncbi_dataset/data/GCA_017607455.1/GCA_017607455.1_ASM1760745v1_genomic.fna\n",
      "Sequence type: Nucleotide\n",
      "Keep MBits: T\n",
      "Maximum file size: 1000000000B\n",
      "Adding sequences from FASTA; added 890 sequences in 2.89056 seconds.\n",
      "\n",
      "\n",
      "\n",
      "\n",
      "Building a new DB, current time: 01/03/2022 14:43:54\n",
      "New DB name:   /Users/mtsuchiya/Desktop/ncbi/CSHL/blastdb/Acharruanus\n",
      "New DB title:  ../genomes/ncbi_dataset/data/GCA_017607545.1/GCA_017607545.1_ASM1760754v1_genomic.fna\n",
      "Sequence type: Nucleotide\n",
      "Keep MBits: T\n",
      "Maximum file size: 1000000000B\n",
      "Adding sequences from FASTA; added 6883 sequences in 3.11641 seconds.\n",
      "\n",
      "\n",
      "\n",
      "\n",
      "Building a new DB, current time: 01/03/2022 14:43:57\n",
      "New DB name:   /Users/mtsuchiya/Desktop/ncbi/CSHL/blastdb/Aheyeri\n",
      "New DB title:  ../genomes/ncbi_dataset/data/GCA_017607565.1/GCA_017607565.1_ASM1760756v1_genomic.fna\n",
      "Sequence type: Nucleotide\n",
      "Keep MBits: T\n",
      "Maximum file size: 1000000000B\n",
      "Adding sequences from FASTA; added 11183 sequences in 3.2221 seconds.\n",
      "\n",
      "\n"
     ]
    },
    {
     "name": "stderr",
     "output_type": "stream",
     "text": [
      "Created nucleotide BLAST (alias) database acromyrmex with 23295 sequences\n"
     ]
    }
   ],
   "source": [
    "%%bash\n",
    "# Create a blast database for each genome\n",
    "makeblastdb -dbtype nucl -in ../genomes/ncbi_dataset/data/GCA_000204515.1/unplaced.scaf.fna -taxid 103372 -out Aechinatior\n",
    "makeblastdb -dbtype nucl -in ../genomes/ncbi_dataset/data/GCA_017607455.1/GCA_017607455.1_ASM1760745v1_genomic.fna -taxid 230686 -out Ainsinuator \n",
    "makeblastdb -dbtype nucl -in ../genomes/ncbi_dataset/data/GCA_017607545.1/GCA_017607545.1_ASM1760754v1_genomic.fna -taxid 2715315 -out Acharruanus\n",
    "makeblastdb -dbtype nucl -in ../genomes/ncbi_dataset/data/GCA_017607565.1/GCA_017607565.1_ASM1760756v1_genomic.fna -taxid 230685 -out Aheyeri\n",
    "\n",
    "# Create an alias under which the four genome databases can be called\n",
    "blastdb_aliastool -dbtype nucl -title acromyrmex -out acromyrmex -dblist \"Acharruanus Aechinatior Aheyeri Ainsinuator\"\n",
    "\n",
    "# BLASTN search\n",
    "blastn \\\n",
    "-db acromyrmex \\\n",
    "-query ../gene/ncbi_dataset/data/gene.fna \\\n",
    "-evalue 1e-50 \\\n",
    "-outfmt 11 \\\n",
    "-max_hsps 1 \\\n",
    "-out orco_acromyrmex_1e-50.asn\n",
    "\n",
    "# Covert the asn.1 output to tabular (output format 6)\n",
    "\n",
    "blast_formatter \\\n",
    "-archive orco_acromyrmex_1e-50.asn \\\n",
    "-outfmt '6 sseqid sstart send evalue length staxid ssciname' > orco_acromyrmex_1e-50.tsv"
   ]
  },
  {
   "cell_type": "markdown",
   "id": "4ec1c81f",
   "metadata": {},
   "source": [
    "Using `pandas` again, we will create an object with the tsv file we just created from the BLAST output, so we can take a look at our results."
   ]
  },
  {
   "cell_type": "code",
   "execution_count": 49,
   "id": "ba539fd4",
   "metadata": {},
   "outputs": [
    {
     "data": {
      "text/html": [
       "<div>\n",
       "<style scoped>\n",
       "    .dataframe tbody tr th:only-of-type {\n",
       "        vertical-align: middle;\n",
       "    }\n",
       "\n",
       "    .dataframe tbody tr th {\n",
       "        vertical-align: top;\n",
       "    }\n",
       "\n",
       "    .dataframe thead th {\n",
       "        text-align: right;\n",
       "    }\n",
       "</style>\n",
       "<table border=\"1\" class=\"dataframe\">\n",
       "  <thead>\n",
       "    <tr style=\"text-align: right;\">\n",
       "      <th></th>\n",
       "      <th>0</th>\n",
       "      <th>1</th>\n",
       "      <th>2</th>\n",
       "      <th>3</th>\n",
       "      <th>4</th>\n",
       "      <th>5</th>\n",
       "      <th>6</th>\n",
       "    </tr>\n",
       "  </thead>\n",
       "  <tbody>\n",
       "    <tr>\n",
       "      <th>0</th>\n",
       "      <td>GL888262.1</td>\n",
       "      <td>47719</td>\n",
       "      <td>39489</td>\n",
       "      <td>0.000000e+00</td>\n",
       "      <td>8231</td>\n",
       "      <td>103372</td>\n",
       "      <td>NaN</td>\n",
       "    </tr>\n",
       "    <tr>\n",
       "      <th>1</th>\n",
       "      <td>JAANIC010002885.1</td>\n",
       "      <td>374203</td>\n",
       "      <td>382429</td>\n",
       "      <td>0.000000e+00</td>\n",
       "      <td>8319</td>\n",
       "      <td>2715315</td>\n",
       "      <td>NaN</td>\n",
       "    </tr>\n",
       "    <tr>\n",
       "      <th>2</th>\n",
       "      <td>JAANHZ010000736.1</td>\n",
       "      <td>394277</td>\n",
       "      <td>399208</td>\n",
       "      <td>0.000000e+00</td>\n",
       "      <td>4942</td>\n",
       "      <td>230686</td>\n",
       "      <td>NaN</td>\n",
       "    </tr>\n",
       "    <tr>\n",
       "      <th>3</th>\n",
       "      <td>JAANIB010005913.1</td>\n",
       "      <td>42669</td>\n",
       "      <td>38207</td>\n",
       "      <td>0.000000e+00</td>\n",
       "      <td>4507</td>\n",
       "      <td>230685</td>\n",
       "      <td>NaN</td>\n",
       "    </tr>\n",
       "    <tr>\n",
       "      <th>4</th>\n",
       "      <td>JAANIB010010813.1</td>\n",
       "      <td>2927587</td>\n",
       "      <td>2927837</td>\n",
       "      <td>3.100000e-64</td>\n",
       "      <td>256</td>\n",
       "      <td>230685</td>\n",
       "      <td>NaN</td>\n",
       "    </tr>\n",
       "    <tr>\n",
       "      <th>5</th>\n",
       "      <td>JAANIC010005341.1</td>\n",
       "      <td>252786</td>\n",
       "      <td>252532</td>\n",
       "      <td>4.010000e-63</td>\n",
       "      <td>259</td>\n",
       "      <td>2715315</td>\n",
       "      <td>NaN</td>\n",
       "    </tr>\n",
       "    <tr>\n",
       "      <th>6</th>\n",
       "      <td>JAANHZ010000232.1</td>\n",
       "      <td>840079</td>\n",
       "      <td>839835</td>\n",
       "      <td>1.440000e-62</td>\n",
       "      <td>249</td>\n",
       "      <td>230686</td>\n",
       "      <td>NaN</td>\n",
       "    </tr>\n",
       "    <tr>\n",
       "      <th>7</th>\n",
       "      <td>GL888207.1</td>\n",
       "      <td>1612253</td>\n",
       "      <td>1612494</td>\n",
       "      <td>1.440000e-62</td>\n",
       "      <td>246</td>\n",
       "      <td>103372</td>\n",
       "      <td>NaN</td>\n",
       "    </tr>\n",
       "    <tr>\n",
       "      <th>8</th>\n",
       "      <td>JAANIB010005055.1</td>\n",
       "      <td>682287</td>\n",
       "      <td>682472</td>\n",
       "      <td>1.450000e-57</td>\n",
       "      <td>190</td>\n",
       "      <td>230685</td>\n",
       "      <td>NaN</td>\n",
       "    </tr>\n",
       "    <tr>\n",
       "      <th>9</th>\n",
       "      <td>JAANIC010001616.1</td>\n",
       "      <td>1476837</td>\n",
       "      <td>1476653</td>\n",
       "      <td>1.880000e-56</td>\n",
       "      <td>188</td>\n",
       "      <td>2715315</td>\n",
       "      <td>NaN</td>\n",
       "    </tr>\n",
       "    <tr>\n",
       "      <th>10</th>\n",
       "      <td>JAANHZ010000841.1</td>\n",
       "      <td>315266</td>\n",
       "      <td>315075</td>\n",
       "      <td>2.430000e-55</td>\n",
       "      <td>195</td>\n",
       "      <td>230686</td>\n",
       "      <td>NaN</td>\n",
       "    </tr>\n",
       "    <tr>\n",
       "      <th>11</th>\n",
       "      <td>GL888384.1</td>\n",
       "      <td>155177</td>\n",
       "      <td>155368</td>\n",
       "      <td>2.430000e-55</td>\n",
       "      <td>195</td>\n",
       "      <td>103372</td>\n",
       "      <td>NaN</td>\n",
       "    </tr>\n",
       "    <tr>\n",
       "      <th>12</th>\n",
       "      <td>JAANIB010000751.1</td>\n",
       "      <td>1021249</td>\n",
       "      <td>1021433</td>\n",
       "      <td>8.740000e-55</td>\n",
       "      <td>189</td>\n",
       "      <td>230685</td>\n",
       "      <td>NaN</td>\n",
       "    </tr>\n",
       "    <tr>\n",
       "      <th>13</th>\n",
       "      <td>JAANIB010006262.1</td>\n",
       "      <td>173422</td>\n",
       "      <td>173603</td>\n",
       "      <td>5.260000e-52</td>\n",
       "      <td>188</td>\n",
       "      <td>230685</td>\n",
       "      <td>NaN</td>\n",
       "    </tr>\n",
       "    <tr>\n",
       "      <th>14</th>\n",
       "      <td>JAANIC010003998.1</td>\n",
       "      <td>311753</td>\n",
       "      <td>311534</td>\n",
       "      <td>5.260000e-52</td>\n",
       "      <td>236</td>\n",
       "      <td>2715315</td>\n",
       "      <td>NaN</td>\n",
       "    </tr>\n",
       "  </tbody>\n",
       "</table>\n",
       "</div>"
      ],
      "text/plain": [
       "                    0        1        2             3     4        5   6\n",
       "0          GL888262.1    47719    39489  0.000000e+00  8231   103372 NaN\n",
       "1   JAANIC010002885.1   374203   382429  0.000000e+00  8319  2715315 NaN\n",
       "2   JAANHZ010000736.1   394277   399208  0.000000e+00  4942   230686 NaN\n",
       "3   JAANIB010005913.1    42669    38207  0.000000e+00  4507   230685 NaN\n",
       "4   JAANIB010010813.1  2927587  2927837  3.100000e-64   256   230685 NaN\n",
       "5   JAANIC010005341.1   252786   252532  4.010000e-63   259  2715315 NaN\n",
       "6   JAANHZ010000232.1   840079   839835  1.440000e-62   249   230686 NaN\n",
       "7          GL888207.1  1612253  1612494  1.440000e-62   246   103372 NaN\n",
       "8   JAANIB010005055.1   682287   682472  1.450000e-57   190   230685 NaN\n",
       "9   JAANIC010001616.1  1476837  1476653  1.880000e-56   188  2715315 NaN\n",
       "10  JAANHZ010000841.1   315266   315075  2.430000e-55   195   230686 NaN\n",
       "11         GL888384.1   155177   155368  2.430000e-55   195   103372 NaN\n",
       "12  JAANIB010000751.1  1021249  1021433  8.740000e-55   189   230685 NaN\n",
       "13  JAANIB010006262.1   173422   173603  5.260000e-52   188   230685 NaN\n",
       "14  JAANIC010003998.1   311753   311534  5.260000e-52   236  2715315 NaN"
      ]
     },
     "execution_count": 49,
     "metadata": {},
     "output_type": "execute_result"
    }
   ],
   "source": [
    "# Create a table and visualize the BLAST results\n",
    "\n",
    "blast_table = pd.read_csv('orco_acromyrmex_1e-50.tsv', sep='\\t', header=None)\n",
    "blast_table"
   ]
  },
  {
   "cell_type": "markdown",
   "id": "ad0ead0a",
   "metadata": {},
   "source": [
    "#### Converting from BLAST to fasta\n",
    "\n",
    "Now we are going to use some \"tricks\" (not really, just some good old bash scripting) to extract fasta sequences from the BLAST output. For tthis task, we will be using `blast_formatter` again."
   ]
  },
  {
   "cell_type": "code",
   "execution_count": 50,
   "id": "6b0fcd5b",
   "metadata": {},
   "outputs": [
    {
     "name": "stderr",
     "output_type": "stream",
     "text": [
      "Warning: Examining 5 or more matches is recommended\n"
     ]
    }
   ],
   "source": [
    "%%bash\n",
    "# Convert BLAST output to fasta\n",
    "\n",
    "blast_formatter \\\n",
    "-archive orco_acromyrmex_1e-50.asn \\\n",
    "-outfmt '6 ssciname sseqid sseq' \\\n",
    "-max_target_seqs 4 | awk 'BEGIN{FS=\"\\t\"; OFS=\"\\n\"}{gsub(/ /, \"_\", $1);gsub(/-/, \"\", $3); print \">\"$1\"_\"$2,$3}' > ../acromyrmex_orco.fasta\n"
   ]
  },
  {
   "cell_type": "markdown",
   "id": "2d7041a1",
   "metadata": {},
   "source": [
    "<img src=\"./images/elmo_blast_done.png\"/>"
   ]
  },
  {
   "cell_type": "markdown",
   "id": "de48261f",
   "metadata": {},
   "source": [
    "### VERY IMPORTANT!\n",
    "For the next steps, we need to go back to our home folder. Let's do it in steps again."
   ]
  },
  {
   "cell_type": "code",
   "execution_count": 51,
   "id": "5e9fa8c8",
   "metadata": {},
   "outputs": [
    {
     "name": "stdout",
     "output_type": "stream",
     "text": [
      "/Users/mtsuchiya/Desktop/ncbi/CSHL/blastdb\n"
     ]
    }
   ],
   "source": [
    "%%bash\n",
    "## Check where you are\n",
    "pwd"
   ]
  },
  {
   "cell_type": "code",
   "execution_count": 52,
   "id": "d795c1c9",
   "metadata": {},
   "outputs": [
    {
     "name": "stdout",
     "output_type": "stream",
     "text": [
      "/Users/mtsuchiya/Desktop/ncbi/CSHL\n"
     ]
    }
   ],
   "source": [
    "## If you're not in the home folder, run this command:\n",
    "%cd .."
   ]
  },
  {
   "cell_type": "markdown",
   "id": "1fdf2d6a",
   "metadata": {},
   "source": [
    "### Multiple sequence alignment: BLAST matches + *orco* orthologs\n",
    "\n",
    "First, let's simplify the FASTA headers in the ortholog set."
   ]
  },
  {
   "cell_type": "code",
   "execution_count": 53,
   "id": "2a0d770e",
   "metadata": {},
   "outputs": [
    {
     "name": "stderr",
     "output_type": "stream",
     "text": [
      "[INFO]\u001b[0m read key-value file: /dev/fd/63\n",
      "[INFO]\u001b[0m 22 pairs of key-value loaded\n"
     ]
    }
   ],
   "source": [
    "%%bash\n",
    "# Extract the seqids from the gene ortholog fasta and remove the spaces\n",
    "grep \">\" ortholog/ncbi_dataset/data/gene.fna | sed 's/ /,/g' > ortholog_seqid.txt\n",
    "\n",
    "#Create a mapping file with the original name in the column 1 and a shortened name on column 2\n",
    "cat ortholog_seqid.txt | while read line; do\n",
    "new=$( echo $line | awk 'BEGIN {FS=\",\"; OFS=\"_\"}{gsub(/\\[organism\\=/, \"\", $3);gsub(/]/, \"\", $4);gsub(/\\[GeneID\\=|\\]/, \"\", $5)} ;{print substr($3,1,1)\"_\"$4,$5}'); \n",
    "old=$( echo $line | sed 's/,/\\_/g;s/>//g')\n",
    "printf \"${old}\\t${new}\\n\" >> name_map.tsv; \n",
    "done\n",
    "\n",
    "#Copy the ortholog dataset fasta\n",
    "cp ortholog/ncbi_dataset/data/gene.fna ortholog_gene.fna\n",
    "\n",
    "#Remove spaces in the fasta sequnce names\n",
    "sed 's/ /_/g' ortholog_gene.fna > ortholog_gene_nospaces.fna\n",
    "\n",
    "#Replace the names in the fasta file\n",
    "cat ortholog_gene_nospaces.fna | seqkit replace \\\n",
    "--kv-file  <(cut -f 1,2 name_map.tsv) \\\n",
    "--pattern \"^(.*)\" --replacement \"{kv}\" > ortholog_gene_final.fna"
   ]
  },
  {
   "cell_type": "markdown",
   "id": "2fa2ed2f",
   "metadata": {},
   "source": [
    "### Multiple sequence alignment and phylogenetic reconstruction\n",
    "\n",
    "Now, let's concatenate the FASTA we extracted from the BLAST matches, align them using MAFFT and use FastTree to generate an approximate ML phylogeny."
   ]
  },
  {
   "cell_type": "code",
   "execution_count": 54,
   "id": "006779c3",
   "metadata": {},
   "outputs": [
    {
     "name": "stderr",
     "output_type": "stream",
     "text": [
      "nthread = 0\n",
      "nthreadpair = 0\n",
      "nthreadtb = 0\n",
      "ppenalty_ex = 0\n",
      "stacksize: 8192 kb\n",
      "generating a scoring matrix for nucleotide (dist=200) ... done\n",
      "Gap Penalty = -1.53, +0.00, +0.00\n",
      "\n",
      "\n",
      "\n",
      "Making a distance matrix ..\n",
      "\n",
      "There are 640 ambiguous characters.\n",
      "    1 / 26\n",
      "done.\n",
      "\n",
      "Constructing a UPGMA tree (efffree=0) ... \n",
      "   20 / 26\n",
      "done.\n",
      "\n",
      "Progressive alignment 1/2... \n",
      "STEP    12 / 25  f\b\b\n",
      "Reallocating..done. *alloclen = 27122\n",
      "STEP    15 / 25  f\b\b\n",
      "Reallocating..done. *alloclen = 30176\n",
      "STEP    24 / 25  f\b\b\n",
      "Reallocating..done. *alloclen = 31377\n",
      "STEP    25 / 25  f\b\b\n",
      "done.\n",
      "\n",
      "Making a distance matrix from msa.. \n",
      "    0 / 26\n",
      "done.\n",
      "\n",
      "Constructing a UPGMA tree (efffree=1) ... \n",
      "   20 / 26\n",
      "done.\n",
      "\n",
      "Progressive alignment 2/2... \n",
      "STEP    13 / 25  f\b\b\n",
      "Reallocating..done. *alloclen = 25909\n",
      "STEP    16 / 25  f\b\b\n",
      "Reallocating..done. *alloclen = 27174\n",
      "STEP    19 / 25  f\b\b\n",
      "Reallocating..done. *alloclen = 31994\n",
      "STEP    22 / 25  f\b\b\n",
      "Reallocating..done. *alloclen = 33811\n",
      "STEP    25 / 25  f\b\b\n",
      "done.\n",
      "\n",
      "disttbfast (nuc) Version 7.490\n",
      "alg=A, model=DNA200 (2), 1.53 (4.59), -0.00 (-0.00), noshift, amax=0.0\n",
      "0 thread(s)\n",
      "\n",
      "\n",
      "Strategy:\n",
      " FFT-NS-2 (Fast but rough)\n",
      " Progressive method (guide trees were built 2 times.)\n",
      "\n",
      "If unsure which option to use, try 'mafft --auto input > output'.\n",
      "For more information, see 'mafft --help', 'mafft --man' and the mafft page.\n",
      "\n",
      "The default gap scoring scheme has been changed in version 7.110 (2013 Oct).\n",
      "It tends to insert more gaps into gap-rich regions than previous versions.\n",
      "To disable this change, add the --leavegappyregion option.\n",
      "\n",
      "FastTree Version 2.1.10 Double precision (No SSE3)\n",
      "Alignment: orco_all_aln.fasta\n",
      "Nucleotide distances: Jukes-Cantor Joins: balanced Support: SH-like 1000\n",
      "Search: Normal +NNI +SPR (2 rounds range 10) +ML-NNI opt-each=1\n",
      "TopHits: 1.00*sqrtN close=default refresh=0.80\n",
      "ML Model: Jukes-Cantor, CAT approximation with 20 rate categories\n",
      "Ignored unknown character n (seen 640 times)\n",
      "Initial topology in 0.12 seconds\n",
      "Refining topology: 19 rounds ME-NNIs, 2 rounds ME-SPRs, 9 rounds ML-NNIs\n",
      "      0.12 seconds: ME NNI round 1 of 19, 1 of 23 splits\n",
      "      0.85 seconds: ME NNI round 7 of 19, 1 of 23 splits\n",
      "      1.58 seconds: ME NNI round 13 of 19, 1 of 23 splits\n",
      "Total branch-length 2.969 after 1.64 sec\n",
      "      1.88 seconds: ML NNI round 1 of 9, 1 of 23 splits\n",
      "ML-NNI round 1: LogLk = -129453.890 NNIs 3 max delta 12.30 Time 2.65\n",
      "      2.66 seconds: Site likelihoods with rate category 1 of 20\n",
      "      2.76 seconds: Site likelihoods with rate category 12 of 20\n",
      "Switched to using 20 rate categories (CAT approximation)\n",
      "Rate categories were divided by 0.727 so that average rate = 1.0\n",
      "CAT-based log-likelihoods may not be comparable across runs\n",
      "Use -gamma for approximate but comparable Gamma(20) log-likelihoods\n",
      "ML-NNI round 2: LogLk = -121688.136 NNIs 0 max delta 0.00 Time 3.13\n",
      "Turning off heuristics for final round of ML NNIs (converged)\n",
      "      3.13 seconds: ML NNI round 3 of 9, 1 of 23 splits\n",
      "ML-NNI round 3: LogLk = -121681.060 NNIs 0 max delta 0.00 Time 3.91 (final)\n",
      "      3.91 seconds: ML Lengths 1 of 23 splits\n",
      "Optimize all lengths: LogLk = -121681.011 Time 4.11\n",
      "Total time: 7.10 seconds Unique: 25/26 Bad splits: 0/22\n"
     ]
    }
   ],
   "source": [
    "%%bash\n",
    "\n",
    "#Concatenate sequences\n",
    "cat ortholog_gene_final.fna acromyrmex_orco.fasta > orco_all.fasta\n",
    "\n",
    "#align sequences with mafft\n",
    "mafft orco_all.fasta > orco_all_aln.fasta\n",
    "\n",
    "#Generate a phylogeny using fasttree\n",
    "FastTree -nt orco_all_aln.fasta > orco.tree"
   ]
  },
  {
   "cell_type": "markdown",
   "id": "5015f7d8",
   "metadata": {},
   "source": [
    "### Visualizing the tree"
   ]
  },
  {
   "cell_type": "code",
   "execution_count": 55,
   "id": "0044312d",
   "metadata": {},
   "outputs": [
    {
     "data": {
      "text/plain": [
       "(<toyplot.canvas.Canvas at 0x10d11e040>,\n",
       " <toyplot.coordinates.Cartesian at 0x10d11e280>,\n",
       " <toytree.Render.ToytreeMark at 0x10d134130>)"
      ]
     },
     "execution_count": 55,
     "metadata": {},
     "output_type": "execute_result"
    },
    {
     "data": {
      "text/html": [
       "<div class=\"toyplot\" id=\"t843e52ccbca7406f97cae9cb05cc5d6a\" style=\"text-align:center\"><svg class=\"toyplot-canvas-Canvas\" xmlns:toyplot=\"http://www.sandia.gov/toyplot\" xmlns:xlink=\"http://www.w3.org/1999/xlink\" xmlns=\"http://www.w3.org/2000/svg\" width=\"385.0px\" height=\"468.0px\" viewBox=\"0 0 385.0 468.0\" preserveAspectRatio=\"xMidYMid meet\" style=\"background-color:transparent;border-color:#292724;border-style:none;border-width:1.0;fill:rgb(16.1%,15.3%,14.1%);fill-opacity:1.0;font-family:Helvetica;font-size:12px;opacity:1.0;stroke:rgb(16.1%,15.3%,14.1%);stroke-opacity:1.0;stroke-width:1.0\" id=\"tf1eeb3b663bf46ccbaeb52d77d99d0e6\"><g class=\"toyplot-coordinates-Cartesian\" id=\"tb0590c49da084f7d838f98063b5705fb\"><clipPath id=\"t3560add0dafe42649542c7ff3120ede9\"><rect x=\"30.0\" y=\"30.0\" width=\"325.0\" height=\"408.0\"></rect></clipPath><g clip-path=\"url(#t3560add0dafe42649542c7ff3120ede9)\"><g class=\"toytree-mark-Toytree\" id=\"t4a2cbbb611f745b09578c8edc117d707\"><g class=\"toytree-Edges\" style=\"fill:none;stroke:rgb(40%,76.1%,64.7%);stroke-linecap:round;stroke-opacity:1;stroke-width:2\"><path d=\"M 51.2 110.7 L 51.2 72.1 L 74.7 72.1\" id=\"50,49\"></path><path d=\"M 51.2 110.7 L 51.2 149.2 L 74.7 149.2\" id=\"50,48\"></path><path d=\"M 74.7 72.1 L 74.7 82.5 L 86.3 82.5\" id=\"49,47\"></path><path d=\"M 74.7 149.2 L 74.7 113.5 L 120.2 113.5\" id=\"48,46\"></path><path d=\"M 74.7 149.2 L 74.7 185.0 L 81.9 185.0\" id=\"48,45\"></path><path d=\"M 120.2 113.5 L 120.2 123.8 L 131.6 123.8\" id=\"46,44\"></path><path d=\"M 81.9 185.0 L 81.9 154.8 L 91.5 154.8\" id=\"45,43\"></path><path d=\"M 81.9 185.0 L 81.9 215.2 L 99.1 215.2\" id=\"45,42\"></path><path d=\"M 91.5 154.8 L 91.5 165.1 L 101.2 165.1\" id=\"43,41\"></path><path d=\"M 99.1 215.2 L 99.1 244.6 L 112.3 244.6\" id=\"42,40\"></path><path d=\"M 112.3 244.6 L 112.3 220.2 L 115.7 220.2\" id=\"40,39\"></path><path d=\"M 112.3 244.6 L 112.3 268.9 L 119.6 268.9\" id=\"40,38\"></path><path d=\"M 115.7 220.2 L 115.7 206.4 L 133.6 206.4\" id=\"39,37\"></path><path d=\"M 115.7 220.2 L 115.7 234.0 L 130.9 234.0\" id=\"39,36\"></path><path d=\"M 119.6 268.9 L 119.6 283.1 L 142.5 283.1\" id=\"38,35\"></path><path d=\"M 142.5 283.1 L 142.5 297.8 L 147.1 297.8\" id=\"35,34\"></path><path d=\"M 147.1 297.8 L 147.1 313.4 L 153.7 313.4\" id=\"34,33\"></path><path d=\"M 153.7 313.4 L 153.7 330.9 L 155.9 330.9\" id=\"33,32\"></path><path d=\"M 155.9 330.9 L 155.9 352.0 L 157.8 352.0\" id=\"32,31\"></path><path d=\"M 157.8 352.0 L 157.8 330.4 L 168.7 330.4\" id=\"31,30\"></path><path d=\"M 157.8 352.0 L 157.8 373.5 L 163.1 373.5\" id=\"31,29\"></path><path d=\"M 163.1 373.5 L 163.1 358.0 L 165.2 358.0\" id=\"29,28\"></path><path d=\"M 163.1 373.5 L 163.1 389.0 L 166.9 389.0\" id=\"29,27\"></path><path d=\"M 166.9 389.0 L 166.9 399.3 L 167.6 399.3\" id=\"27,26\"></path><path d=\"M 74.7 72.1 L 74.7 61.8 L 162.1 61.8\" id=\"49,25\"></path><path d=\"M 86.3 82.5 L 86.3 75.6 L 158.6 75.6\" id=\"47,24\"></path><path d=\"M 86.3 82.5 L 86.3 89.3 L 175.9 89.3\" id=\"47,23\"></path><path d=\"M 120.2 113.5 L 120.2 103.1 L 163.6 103.1\" id=\"46,22\"></path><path d=\"M 131.6 123.8 L 131.6 116.9 L 160.2 116.9\" id=\"44,21\"></path><path d=\"M 131.6 123.8 L 131.6 130.7 L 153.0 130.7\" id=\"44,20\"></path><path d=\"M 91.5 154.8 L 91.5 144.5 L 175.5 144.5\" id=\"43,19\"></path><path d=\"M 101.2 165.1 L 101.2 158.2 L 170.3 158.2\" id=\"41,18\"></path><path d=\"M 101.2 165.1 L 101.2 172.0 L 215.3 172.0\" id=\"41,17\"></path><path d=\"M 99.1 215.2 L 99.1 185.8 L 168.1 185.8\" id=\"42,16\"></path><path d=\"M 133.6 206.4 L 133.6 199.6 L 173.6 199.6\" id=\"37,15\"></path><path d=\"M 133.6 206.4 L 133.6 213.3 L 156.7 213.3\" id=\"37,14\"></path><path d=\"M 130.9 234.0 L 130.9 227.1 L 167.4 227.1\" id=\"36,13\"></path><path d=\"M 130.9 234.0 L 130.9 240.9 L 191.3 240.9\" id=\"36,12\"></path><path d=\"M 119.6 268.9 L 119.6 254.7 L 160.8 254.7\" id=\"38,11\"></path><path d=\"M 142.5 283.1 L 142.5 268.4 L 168.1 268.4\" id=\"35,10\"></path><path d=\"M 147.1 297.8 L 147.1 282.2 L 159.0 282.2\" id=\"34,9\"></path><path d=\"M 153.7 313.4 L 153.7 296.0 L 163.9 296.0\" id=\"33,8\"></path><path d=\"M 155.9 330.9 L 155.9 309.8 L 165.4 309.8\" id=\"32,7\"></path><path d=\"M 168.7 330.4 L 168.7 323.5 L 170.0 323.5\" id=\"30,6\"></path><path d=\"M 168.7 330.4 L 168.7 337.3 L 170.3 337.3\" id=\"30,5\"></path><path d=\"M 165.2 358.0 L 165.2 351.1 L 166.6 351.1\" id=\"28,4\"></path><path d=\"M 165.2 358.0 L 165.2 364.9 L 166.2 364.9\" id=\"28,3\"></path><path d=\"M 166.9 389.0 L 166.9 378.7 L 167.3 378.7\" id=\"27,2\"></path><path d=\"M 167.6 399.3 L 167.6 392.4 L 167.6 392.4\" id=\"26,1\"></path><path d=\"M 167.6 399.3 L 167.6 406.2 L 167.6 406.2\" id=\"26,0\"></path></g><g class=\"toytree-AlignEdges\" style=\"stroke:rgb(66.3%,66.3%,66.3%);stroke-dasharray:2, 4;stroke-linecap:round;stroke-opacity:1.0;stroke-width:2\"><path d=\"M 215.3 406.2 L 167.6 406.2\"></path><path d=\"M 215.3 392.4 L 167.6 392.4\"></path><path d=\"M 215.3 378.7 L 167.3 378.7\"></path><path d=\"M 215.3 364.9 L 166.2 364.9\"></path><path d=\"M 215.3 351.1 L 166.6 351.1\"></path><path d=\"M 215.3 337.3 L 170.3 337.3\"></path><path d=\"M 215.3 323.5 L 170.0 323.5\"></path><path d=\"M 215.3 309.8 L 165.4 309.8\"></path><path d=\"M 215.3 296.0 L 163.9 296.0\"></path><path d=\"M 215.3 282.2 L 159.0 282.2\"></path><path d=\"M 215.3 268.4 L 168.1 268.4\"></path><path d=\"M 215.3 254.7 L 160.8 254.7\"></path><path d=\"M 215.3 240.9 L 191.3 240.9\"></path><path d=\"M 215.3 227.1 L 167.4 227.1\"></path><path d=\"M 215.3 213.3 L 156.7 213.3\"></path><path d=\"M 215.3 199.6 L 173.6 199.6\"></path><path d=\"M 215.3 185.8 L 168.1 185.8\"></path><path d=\"M 215.3 172.0 L 215.3 172.0\"></path><path d=\"M 215.3 158.2 L 170.3 158.2\"></path><path d=\"M 215.3 144.5 L 175.5 144.5\"></path><path d=\"M 215.3 130.7 L 153.0 130.7\"></path><path d=\"M 215.3 116.9 L 160.2 116.9\"></path><path d=\"M 215.3 103.1 L 163.6 103.1\"></path><path d=\"M 215.3 89.3 L 175.9 89.3\"></path><path d=\"M 215.3 75.6 L 158.6 75.6\"></path><path d=\"M 215.3 61.8 L 162.1 61.8\"></path></g><g class=\"toytree-TipLabels\" style=\"fill:rgb(90.6%,54.1%,76.5%);fill-opacity:1.0;font-family:helvetica;font-size:11px;font-weight:normal;stroke:none;white-space:pre\"><g transform=\"translate(215.32,406.21)rotate(0)\"><text x=\"15.00\" y=\"2.81\" style=\"\">N/A_GL888262.1</text></g><g transform=\"translate(215.32,392.43)rotate(0)\"><text x=\"15.00\" y=\"2.81\" style=\"\">A_echinatior_105147775</text></g><g transform=\"translate(215.32,378.65)rotate(0)\"><text x=\"15.00\" y=\"2.81\" style=\"\">N/A_JAANHZ010000736.1</text></g><g transform=\"translate(215.32,364.88)rotate(0)\"><text x=\"15.00\" y=\"2.81\" style=\"\">N/A_JAANIB010005913.1</text></g><g transform=\"translate(215.32,351.10)rotate(0)\"><text x=\"15.00\" y=\"2.81\" style=\"\">N/A_JAANIC010002885.1</text></g><g transform=\"translate(215.32,337.32)rotate(0)\"><text x=\"15.00\" y=\"2.81\" style=\"\">A_colombica_108684598</text></g><g transform=\"translate(215.32,323.55)rotate(0)\"><text x=\"15.00\" y=\"2.81\" style=\"\">A_cephalotes_105625195</text></g><g transform=\"translate(215.32,309.77)rotate(0)\"><text x=\"15.00\" y=\"2.81\" style=\"\">T_septentrionalis_108751604</text></g><g transform=\"translate(215.32,295.99)rotate(0)\"><text x=\"15.00\" y=\"2.81\" style=\"\">T_cornetzi_108758761</text></g><g transform=\"translate(215.32,282.22)rotate(0)\"><text x=\"15.00\" y=\"2.81\" style=\"\">T_zeteki_108724845</text></g><g transform=\"translate(215.32,268.44)rotate(0)\"><text x=\"15.00\" y=\"2.81\" style=\"\">C_costatus_108774915</text></g><g transform=\"translate(215.32,254.66)rotate(0)\"><text x=\"15.00\" y=\"2.81\" style=\"\">W_auropunctata_105457428</text></g><g transform=\"translate(215.32,240.89)rotate(0)\"><text x=\"15.00\" y=\"2.81\" style=\"\">M_pharaonis_105831208</text></g><g transform=\"translate(215.32,227.11)rotate(0)\"><text x=\"15.00\" y=\"2.81\" style=\"\">S_invicta_105199036</text></g><g transform=\"translate(215.32,213.34)rotate(0)\"><text x=\"15.00\" y=\"2.81\" style=\"\">T_curvispinosus_112460528</text></g><g transform=\"translate(215.32,199.56)rotate(0)\"><text x=\"15.00\" y=\"2.81\" style=\"\">V_emeryi_105561667</text></g><g transform=\"translate(215.32,185.78)rotate(0)\"><text x=\"15.00\" y=\"2.81\" style=\"\">P_barbatus_105424270</text></g><g transform=\"translate(215.32,172.01)rotate(0)\"><text x=\"15.00\" y=\"2.81\" style=\"\">P_gracilis_109857416</text></g><g transform=\"translate(215.32,158.23)rotate(0)\"><text x=\"15.00\" y=\"2.81\" style=\"\">L_humile_105673490</text></g><g transform=\"translate(215.32,144.45)rotate(0)\"><text x=\"15.00\" y=\"2.81\" style=\"\">O_biroi_105284785</text></g><g transform=\"translate(215.32,130.68)rotate(0)\"><text x=\"15.00\" y=\"2.81\" style=\"\">F_exsecta_115237480</text></g><g transform=\"translate(215.32,116.90)rotate(0)\"><text x=\"15.00\" y=\"2.81\" style=\"\">C_floridanus_105249684</text></g><g transform=\"translate(215.32,103.12)rotate(0)\"><text x=\"15.00\" y=\"2.81\" style=\"\">N_fulva_114934660</text></g><g transform=\"translate(215.32,89.35)rotate(0)\"><text x=\"15.00\" y=\"2.81\" style=\"\">D_quadriceps_106748868</text></g><g transform=\"translate(215.32,75.57)rotate(0)\"><text x=\"15.00\" y=\"2.81\" style=\"\">H_saltator_105183395</text></g><g transform=\"translate(215.32,61.79)rotate(0)\"><text x=\"15.00\" y=\"2.81\" style=\"\">O_brunneus_116854080</text></g></g></g></g></g></svg><div class=\"toyplot-behavior\"><script>(function()\n",
       "{\n",
       "var modules={};\n",
       "})();</script></div></div>"
      ]
     },
     "metadata": {},
     "output_type": "display_data"
    }
   ],
   "source": [
    "# We will use the package toytree to look at the phylogenetic tree we just created\n",
    "\n",
    "import toytree\n",
    "orco_tree = toytree.tree(\"orco.tree\")\n",
    "orco_tree_rooted = orco_tree.root(names=[\"O_brunneus_116854080\",\"D_quadriceps_106748868\",\"H_saltator_105183395\"])\n",
    "orco_tree_rooted.draw(tree_style='d')"
   ]
  },
  {
   "cell_type": "markdown",
   "id": "6c13030e",
   "metadata": {},
   "source": [
    "## Part V: Downloading large datasets (dehydration/rehydration) and `dataformat`<a class=\"anchor\" id=\"Part-V\"></a>"
   ]
  },
  {
   "cell_type": "markdown",
   "id": "f337e0d4",
   "metadata": {},
   "source": [
    "Now you learned how to download genomes, genes and ortholog gene sets from NCBI with one command using `datasets`. Now we want to show you another feature of `datasets` that allows you to download what we call a `dehydrated` package. Let's download a dehydrated package and explore the files inside it."
   ]
  },
  {
   "cell_type": "code",
   "execution_count": 56,
   "id": "641aef51",
   "metadata": {},
   "outputs": [],
   "source": [
    "%%bash\n",
    "# Download a dehydrated data package for all acromyrmex GenBank genomes\n",
    "datasets download genome taxon acromyrmex --assembly-source genbank --dehydrated --filename acromyrmex.zip --no-progressbar"
   ]
  },
  {
   "cell_type": "code",
   "execution_count": 57,
   "id": "50a28140",
   "metadata": {},
   "outputs": [
    {
     "name": "stdout",
     "output_type": "stream",
     "text": [
      "Archive:  acromyrmex.zip\n",
      "  inflating: acromyrmex/README.md    \n",
      "  inflating: acromyrmex/ncbi_dataset/data/assembly_data_report.jsonl  \n",
      "  inflating: acromyrmex/ncbi_dataset/fetch.txt  \n",
      "  inflating: acromyrmex/ncbi_dataset/data/dataset_catalog.json  \n"
     ]
    }
   ],
   "source": [
    "%%bash\n",
    "# Next we have to unzip the dehydrated package\n",
    "unzip -o acromyrmex.zip -d acromyrmex"
   ]
  },
  {
   "cell_type": "code",
   "execution_count": 58,
   "id": "21ef31e6",
   "metadata": {},
   "outputs": [
    {
     "name": "stdout",
     "output_type": "stream",
     "text": [
      "acromyrmex/\n",
      "├── README.md\n",
      "└── ncbi_dataset\n",
      "    ├── data\n",
      "    │   ├── assembly_data_report.jsonl\n",
      "    │   └── dataset_catalog.json\n",
      "    └── fetch.txt\n",
      "\n",
      "2 directories, 4 files\n"
     ]
    }
   ],
   "source": [
    "%%bash\n",
    "# Now let's use the command tree to look at the data package contents\n",
    "tree acromyrmex/"
   ]
  },
  {
   "cell_type": "markdown",
   "id": "bdf17759",
   "metadata": {},
   "source": [
    "**What is difference between this folder (`acromyrmex`) and the folder `genomes`?**   \n",
    "Let's use `tree` again to look at the contents of the folder genomes."
   ]
  },
  {
   "cell_type": "code",
   "execution_count": 59,
   "id": "681ecb2f",
   "metadata": {},
   "outputs": [
    {
     "name": "stdout",
     "output_type": "stream",
     "text": [
      "genomes/\n",
      "├── README.md\n",
      "└── ncbi_dataset\n",
      "    └── data\n",
      "        ├── GCA_000204515.1\n",
      "        │   ├── cds_from_genomic.fna\n",
      "        │   ├── genomic.gff\n",
      "        │   ├── protein.faa\n",
      "        │   ├── sequence_report.jsonl\n",
      "        │   └── unplaced.scaf.fna\n",
      "        ├── GCA_017607455.1\n",
      "        │   ├── GCA_017607455.1_ASM1760745v1_genomic.fna\n",
      "        │   ├── cds_from_genomic.fna\n",
      "        │   ├── genomic.gff\n",
      "        │   ├── protein.faa\n",
      "        │   └── sequence_report.jsonl\n",
      "        ├── GCA_017607545.1\n",
      "        │   ├── GCA_017607545.1_ASM1760754v1_genomic.fna\n",
      "        │   ├── cds_from_genomic.fna\n",
      "        │   ├── genomic.gff\n",
      "        │   └── protein.faa\n",
      "        ├── GCA_017607565.1\n",
      "        │   ├── GCA_017607565.1_ASM1760756v1_genomic.fna\n",
      "        │   ├── cds_from_genomic.fna\n",
      "        │   ├── genomic.gff\n",
      "        │   └── protein.faa\n",
      "        ├── assembly_data_report.jsonl\n",
      "        └── dataset_catalog.json\n",
      "\n",
      "6 directories, 21 files\n"
     ]
    }
   ],
   "source": [
    "%%bash\n",
    "# Check the folder contents of genome\n",
    "tree genomes/"
   ]
  },
  {
   "cell_type": "markdown",
   "id": "7d0770b7",
   "metadata": {},
   "source": [
    "Both packages include the files `assembly_data_report.jsonl` and `dataset_catalog.json`, but the folder acromyrmex has the file `fetch.txt` instead of the *actual* data. Let's take a look in this file."
   ]
  },
  {
   "cell_type": "code",
   "execution_count": 60,
   "id": "468d7749",
   "metadata": {},
   "outputs": [
    {
     "data": {
      "text/html": [
       "<div>\n",
       "<style scoped>\n",
       "    .dataframe tbody tr th:only-of-type {\n",
       "        vertical-align: middle;\n",
       "    }\n",
       "\n",
       "    .dataframe tbody tr th {\n",
       "        vertical-align: top;\n",
       "    }\n",
       "\n",
       "    .dataframe thead th {\n",
       "        text-align: right;\n",
       "    }\n",
       "</style>\n",
       "<table border=\"1\" class=\"dataframe\">\n",
       "  <thead>\n",
       "    <tr style=\"text-align: right;\">\n",
       "      <th></th>\n",
       "      <th>0</th>\n",
       "      <th>1</th>\n",
       "      <th>2</th>\n",
       "    </tr>\n",
       "  </thead>\n",
       "  <tbody>\n",
       "    <tr>\n",
       "      <th>0</th>\n",
       "      <td>https://api.ncbi.nlm.nih.gov/datasets/fetch_h/...</td>\n",
       "      <td>0</td>\n",
       "      <td>data/GCA_000204515.1/unplaced.scaf.fna</td>\n",
       "    </tr>\n",
       "    <tr>\n",
       "      <th>1</th>\n",
       "      <td>https://api.ncbi.nlm.nih.gov/datasets/fetch_h/...</td>\n",
       "      <td>0</td>\n",
       "      <td>data/GCA_000204515.1/cds_from_genomic.fna</td>\n",
       "    </tr>\n",
       "    <tr>\n",
       "      <th>2</th>\n",
       "      <td>https://api.ncbi.nlm.nih.gov/datasets/fetch_h/...</td>\n",
       "      <td>0</td>\n",
       "      <td>data/GCA_000204515.1/genomic.gff</td>\n",
       "    </tr>\n",
       "    <tr>\n",
       "      <th>3</th>\n",
       "      <td>https://api.ncbi.nlm.nih.gov/datasets/fetch_h/...</td>\n",
       "      <td>0</td>\n",
       "      <td>data/GCA_000204515.1/protein.faa</td>\n",
       "    </tr>\n",
       "    <tr>\n",
       "      <th>4</th>\n",
       "      <td>https://api.ncbi.nlm.nih.gov/datasets/fetch_h/...</td>\n",
       "      <td>0</td>\n",
       "      <td>data/GCA_017607455.1/GCA_017607455.1_ASM176074...</td>\n",
       "    </tr>\n",
       "    <tr>\n",
       "      <th>5</th>\n",
       "      <td>https://api.ncbi.nlm.nih.gov/datasets/fetch_h/...</td>\n",
       "      <td>0</td>\n",
       "      <td>data/GCA_017607455.1/cds_from_genomic.fna</td>\n",
       "    </tr>\n",
       "    <tr>\n",
       "      <th>6</th>\n",
       "      <td>https://api.ncbi.nlm.nih.gov/datasets/fetch_h/...</td>\n",
       "      <td>0</td>\n",
       "      <td>data/GCA_017607455.1/genomic.gff</td>\n",
       "    </tr>\n",
       "    <tr>\n",
       "      <th>7</th>\n",
       "      <td>https://api.ncbi.nlm.nih.gov/datasets/fetch_h/...</td>\n",
       "      <td>0</td>\n",
       "      <td>data/GCA_017607455.1/protein.faa</td>\n",
       "    </tr>\n",
       "    <tr>\n",
       "      <th>8</th>\n",
       "      <td>https://api.ncbi.nlm.nih.gov/datasets/fetch_h/...</td>\n",
       "      <td>0</td>\n",
       "      <td>data/GCA_017607545.1/GCA_017607545.1_ASM176075...</td>\n",
       "    </tr>\n",
       "    <tr>\n",
       "      <th>9</th>\n",
       "      <td>https://api.ncbi.nlm.nih.gov/datasets/fetch_h/...</td>\n",
       "      <td>0</td>\n",
       "      <td>data/GCA_017607545.1/cds_from_genomic.fna</td>\n",
       "    </tr>\n",
       "    <tr>\n",
       "      <th>10</th>\n",
       "      <td>https://api.ncbi.nlm.nih.gov/datasets/fetch_h/...</td>\n",
       "      <td>0</td>\n",
       "      <td>data/GCA_017607545.1/genomic.gff</td>\n",
       "    </tr>\n",
       "    <tr>\n",
       "      <th>11</th>\n",
       "      <td>https://api.ncbi.nlm.nih.gov/datasets/fetch_h/...</td>\n",
       "      <td>0</td>\n",
       "      <td>data/GCA_017607545.1/protein.faa</td>\n",
       "    </tr>\n",
       "    <tr>\n",
       "      <th>12</th>\n",
       "      <td>https://api.ncbi.nlm.nih.gov/datasets/fetch_h/...</td>\n",
       "      <td>0</td>\n",
       "      <td>data/GCA_017607565.1/GCA_017607565.1_ASM176075...</td>\n",
       "    </tr>\n",
       "    <tr>\n",
       "      <th>13</th>\n",
       "      <td>https://api.ncbi.nlm.nih.gov/datasets/fetch_h/...</td>\n",
       "      <td>0</td>\n",
       "      <td>data/GCA_017607565.1/cds_from_genomic.fna</td>\n",
       "    </tr>\n",
       "    <tr>\n",
       "      <th>14</th>\n",
       "      <td>https://api.ncbi.nlm.nih.gov/datasets/fetch_h/...</td>\n",
       "      <td>0</td>\n",
       "      <td>data/GCA_017607565.1/genomic.gff</td>\n",
       "    </tr>\n",
       "    <tr>\n",
       "      <th>15</th>\n",
       "      <td>https://api.ncbi.nlm.nih.gov/datasets/fetch_h/...</td>\n",
       "      <td>0</td>\n",
       "      <td>data/GCA_017607565.1/protein.faa</td>\n",
       "    </tr>\n",
       "    <tr>\n",
       "      <th>16</th>\n",
       "      <td>https://api.ncbi.nlm.nih.gov/datasets/fetch_h/...</td>\n",
       "      <td>0</td>\n",
       "      <td>data/GCA_000204515.1/sequence_report.jsonl</td>\n",
       "    </tr>\n",
       "    <tr>\n",
       "      <th>17</th>\n",
       "      <td>https://api.ncbi.nlm.nih.gov/datasets/fetch_h/...</td>\n",
       "      <td>0</td>\n",
       "      <td>data/GCA_017607455.1/sequence_report.jsonl</td>\n",
       "    </tr>\n",
       "    <tr>\n",
       "      <th>18</th>\n",
       "      <td>https://api.ncbi.nlm.nih.gov/datasets/fetch_h/...</td>\n",
       "      <td>0</td>\n",
       "      <td>data/GCA_017607545.1/sequence_report.jsonl</td>\n",
       "    </tr>\n",
       "    <tr>\n",
       "      <th>19</th>\n",
       "      <td>https://api.ncbi.nlm.nih.gov/datasets/fetch_h/...</td>\n",
       "      <td>0</td>\n",
       "      <td>data/GCA_017607565.1/sequence_report.jsonl</td>\n",
       "    </tr>\n",
       "  </tbody>\n",
       "</table>\n",
       "</div>"
      ],
      "text/plain": [
       "                                                    0  1  \\\n",
       "0   https://api.ncbi.nlm.nih.gov/datasets/fetch_h/...  0   \n",
       "1   https://api.ncbi.nlm.nih.gov/datasets/fetch_h/...  0   \n",
       "2   https://api.ncbi.nlm.nih.gov/datasets/fetch_h/...  0   \n",
       "3   https://api.ncbi.nlm.nih.gov/datasets/fetch_h/...  0   \n",
       "4   https://api.ncbi.nlm.nih.gov/datasets/fetch_h/...  0   \n",
       "5   https://api.ncbi.nlm.nih.gov/datasets/fetch_h/...  0   \n",
       "6   https://api.ncbi.nlm.nih.gov/datasets/fetch_h/...  0   \n",
       "7   https://api.ncbi.nlm.nih.gov/datasets/fetch_h/...  0   \n",
       "8   https://api.ncbi.nlm.nih.gov/datasets/fetch_h/...  0   \n",
       "9   https://api.ncbi.nlm.nih.gov/datasets/fetch_h/...  0   \n",
       "10  https://api.ncbi.nlm.nih.gov/datasets/fetch_h/...  0   \n",
       "11  https://api.ncbi.nlm.nih.gov/datasets/fetch_h/...  0   \n",
       "12  https://api.ncbi.nlm.nih.gov/datasets/fetch_h/...  0   \n",
       "13  https://api.ncbi.nlm.nih.gov/datasets/fetch_h/...  0   \n",
       "14  https://api.ncbi.nlm.nih.gov/datasets/fetch_h/...  0   \n",
       "15  https://api.ncbi.nlm.nih.gov/datasets/fetch_h/...  0   \n",
       "16  https://api.ncbi.nlm.nih.gov/datasets/fetch_h/...  0   \n",
       "17  https://api.ncbi.nlm.nih.gov/datasets/fetch_h/...  0   \n",
       "18  https://api.ncbi.nlm.nih.gov/datasets/fetch_h/...  0   \n",
       "19  https://api.ncbi.nlm.nih.gov/datasets/fetch_h/...  0   \n",
       "\n",
       "                                                    2  \n",
       "0              data/GCA_000204515.1/unplaced.scaf.fna  \n",
       "1           data/GCA_000204515.1/cds_from_genomic.fna  \n",
       "2                    data/GCA_000204515.1/genomic.gff  \n",
       "3                    data/GCA_000204515.1/protein.faa  \n",
       "4   data/GCA_017607455.1/GCA_017607455.1_ASM176074...  \n",
       "5           data/GCA_017607455.1/cds_from_genomic.fna  \n",
       "6                    data/GCA_017607455.1/genomic.gff  \n",
       "7                    data/GCA_017607455.1/protein.faa  \n",
       "8   data/GCA_017607545.1/GCA_017607545.1_ASM176075...  \n",
       "9           data/GCA_017607545.1/cds_from_genomic.fna  \n",
       "10                   data/GCA_017607545.1/genomic.gff  \n",
       "11                   data/GCA_017607545.1/protein.faa  \n",
       "12  data/GCA_017607565.1/GCA_017607565.1_ASM176075...  \n",
       "13          data/GCA_017607565.1/cds_from_genomic.fna  \n",
       "14                   data/GCA_017607565.1/genomic.gff  \n",
       "15                   data/GCA_017607565.1/protein.faa  \n",
       "16         data/GCA_000204515.1/sequence_report.jsonl  \n",
       "17         data/GCA_017607455.1/sequence_report.jsonl  \n",
       "18         data/GCA_017607545.1/sequence_report.jsonl  \n",
       "19         data/GCA_017607565.1/sequence_report.jsonl  "
      ]
     },
     "execution_count": 60,
     "metadata": {},
     "output_type": "execute_result"
    }
   ],
   "source": [
    "# Inspect the file fetch.txt\n",
    "import pandas as pd\n",
    "fetch = pd.read_csv('./acromyrmex/ncbi_dataset/fetch.txt', sep='\\t', header=None)\n",
    "fetch"
   ]
  },
  {
   "cell_type": "markdown",
   "id": "19110c84",
   "metadata": {},
   "source": [
    "The file `fetch.txt` has a list of files to be \"fetched\" (downloaded) with their respective links. And they are the same files that were originally included in when we downloaded the genomes in the beginning of this notebook.  "
   ]
  },
  {
   "cell_type": "markdown",
   "id": "9cd8e6be",
   "metadata": {},
   "source": [
    "#### BUT WHY WOULD I WANT TO USE THIS OPTION?\n",
    "\n",
    "Some possibilities:\n",
    "- You are working with very large genomes and want to share the data with your collaborators. Instead of sending a massive data file, you can send a text file that they can use to download the same data you're working on.\n",
    "- Or maybe you hand selected some genomes for a project from the [NCBI Datasets website](https://www.ncbi.nlm.nih.gov/datasets/genomes/) and they don't follow a specific pattern that can be replicated. You can also download a dehydrated package from our website, share it and download everything you need later."
   ]
  },
  {
   "cell_type": "markdown",
   "id": "fb824fdf",
   "metadata": {},
   "source": [
    "### `dataformat`\n",
    "\n",
    "Now we are going to combine `datasets` with another tool called `dataformat`. `dataformat` allows you to extract metadata information from the JSON data report files included with all `datasets` data packages. You can use `dataformat` to:\n",
    "- Create a tab-delimited file (.tsv) or excel file with the fields you need\n",
    "- Quickly visualize the information on the screen\n",
    "\n",
    "`dataformat` currently can not be used with the output of `datasets summary`, only the JSON Lines data report included with the data package."
   ]
  },
  {
   "cell_type": "code",
   "execution_count": 61,
   "id": "9d794025",
   "metadata": {},
   "outputs": [
    {
     "name": "stdout",
     "output_type": "stream",
     "text": [
      "\n",
      "Convert Genome Assembly Data Report into TSV format.\n",
      "\n",
      "Refer to NCBI's [command line start](https://www.ncbi.nlm.nih.gov/datasets/docs/command-line-start) documentation for information about getting started with the command-line tools.\n",
      "\n",
      "Usage\n",
      "  dataformat tsv genome [flags]\n",
      "\n",
      "Examples\n",
      "  dataformat tsv genome --inputfile human/ncbi_dataset/data/assembly_data_report.jsonl\n",
      "  dataformat tsv genome --package human.zip\n",
      "\n",
      "Flags\n",
      "      --fields strings     comma-separated list of fields\n",
      "                               - annotinfo-busco-complete\n",
      "                               - annotinfo-busco-duplicated\n",
      "                               - annotinfo-busco-fragmented\n",
      "                               - annotinfo-busco-lineage\n",
      "                               - annotinfo-busco-missing\n",
      "                               - annotinfo-busco-singlecopy\n",
      "                               - annotinfo-busco-totalcount\n",
      "                               - annotinfo-busco-ver\n",
      "                               - annotinfo-featcount-gene-non-coding\n",
      "                               - annotinfo-featcount-gene-other\n",
      "                               - annotinfo-featcount-gene-protein-coding\n",
      "                               - annotinfo-featcount-gene-pseudogene\n",
      "                               - annotinfo-featcount-gene-total\n",
      "                               - annotinfo-name\n",
      "                               - annotinfo-release-date\n",
      "                               - annotinfo-report-url\n",
      "                               - annotinfo-source\n",
      "                               - assminfo-accession\n",
      "                               - assminfo-bioproject-lineage-accession\n",
      "                               - assminfo-bioproject-lineage-parent-accessions\n",
      "                               - assminfo-bioproject-lineage-title\n",
      "                               - assminfo-biosample-accession\n",
      "                               - assminfo-blast-url\n",
      "                               - assminfo-description\n",
      "                               - assminfo-genbank-assm-accession\n",
      "                               - assminfo-level\n",
      "                               - assminfo-linked-assm\n",
      "                               - assminfo-name\n",
      "                               - assminfo-paired_accession\n",
      "                               - assminfo-refseq-assm-accession\n",
      "                               - assminfo-refseq-category\n",
      "                               - assminfo-sequencing-tech\n",
      "                               - assminfo-submission-date\n",
      "                               - assminfo-submitter\n",
      "                               - assminfo-type\n",
      "                               - assminfo-ucsc-assm-name\n",
      "                               - assmstats-contig-l50\n",
      "                               - assmstats-contig-n50\n",
      "                               - assmstats-gaps-between-scaffolds-count\n",
      "                               - assmstats-gc-count\n",
      "                               - assmstats-number-of-component-sequences\n",
      "                               - assmstats-number-of-contigs\n",
      "                               - assmstats-number-of-scaffolds\n",
      "                               - assmstats-scaffold-l50\n",
      "                               - assmstats-scaffold-n50\n",
      "                               - assmstats-total-number-of-chromosomes\n",
      "                               - assmstats-total-sequence-len\n",
      "                               - assmstats-total-ungapped-len\n",
      "                               - breed\n",
      "                               - common-name\n",
      "                               - cultivar\n",
      "                               - ecotype\n",
      "                               - isolate\n",
      "                               - organelle-assembly-name\n",
      "                               - organelle-bioproject-accessions\n",
      "                               - organelle-description\n",
      "                               - organelle-infraspecific-name\n",
      "                               - organelle-submitter\n",
      "                               - organelle-total-seq-length\n",
      "                               - organism-name\n",
      "                               - sex\n",
      "                               - strain\n",
      "                               - tax-id\n",
      "                               - wgs-contigs-url\n",
      "                               - wgs-project-accession\n",
      "                               - wgs-url\n",
      "  -h, --help               help for genome\n",
      "      --inputfile string   input file\n",
      "      --package string     datasets package (zip archive), inputfile parameter is relative to the root path inside the archive\n",
      "\n",
      "\n",
      "\n",
      "Global Flags\n",
      "      --elide-header   Do not output header\n",
      "\n"
     ]
    }
   ],
   "source": [
    "%%bash\n",
    "# Read the dataformat help menu. This is a great way to get a list of the available metadata fields.\n",
    "dataformat tsv genome -h"
   ]
  },
  {
   "cell_type": "markdown",
   "id": "8cb5aa3c",
   "metadata": {},
   "source": [
    "#### Now let's combine the features of `dataformat` and dehydration/rehydration to select which genomes to download."
   ]
  },
  {
   "cell_type": "markdown",
   "id": "ad8ea652",
   "metadata": {},
   "source": [
    "Let's use `dataformat` to look at the genome data package for ants. We can use this information to select a \"best\" genome - we'll pick one with the highest contigN50 value."
   ]
  },
  {
   "cell_type": "code",
   "execution_count": 62,
   "id": "4074fd9c",
   "metadata": {},
   "outputs": [
    {
     "name": "stdout",
     "output_type": "stream",
     "text": [
      "Organism name\tAssembly Accession\tAssembly Stats Contig N50\tAssembly Level\tAssembly Submission Date\tAssembly Submitter\n",
      "Acromyrmex echinatior\tGCA_000204515.1\t80630\tScaffold\t2011-05-03\tBeijing Genomics Institute, Shenzhen\n",
      "Acromyrmex insinuator\tGCA_017607455.1\t39949\tScaffold\t2021-03-29\tBGI\n",
      "Acromyrmex charruanus\tGCA_017607545.1\t34925\tScaffold\t2021-03-29\tBGI\n",
      "Acromyrmex heyeri\tGCA_017607565.1\t10811\tScaffold\t2021-03-29\tBGI\n"
     ]
    }
   ],
   "source": [
    "%%bash\n",
    "# Use dataformat to look at the genome data package for ants\n",
    "dataformat tsv genome \\\n",
    "--fields organism-name,assminfo-accession,assmstats-contig-n50,assminfo-level,assminfo-submission-date,assminfo-submitter \\\n",
    "--package acromyrmex.zip"
   ]
  },
  {
   "cell_type": "code",
   "execution_count": 63,
   "id": "58ce2486",
   "metadata": {},
   "outputs": [
    {
     "name": "stdout",
     "output_type": "stream",
     "text": [
      "\n",
      "Retrieve data files for an [unzipped, dehydrated zip archive](https://www.ncbi.nlm.nih.gov/datasets/docs/how-tos/genomes/rehydrate-package/).  Data files specified in fetch.txt will be downloaded from NCBI.\n",
      "\n",
      "Usage\n",
      "  datasets rehydrate [flags] --directory <directory_name>\n",
      "\n",
      "Flags\n",
      "      --directory string   specify the directory containing the unzipped dehydrated bag\n",
      "      --gzip               rehydrate files to gzip format\n",
      "  -h, --help               help for rehydrate\n",
      "      --list               list files that would be downloaded during rehydration\n",
      "      --match string       specify substring that matches files for rehydration\n",
      "      --max-workers int    limit the maximum number of concurrent download workers (allowed range is 1-30) (default 10)\n",
      "\n",
      "\n",
      "Global Flags\n",
      "      --api-key string   NCBI Datasets API Key\n",
      "      --no-progressbar   hide progress bar\n",
      "\n"
     ]
    }
   ],
   "source": [
    "%%bash\n",
    "# Let's look at the help file for rehydrate\n",
    "datasets rehydrate -h"
   ]
  },
  {
   "cell_type": "code",
   "execution_count": 64,
   "id": "973ffa9b",
   "metadata": {},
   "outputs": [
    {
     "name": "stdout",
     "output_type": "stream",
     "text": [
      "data/GCA_000204515.1/unplaced.scaf.fna\n",
      "data/GCA_000204515.1/cds_from_genomic.fna\n",
      "data/GCA_000204515.1/genomic.gff\n",
      "data/GCA_000204515.1/protein.faa\n",
      "data/GCA_017607455.1/GCA_017607455.1_ASM1760745v1_genomic.fna\n",
      "data/GCA_017607455.1/cds_from_genomic.fna\n",
      "data/GCA_017607455.1/genomic.gff\n",
      "data/GCA_017607455.1/protein.faa\n",
      "data/GCA_017607545.1/GCA_017607545.1_ASM1760754v1_genomic.fna\n",
      "data/GCA_017607545.1/cds_from_genomic.fna\n",
      "data/GCA_017607545.1/genomic.gff\n",
      "data/GCA_017607545.1/protein.faa\n",
      "data/GCA_017607565.1/GCA_017607565.1_ASM1760756v1_genomic.fna\n",
      "data/GCA_017607565.1/cds_from_genomic.fna\n",
      "data/GCA_017607565.1/genomic.gff\n",
      "data/GCA_017607565.1/protein.faa\n",
      "data/GCA_000204515.1/sequence_report.jsonl\n",
      "data/GCA_017607455.1/sequence_report.jsonl\n",
      "data/GCA_017607545.1/sequence_report.jsonl\n",
      "data/GCA_017607565.1/sequence_report.jsonl\n",
      "Found 20 files for rehydration\n"
     ]
    }
   ],
   "source": [
    "%%bash\n",
    "# Let's get a list of files that are available for download \n",
    "datasets rehydrate --directory acromyrmex/ --list"
   ]
  },
  {
   "cell_type": "code",
   "execution_count": 65,
   "id": "2daf20e5",
   "metadata": {},
   "outputs": [
    {
     "name": "stdout",
     "output_type": "stream",
     "text": [
      "Found 1 files for rehydration\n"
     ]
    }
   ],
   "source": [
    "%%bash\n",
    "# Let's only get the protein sequences for the genome with the highest contigN50 value\n",
    "datasets rehydrate --directory acromyrmex/ --match GCA_000204515.1/protein.faa --no-progressbar"
   ]
  },
  {
   "cell_type": "code",
   "execution_count": 66,
   "id": "c601a31b",
   "metadata": {},
   "outputs": [
    {
     "name": "stdout",
     "output_type": "stream",
     "text": [
      "acromyrmex/\n",
      "├── README.md\n",
      "└── ncbi_dataset\n",
      "    ├── data\n",
      "    │   ├── GCA_000204515.1\n",
      "    │   │   └── protein.faa\n",
      "    │   ├── assembly_data_report.jsonl\n",
      "    │   └── dataset_catalog.json\n",
      "    └── fetch.txt\n",
      "\n",
      "3 directories, 5 files\n"
     ]
    }
   ],
   "source": [
    "%%bash\n",
    "# Let's use tree to look at our folder acromyrmex again\n",
    "tree acromyrmex/"
   ]
  },
  {
   "cell_type": "markdown",
   "id": "a5f5f853",
   "metadata": {},
   "source": [
    "We can see that the file we requested ` GCA_000204515.1/protein.faa` was downloaded to the folder `acromyrmex`"
   ]
  },
  {
   "cell_type": "code",
   "execution_count": 67,
   "id": "ff56a582",
   "metadata": {},
   "outputs": [
    {
     "name": "stdout",
     "output_type": "stream",
     "text": [
      ">EGI57120.1 Histone-lysine N-methyltransferase SETMAR [Acromyrmex echinatior]\n",
      "MAKFNEFRYELFPHPAYLPDLALCDYFLFPNLKKWFGRKRFTTREQLIAETEAYFERLDKSYYLNKLENRSIKSIELKGN\n",
      "YVEKQK\n",
      ">EGI57121.1 hypothetical protein G5I_14843 [Acromyrmex echinatior]\n",
      "MPTQSGLIVPTYIAMLPTLTVHKYSLFRLSRELHNLFVRLVARSCGMMTSYTQAPKRLDTSGHVYLVYEDPGQLNTEEEE\n",
      "EEEEAYNALATSTERS\n",
      ">EGI57122.1 Nidogen-1 [Acromyrmex echinatior]\n",
      "MRRDFCNGGLACAVVWVSTCLLLVLSLSTSTIAEPLLRVAGRCPSLVEQNVCPSRAPACENDYQCQGTEERCCKTACGLR\n",
      "CIAGELTGCEQLELAAVRRSRALGARGPQQFIPRCNNETGEFERIQCEPHGRSCWCVDEIGAEIPGTRAPSKSVVDCDKP\n",
      "HSCPAHSCRMLCPLGFEINEVTGCPKCECRDPCRGVTCPGIGQICELIAVNCIREPCPPVPSCRKTRSLSTICPAGEPLQ\n"
     ]
    }
   ],
   "source": [
    "%%bash\n",
    "# Take a peek at the downloaded protein file\n",
    "cat acromyrmex/ncbi_dataset/data/GCA_000204515.1/protein.faa | head"
   ]
  },
  {
   "cell_type": "markdown",
   "id": "7f69f702",
   "metadata": {},
   "source": [
    "## Exercise\n",
    "* Download a dehydrated package for all *Mycobacterium tuberculosis* genomes that meet all of the following criteria (hint: use flags)\n",
    "    1. submitted/released in 2021\n",
    "    2. annotated\n",
    "    3. assembly level of complete_genome\n",
    "* use dataformat to view the sequencing technology used for each of these genomes\n",
    "* use rehydrate to get the genome sequence for one genome generated using Oxford Nanopore"
   ]
  },
  {
   "cell_type": "code",
   "execution_count": 68,
   "id": "1ca7bc51",
   "metadata": {},
   "outputs": [],
   "source": [
    "%%bash\n",
    "# Download a dehydrated genome data package\n",
    "\n"
   ]
  },
  {
   "cell_type": "code",
   "execution_count": 69,
   "id": "94ca3308",
   "metadata": {},
   "outputs": [],
   "source": [
    "%%bash\n",
    "# Unzip the data package\n",
    "\n"
   ]
  },
  {
   "cell_type": "code",
   "execution_count": 70,
   "id": "78bcf9f1",
   "metadata": {},
   "outputs": [],
   "source": [
    "%%bash\n",
    "# Use dataformat to generate a table that includes sequencing technology\n",
    "\n"
   ]
  },
  {
   "cell_type": "code",
   "execution_count": 71,
   "id": "d3a4727d",
   "metadata": {},
   "outputs": [],
   "source": [
    "%%bash\n",
    "# Use rehydrate to get genome sequence generated using Oxford Nanopore\n",
    "\n"
   ]
  }
 ],
 "metadata": {
  "kernelspec": {
   "display_name": "Python 3 (ipykernel)",
   "language": "python",
   "name": "python3"
  },
  "language_info": {
   "codemirror_mode": {
    "name": "ipython",
    "version": 3
   },
   "file_extension": ".py",
   "mimetype": "text/x-python",
   "name": "python",
   "nbconvert_exporter": "python",
   "pygments_lexer": "ipython3",
   "version": "3.9.9"
  }
 },
 "nbformat": 4,
 "nbformat_minor": 5
}
