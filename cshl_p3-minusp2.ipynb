{
 "cells": [
  {
   "cell_type": "markdown",
   "id": "a17a866f",
   "metadata": {},
   "source": [
    "# NCBI Datasets - CSHL (11/02/2021)"
   ]
  },
  {
   "cell_type": "markdown",
   "id": "598672be",
   "metadata": {},
   "source": [
    "### Exercises\n",
    "\n",
    "Now we will practice what we learned about `datasets`. Take a look at the questions below and feel free to ask questions. Useful resources for this exercise are the `--help` from the command line and the [jq cheatsheet](https://github.com/ncbi/datasets/blob/workshop-cshl-2021/training/cshl-2021/jq_cheatsheet.md). \n"
   ]
  },
  {
   "cell_type": "code",
   "execution_count": 15,
   "id": "7c88ac9b",
   "metadata": {},
   "outputs": [],
   "source": [
    "%%bash\n",
    "# How many reference genomes in the family Formicidae? (hint --reference)\n",
    "\n"
   ]
  },
  {
   "cell_type": "code",
   "execution_count": 16,
   "id": "e5632797",
   "metadata": {},
   "outputs": [],
   "source": [
    "%%bash\n",
    "# How many reference genomes are annotated? (hint: --annotated)\n",
    "\n"
   ]
  },
  {
   "cell_type": "code",
   "execution_count": 17,
   "id": "462d4858",
   "metadata": {},
   "outputs": [],
   "source": [
    "%%bash\n",
    "# How many genomes have NCBI (RefSeq) annotations? (hint: --assembly-source)\n",
    "\n"
   ]
  },
  {
   "cell_type": "markdown",
   "id": "507517eb",
   "metadata": {},
   "source": [
    "### Bonus questions:"
   ]
  },
  {
   "cell_type": "code",
   "execution_count": 18,
   "id": "b74655c4",
   "metadata": {},
   "outputs": [],
   "source": [
    "%%bash\n",
    "## Take a look at the jq cheat sheet (link here) and try to build a jq query for the metadata\n",
    "\n"
   ]
  },
  {
   "cell_type": "code",
   "execution_count": 19,
   "id": "c114d6ee",
   "metadata": {},
   "outputs": [],
   "source": [
    "%%bash\n",
    "# Now look at the summary metadata for your organism of interest \n",
    "# (if you don't have a favorite, go with red panda, Ailurus fulgens, taxid: 9649)\n",
    "\n"
   ]
  },
  {
   "cell_type": "code",
   "execution_count": 20,
   "id": "62ff1beb",
   "metadata": {},
   "outputs": [],
   "source": [
    "%%bash\n",
    "# How many genomes?\n",
    "\n"
   ]
  },
  {
   "cell_type": "code",
   "execution_count": 21,
   "id": "308bd3d3",
   "metadata": {},
   "outputs": [],
   "source": [
    "%%bash\n",
    "# Assembly level breakdown\n",
    "\n"
   ]
  },
  {
   "cell_type": "code",
   "execution_count": 22,
   "id": "9bf4dbee",
   "metadata": {},
   "outputs": [],
   "source": [
    "%%bash\n",
    "# How many genomes have a contig N50 value above 15Mb?\n",
    "\n"
   ]
  },
  {
   "cell_type": "markdown",
   "id": "6c3bdb20",
   "metadata": {},
   "source": [
    "### Back to the main room\n"
   ]
  },
  {
   "cell_type": "markdown",
   "id": "6b9ce67e",
   "metadata": {},
   "source": [
    "### What is the difference/relationship between Genbank, RefSeq and Reference assemblies?\n",
    "\n",
    "<img src=\"./images/gca_gcf.png\" alt=\"ref\" />"
   ]
  },
  {
   "cell_type": "markdown",
   "id": "d66b33f7",
   "metadata": {},
   "source": [
    "### Data package\n",
    "\n",
    "We explored the `datasets summary` option, in which we had a chance to look at the summary metadata ***without*** downloading any files. In the next steps, we will look at the data packages, which contain the actual data files. \n",
    "\n",
    "<img src=\"./images/genome_data_package.png\" alt=\"data_package\" />"
   ]
  },
  {
   "cell_type": "code",
   "execution_count": 23,
   "id": "fa1fd70d",
   "metadata": {},
   "outputs": [],
   "source": [
    "%%bash\n",
    "# Download all available GenBank assemblies for the genus Acromyrmex and save as genomes.zip\n",
    "datasets download genome taxon acromyrmex --assembly-source genbank --filename genomes.zip --no-progressbar"
   ]
  },
  {
   "cell_type": "code",
   "execution_count": 24,
   "id": "5f57b5e8",
   "metadata": {},
   "outputs": [
    {
     "name": "stdout",
     "output_type": "stream",
     "text": [
      "Archive:  genomes.zip\n",
      "  inflating: genomes/README.md       \n",
      "  inflating: genomes/ncbi_dataset/data/assembly_data_report.jsonl  \n",
      "  inflating: genomes/ncbi_dataset/data/GCA_000204515.1/unplaced.scaf.fna  \n",
      "  inflating: genomes/ncbi_dataset/data/GCA_000204515.1/cds_from_genomic.fna  \n",
      "  inflating: genomes/ncbi_dataset/data/GCA_000204515.1/genomic.gff  \n",
      "  inflating: genomes/ncbi_dataset/data/GCA_000204515.1/protein.faa  \n",
      "  inflating: genomes/ncbi_dataset/data/GCA_017607455.1/GCA_017607455.1_ASM1760745v1_genomic.fna  \n",
      "  inflating: genomes/ncbi_dataset/data/GCA_017607455.1/cds_from_genomic.fna  \n",
      "  inflating: genomes/ncbi_dataset/data/GCA_017607455.1/genomic.gff  \n",
      "  inflating: genomes/ncbi_dataset/data/GCA_017607455.1/protein.faa  \n",
      "  inflating: genomes/ncbi_dataset/data/GCA_017607545.1/GCA_017607545.1_ASM1760754v1_genomic.fna  \n",
      "  inflating: genomes/ncbi_dataset/data/GCA_017607545.1/cds_from_genomic.fna  \n",
      "  inflating: genomes/ncbi_dataset/data/GCA_017607545.1/genomic.gff  \n",
      "  inflating: genomes/ncbi_dataset/data/GCA_017607545.1/protein.faa  \n",
      "  inflating: genomes/ncbi_dataset/data/GCA_017607565.1/GCA_017607565.1_ASM1760756v1_genomic.fna  \n",
      "  inflating: genomes/ncbi_dataset/data/GCA_017607565.1/cds_from_genomic.fna  \n",
      "  inflating: genomes/ncbi_dataset/data/GCA_017607565.1/genomic.gff  \n",
      "  inflating: genomes/ncbi_dataset/data/GCA_017607565.1/protein.faa  \n",
      "  inflating: genomes/ncbi_dataset/data/GCA_000204515.1/sequence_report.jsonl  \n",
      "  inflating: genomes/ncbi_dataset/data/GCA_017607455.1/sequence_report.jsonl  \n",
      "  inflating: genomes/ncbi_dataset/data/dataset_catalog.json  \n"
     ]
    }
   ],
   "source": [
    "%%bash\n",
    "# Unzip genomes.zip to the folder genomes\n",
    "unzip -o genomes.zip -d genomes"
   ]
  },
  {
   "cell_type": "code",
   "execution_count": 25,
   "id": "f3337168",
   "metadata": {},
   "outputs": [
    {
     "name": "stdout",
     "output_type": "stream",
     "text": [
      "\u001b[01;34mgenomes/\u001b[00m\n",
      "├── README.md\n",
      "└── \u001b[01;34mncbi_dataset\u001b[00m\n",
      "    └── \u001b[01;34mdata\u001b[00m\n",
      "        ├── \u001b[01;34mGCA_000204515.1\u001b[00m\n",
      "        │   ├── cds_from_genomic.fna\n",
      "        │   ├── genomic.gff\n",
      "        │   ├── protein.faa\n",
      "        │   ├── sequence_report.jsonl\n",
      "        │   └── unplaced.scaf.fna\n",
      "        ├── \u001b[01;34mGCA_017607455.1\u001b[00m\n",
      "        │   ├── GCA_017607455.1_ASM1760745v1_genomic.fna\n",
      "        │   ├── cds_from_genomic.fna\n",
      "        │   ├── genomic.gff\n",
      "        │   ├── protein.faa\n",
      "        │   └── sequence_report.jsonl\n",
      "        ├── \u001b[01;34mGCA_017607545.1\u001b[00m\n",
      "        │   ├── GCA_017607545.1_ASM1760754v1_genomic.fna\n",
      "        │   ├── cds_from_genomic.fna\n",
      "        │   ├── genomic.gff\n",
      "        │   └── protein.faa\n",
      "        ├── \u001b[01;34mGCA_017607565.1\u001b[00m\n",
      "        │   ├── GCA_017607565.1_ASM1760756v1_genomic.fna\n",
      "        │   ├── cds_from_genomic.fna\n",
      "        │   ├── genomic.gff\n",
      "        │   └── protein.faa\n",
      "        ├── assembly_data_report.jsonl\n",
      "        └── dataset_catalog.json\n",
      "\n",
      "6 directories, 21 files\n"
     ]
    }
   ],
   "source": [
    "%%bash\n",
    "# Explore the folder structure of the folder genome with the command tree\n",
    "tree -C genomes/"
   ]
  },
  {
   "cell_type": "markdown",
   "id": "77a0fe05",
   "metadata": {},
   "source": [
    "### Let's recap our goals\n",
    "\n",
    "We used `datasets` to download all the Genbank assemblies for the genus *Acromyrmex*. The next step is to download the gene *orco* (odorance receptor coreceptor) for the same genus. But first, let's learn more about how genes are organized at NCBI.\n",
    "\n",
    "<img src=\"./images/elmo_done1.png\" alt=\"done1\" style=\"width: 500px;\" />"
   ]
  }
 ],
 "metadata": {
  "kernelspec": {
   "display_name": "Python 3 (ipykernel)",
   "language": "python",
   "name": "python3"
  },
  "language_info": {
   "codemirror_mode": {
    "name": "ipython",
    "version": 3
   },
   "file_extension": ".py",
   "mimetype": "text/x-python",
   "name": "python",
   "nbconvert_exporter": "python",
   "pygments_lexer": "ipython3",
   "version": "3.9.9"
  }
 },
 "nbformat": 4,
 "nbformat_minor": 5
}
