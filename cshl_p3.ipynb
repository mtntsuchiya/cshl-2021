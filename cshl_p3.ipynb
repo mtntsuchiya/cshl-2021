{
 "cells": [
  {
   "cell_type": "markdown",
   "id": "a17a866f",
   "metadata": {},
   "source": [
    "# NCBI Datasets - CSHL (11/02/2021)"
   ]
  },
  {
   "cell_type": "markdown",
   "id": "26f69883",
   "metadata": {},
   "source": [
    "### Table of contents\n",
    "* [Part I: Accessing genomes](#Part-I)\n",
    "* [Part II: Accessing genes](#Part-II)\n",
    "* [Part III: Accessing orthologs](#Part-III)\n",
    "* [Part IV: Building a BLAST database and creating a phylogenetic tree](#Part-IV)\n",
    "* [Part V: Downloading large datasets (dehydration/rehydration) and `dataformat`](#Part-V)"
   ]
  },
  {
   "cell_type": "markdown",
   "id": "3c2018eb",
   "metadata": {},
   "source": [
    "### Important resources\n",
    "- Etherpad: https://etherpad.wikimedia.org/p/CSHL_Datasets_Workshop_2021\n",
    "- Github: https://github.com/ncbi/datasets/tree/workshop-cshl-2021/training/cshl-2021\n",
    "- NCBI datasets: https://www.ncbi.nlm.nih.gov/datasets/\n",
    "- jq cheat sheet: https://github.com/ncbi/datasets/blob/workshop-cshl-2021/training/cshl-2021/jq_cheatsheet.md"
   ]
  },
  {
   "cell_type": "markdown",
   "id": "ec6eeabe",
   "metadata": {},
   "source": [
    "## Before we start... What is a jupyter notebook?\n",
    "\n",
    "Jupyter Notebooks are a web-based approach to interactive code. A single notebook (the file you are currently reading) is composed of many \"cells\" which can contain either text, or code. To navigate between cells, either click, or use the arrow keys on your keyboard.\n",
    "\n",
    "A text cell will look like... well... this! While a code cell will look something like what you see below. To run the code inside a code cell, click on it, then click the \"Run\" button at the top of the screen. Try it on the code cell below!"
   ]
  },
  {
   "cell_type": "code",
   "execution_count": 1,
   "id": "c93b68fd",
   "metadata": {},
   "outputs": [
    {
     "name": "stdout",
     "output_type": "stream",
     "text": [
      "You ran the code cell!\n"
     ]
    }
   ],
   "source": [
    "#This is a code cell\n",
    "print('You ran the code cell!')"
   ]
  },
  {
   "cell_type": "markdown",
   "id": "9bea448c",
   "metadata": {},
   "source": [
    "If it worked, you should have seen text pop up underneath the cell saying `You ran the code cell!`. Note the `In [1]:` that appeared next to the cell. This tells you the order you have run code cells throughout the notebook. The next time you run a code cell, it will say `In [2]:`, then `In [3]:` and so on... This will help you know if/when code has been run.\n",
    "\n",
    "The remainder of the notebook below has been pre-built by the workshop organizer. You will not need to create any new cells, and you will be explicitly told if/when to execute a code cell.\n",
    "\n",
    "The code in this workshop is either Bash (i.e., terminal commands) or Python. Bash commands are prefixed with `!` or the cells have the notation `%%bash` at the top., while Python commands are not. If you are not familiar with code, don't feel pressured to interpret it very deeply. Descriptions of each code block will be provided!\n",
    "\n",
    "(Jupyter Notebook explanation by Cooper Park at the workshop on [Finding and Analyzing Metagenomic Data](https://www.nlm.nih.gov/oet/ed/ncbi/2021_10_meta.html))"
   ]
  },
  {
   "cell_type": "markdown",
   "id": "b8805d73",
   "metadata": {},
   "source": [
    "## Case study: Elmo loves ants\n",
    "\n",
    "Elmo is a graduate student at the Via Sesamum University. As part of his Ph.D. project, he studies Panamanian leaf cutter ants (genus *Acromyrmex*, family Formicidae) and how variation in the gene *orco* (**o**dorant **r**eceptor **co**receptor) affects the colonies of this genus.\n",
    "\n",
    "(here's the [link](https://www.ncbi.nlm.nih.gov/labs/pmc/articles/PMC5556950/) to a cool paper talking about this gene in ants of the species *Ooceraea biroi*).\n",
    "\n",
    "<img src=\"./images/ants.png\" alt=\"image\"/>"
   ]
  },
  {
   "cell_type": "markdown",
   "id": "fb672e02",
   "metadata": {},
   "source": [
    "Elmo will use `datasets` to help him gather the existing genomic resources from NCBI. He will:\n",
    "\n",
    "- download all available genomes for the genus *Acromyrmex*\n",
    "- download the *orco* gene from the *Acromyrmex* reference genome\n",
    "- download the ortholog set for this gene for all ants (Formicidae)\n",
    "\n",
    "In addition, he will also do the following tasks:\n",
    "- Create a custom BLAST database with the Panamanian leaf cutter ants genomes \n",
    "- BLAST the gene *orco* against the database\n",
    "- Multiple sequence alignment of the BLAST results and the ortholog gene sequences\n",
    "- Build a phylogenetic tree using fastTree\n"
   ]
  },
  {
   "cell_type": "markdown",
   "id": "8b785d5b",
   "metadata": {},
   "source": [
    "### How is `datasets` organized?\n",
    "\n",
    "[NCBI datasets](https://www.ncbi.nlm.nih.gov/datasets/docs/v1/quickstarts/command-line-tools/) is a command line tool that allows users to download data packages (data + metadata) or look at metadata summaries for genomes, RefSeq annotated genes, curated ortholog sets and SARS-Cov-2 virus sequences and proteins. The program follows a hierarchy that makes it easier for users to select exact which options they would like to use. In addition to the program commands, additional flags are available for filtering the results. We will go over those during this tutorial.\n",
    "<img src=\"./images/datasets_horizontal.drawio.png\" alt=\"datasets\" style=\"width: 600px;\"/>"
   ]
  },
  {
   "cell_type": "markdown",
   "id": "54d048ca",
   "metadata": {},
   "source": [
    "In addition to `datasets`, we will be using `jq` (JSON parser) to take a look at the metadata information. Our metadata reports are almost all in JSON or [JSON Lines](https://jsonlines.org/) format. We put together a [jq cheat sheet]( https://github.com/ncbi/datasets/blob/workshop-cshl-2021/training/cshl-2021/jq_cheatsheet.md) to help you extract information from those files.  "
   ]
  },
  {
   "cell_type": "markdown",
   "id": "75ad66b3",
   "metadata": {},
   "source": [
    "## Part I: Accessing genomes<a class=\"anchor\" id=\"Part-I\"></a>"
   ]
  },
  {
   "cell_type": "markdown",
   "id": "c5509425",
   "metadata": {},
   "source": [
    "![workflow](./images/elmo_workflow.drawio.png)"
   ]
  },
  {
   "cell_type": "markdown",
   "id": "b29b46e2",
   "metadata": {},
   "source": [
    "First, let's figure out what kind of genome information NCBI has for ants (family Formicidae)."
   ]
  },
  {
   "cell_type": "markdown",
   "id": "b1c78dcf",
   "metadata": {},
   "source": [
    "<img src=\"./images/genome_summary.drawio.png\" style=\"width: 600px;\"/>"
   ]
  },
  {
   "cell_type": "code",
   "execution_count": 2,
   "id": "076161ca",
   "metadata": {},
   "outputs": [
    {
     "name": "stdout",
     "output_type": "stream",
     "text": [
      "{\"assemblies\": [{\"assembly\": {\"annotation_metadata\":{\"file\":[{\"estimated_size\":\"3421616\",\"type\":\"GENOME_GFF\"},{\"estimated_size\":\"129483045\",\"type\":\"GENOME_GBFF\"},{\"estimated_size\":\"3444924\",\"type\":\"PROT_FASTA\"},{\"estimated_size\":\"2684704\",\"type\":\"GENOME_GTF\"},{\"estimated_size\":\"7862131\",\"type\":\"CDS_FASTA\"}],\"name\":\"From INSDC submitter\",\"release_date\":\"2021-03-29\",\"source\":\"BGI\",\"stats\":{\"gene_counts\":{\"protein_coding\":8986,\"total\":14640}}},\"assembly_accession\":\"GCA_017607545.1\",\"assembly_category\":\"representative genome\",\"assembly_level\":\"Scaffold\",\"bioproject_lineages\":[{\"bioprojects\":[{\"accession\":\"PRJNA605929\",\"title\":\"Project of the leaf-cutting ants\"}]}],\"biosample_accession\":\"SAMN14167745\",\"blast_url\":\"https://blast.ncbi.nlm.nih.gov/Blast.cgi?PAGE_TYPE=BlastSearch\\u0026PROG_DEF=blastn\\u0026BLAST_SPEC=GDH_GCA_017607545.1\",\"chromosomes\":[{\"length\":\"296539234\",\"name\":\"Un\"}],\"contig_n50\":34925,\"display_name\":\"ASM1760754v1\",\"estimated_size\":\"241200730\",\"gc_count\":\"99149685\",\"org\":{\"assembly_counts\":{\"node\":1,\"subtree\":1},\"isolate\":\"BGI-DK2014a\",\"key\":\"2715315\",\"parent_tax_id\":\"64782\",\"rank\":\"SPECIES\",\"sci_name\":\"Acromyrmex charruanus\",\"tax_id\":\"2715315\",\"title\":\"Acromyrmex charruanus\"},\"seq_length\":\"296539234\",\"submission_date\":\"2021-03-29\",\"submitter\":\"BGI\"}},{\"assembly\": {\"annotation_metadata\":{\"busco\":{\"busco_lineage\":\"hymenoptera_odb10\",\"busco_ver\":\"4.0.2\",\"complete\":0.99265563,\"duplicated\":0.003171424,\"fragmented\":0.004172926,\"missing\":0.003171424,\"single_copy\":0.98948\n"
     ]
    }
   ],
   "source": [
    "%%bash\n",
    "# Get metadata info - this example output has been truncated to fit the notebook output screen in github\n",
    "# by printing only the first 1500 characters\n",
    "\n",
    "datasets summary genome taxon formicidae | cut -c1-1500\n",
    "\n",
    "# Original code run in the workshop\n",
    "# datasets summary genome taxon formicidae\n"
   ]
  },
  {
   "cell_type": "code",
   "execution_count": 3,
   "id": "9f1c4ea3",
   "metadata": {},
   "outputs": [],
   "source": [
    "%%bash\n",
    "# Get metadata info and save to a file\n",
    "datasets summary genome taxon formicidae > formicidae_summary.json"
   ]
  },
  {
   "cell_type": "markdown",
   "id": "dd676b9b",
   "metadata": {},
   "source": [
    "**Now let's take a look at the metadata using jq**"
   ]
  },
  {
   "cell_type": "code",
   "execution_count": 4,
   "id": "4206d799",
   "metadata": {},
   "outputs": [
    {
     "name": "stdout",
     "output_type": "stream",
     "text": [
      "{\n",
      "  \"assemblies\": [\n",
      "    {\n",
      "      \"assembly\": {\n",
      "        \"annotation_metadata\": {\n",
      "          \"file\": [\n",
      "            {\n",
      "              \"estimated_size\": \"3421616\",\n",
      "              \"type\": \"GENOME_GFF\"\n",
      "            },\n",
      "            {\n",
      "              \"estimated_size\": \"129483045\",\n",
      "              \"type\": \"GENOME_GBFF\"\n",
      "            },\n",
      "            {\n",
      "              \"estimated_size\": \"3444924\",\n",
      "              \"type\": \"PROT_FASTA\"\n",
      "            },\n",
      "            {\n",
      "              \"estimated_size\": \"2684704\",\n",
      "              \"type\": \"GENOME_GTF\"\n",
      "            },\n",
      "            {\n",
      "              \"estimated_size\": \"7862131\",\n",
      "              \"type\": \"CDS_FASTA\"\n",
      "            }\n",
      "          ],\n",
      "          \"name\": \"From INSDC submitter\",\n",
      "          \"release_date\": \"2021-03-29\",\n",
      "          \"source\": \"BGI\",\n",
      "          \"stats\": {\n",
      "            \"gene_counts\": {\n",
      "              \"protein_coding\": 8986,\n",
      "              \"total\": 14640\n",
      "            }\n",
      "          }\n",
      "        },\n",
      "        \"assembly_accession\": \"GCA_017607545.1\",\n",
      "        \"assembly_category\": \"representative genome\",\n",
      "        \"assembly_level\": \"Scaffold\",\n",
      "        \"bioproject_lineages\": [\n",
      "          {\n",
      "            \"bioprojects\": [\n",
      "              {\n",
      "                \"accession\": \"PRJNA605929\",\n",
      "                \"title\": \"Project of the leaf-cutting ants\"\n",
      "              }\n",
      "            ]\n",
      "          }\n",
      "        ],\n",
      "        \"biosample_accession\": \"SAMN14167745\",\n",
      "        \"blast_url\": \"https://blast.ncbi.nlm.nih.gov/Blast.cgi?PAGE_TYPE=BlastSearch&PROG_DEF=blastn&BLAST_SPEC=GDH_GCA_017607545.1\",\n",
      "        \"chromosomes\": [\n",
      "          {\n",
      "            \"length\": \"296539234\",\n",
      "            \"name\": \"Un\"\n",
      "          }\n",
      "        ],\n",
      "        \"contig_n50\": 34925,\n",
      "        \"display_name\": \"ASM1760754v1\",\n",
      "        \"estimated_size\": \"241200730\",\n",
      "        \"gc_count\": \"99149685\",\n",
      "        \"org\": {\n",
      "          \"assembly_counts\": {\n",
      "            \"node\": 1,\n",
      "            \"subtree\": 1\n",
      "          },\n",
      "          \"isolate\": \"BGI-DK2014a\",\n",
      "          \"key\": \"2715315\",\n",
      "          \"parent_tax_id\": \"64782\",\n",
      "          \"rank\": \"SPECIES\",\n",
      "          \"sci_name\": \"Acromyrmex charruanus\",\n",
      "          \"tax_id\": \"2715315\",\n",
      "          \"title\": \"Acromyrmex charruanus\"\n",
      "        },\n",
      "        \"seq_length\": \"296539234\",\n",
      "        \"submission_date\": \"2021-03-29\",\n",
      "        \"submitter\": \"BGI\"\n",
      "      }\n",
      "    },\n",
      "    {\n",
      "      \"assembly\": {\n",
      "        \"annotation_metadata\": {\n",
      "          \"busco\": {\n",
      "            \"busco_lineage\": \"hymenoptera_odb10\",\n",
      "            \"busco_ver\": \"4.0.2\",\n",
      "            \"complete\": 0.99265563,\n",
      "            \"duplicated\": 0.003171424,\n",
      "            \"fragmented\": 0.004172926,\n",
      "            \"missing\": 0.003171424,\n",
      "            \"single_copy\": 0.98948425,\n",
      "            \"total_count\": \"5991\"\n",
      "          },\n",
      "          \"file\": [\n",
      "            {\n",
      "              \"estimated_size\": \"5006475\",\n",
      "              \"type\": \"GENOME_GFF\"\n",
      "            },\n",
      "            {\n",
      "              \"estimated_size\": \"130785045\",\n"
     ]
    }
   ],
   "source": [
    "%%bash\n",
    "# this example has been truncated to fit the notebook output in github by only printing the first 100 lines\n",
    "datasets summary genome taxon formicidae | jq . | perl -ne'1..100 and print' \n",
    "\n",
    "# Original code run in the workshop\n",
    "# datasets summary genome taxon formicidae | jq . "
   ]
  },
  {
   "cell_type": "markdown",
   "id": "0c98b353",
   "metadata": {},
   "source": [
    "### A little bit more about json files\n",
    "A JSON (JavaScript Object Notation) file stores data structures and objects. In a very simplified (and non-technical) way, a JSON file is a box, that might contain other boxes with more boxes inside. In `datasets summary genome` our JSON \"box\" is organized like this:\n",
    "<img src=\"./images/json8.png\" alt=\"image\"/>"
   ]
  },
  {
   "cell_type": "markdown",
   "id": "bec22061",
   "metadata": {},
   "source": [
    "But let's explore the \"boxes\" in stages, so we can understand how everything is organized and how we can use this knowledge to extract information from the summary metadata file. At the first level, we have this: \n",
    "```\n",
    "{\n",
    " assemblies[\n",
    "      assembly{},\n",
    "      assembly{},\n",
    " ],\n",
    " total_count\n",
    "}\n",
    "```\n",
    "<img src=\"./images/json1.png\" />"
   ]
  },
  {
   "cell_type": "markdown",
   "id": "df8dc57c",
   "metadata": {},
   "source": [
    "If we want to look at the value in the field \"total_count\", here's the command we would use:"
   ]
  },
  {
   "cell_type": "code",
   "execution_count": 5,
   "id": "16dcb31e",
   "metadata": {},
   "outputs": [
    {
     "name": "stdout",
     "output_type": "stream",
     "text": [
      "5\n"
     ]
    }
   ],
   "source": [
    "%%bash\n",
    "datasets summary genome taxon herpestidae | jq '.total_count'"
   ]
  },
  {
   "cell_type": "markdown",
   "id": "648dbd10",
   "metadata": {},
   "source": [
    "If we continue to expand each one of those assembly boxes, more levels of the hierarchy will be revealed. Let's expand each assembly and look at what information we can find at that level.  \n",
    "\n",
    "<img src=\"./images/json2a.png\" alt=\"image\"/>"
   ]
  },
  {
   "cell_type": "markdown",
   "id": "3332c595",
   "metadata": {},
   "source": [
    "Here we can see that some of the assembly information, such as assembly accession number, contig N50 or submission date are not included inside any of the available \"boxes\" (annotation_metadata, chromosomes, bioproject_lineage, and org). Those fields describe assembly features/characteristics that pertain to the entire assembly, and not only any of those boxes available. What are the contig n50 values of those assemblies?\n",
    "\n",
    "To retrieve that information, we need to call each box, starting from the largest one, until the field we're interested in. And each level is separated from the next by a period (.). \n",
    "\n",
    "<img src=\"./images/json3.png\" />"
   ]
  },
  {
   "cell_type": "code",
   "execution_count": 6,
   "id": "bf818971",
   "metadata": {},
   "outputs": [
    {
     "name": "stdout",
     "output_type": "stream",
     "text": [
      "113567\n",
      "180702\n",
      "75409\n",
      "148487\n",
      "75409\n"
     ]
    }
   ],
   "source": [
    "%%bash\n",
    "datasets summary genome taxon herpestidae | jq '.assemblies[].assembly.contig_n50'"
   ]
  },
  {
   "cell_type": "markdown",
   "id": "c4998eb9",
   "metadata": {},
   "source": [
    "Now let's see what we have inside `annotation_metadata`, `bioproject_lineages`, `org` and `chromosomes`. \n",
    "<img src=\"./images/json8.png\" alt=\"image\"/>"
   ]
  },
  {
   "cell_type": "markdown",
   "id": "e4d84d63",
   "metadata": {},
   "source": [
    "Now let's see how we can retrieve the scientific names associated with those assemblies.\n",
    "<img src=\"./images/json4.png\" />"
   ]
  },
  {
   "cell_type": "code",
   "execution_count": 7,
   "id": "d4e19c50",
   "metadata": {},
   "outputs": [
    {
     "name": "stdout",
     "output_type": "stream",
     "text": [
      "\"Helogale parvula\"\n",
      "\"Mungos mungo\"\n",
      "\"Suricata suricatta\"\n",
      "\"Suricata suricatta\"\n",
      "\"Suricata suricatta\"\n"
     ]
    }
   ],
   "source": [
    "%%bash\n",
    "datasets summary genome taxon herpestidae | jq '.assemblies[].assembly.org.sci_name'"
   ]
  },
  {
   "cell_type": "markdown",
   "id": "7cb3fd67",
   "metadata": {},
   "source": [
    "As you can see, `jq` is very useful in retrieving information from the summary metadata *as long as* you know the path to find it. Let's try a few more complex examples.\n",
    "<img src=\"./images/json5.png\" />"
   ]
  },
  {
   "cell_type": "markdown",
   "id": "5a7bb1f1",
   "metadata": {},
   "source": [
    "First, let's retrieve information from three fields at the same time: scientific name (`sci_name`), assembly accession number (`assembly_accession`) and contig N50 (`contig_n50`)."
   ]
  },
  {
   "cell_type": "code",
   "execution_count": 8,
   "id": "0804f4ca",
   "metadata": {},
   "outputs": [
    {
     "name": "stdout",
     "output_type": "stream",
     "text": [
      "\"Helogale parvula\"\n",
      "\"GCA_004023845.1\"\n",
      "113567\n",
      "\"Mungos mungo\"\n",
      "\"GCA_004023785.1\"\n",
      "180702\n",
      "\"Suricata suricatta\"\n",
      "\"GCF_006229205.1\"\n",
      "75409\n",
      "\"Suricata suricatta\"\n",
      "\"GCA_004023905.1\"\n",
      "148487\n",
      "\"Suricata suricatta\"\n",
      "\"GCA_006229205.1\"\n",
      "75409\n"
     ]
    }
   ],
   "source": [
    "%%bash\n",
    "datasets summary genome taxon herpestidae | jq '.assemblies[].assembly | (.org.sci_name, .assembly_accession, .contig_n50)'"
   ]
  },
  {
   "cell_type": "markdown",
   "id": "d98060ff",
   "metadata": {},
   "source": [
    "Since all three fields are inside the `.assemblies[].assembly`, we can call the first part of the path once and use a pipe (|) to call each specific field. \n",
    "Now let's try to make this a little easier to read. We can create new fields and assign values to them, like this:"
   ]
  },
  {
   "cell_type": "code",
   "execution_count": 9,
   "id": "2237df0b",
   "metadata": {},
   "outputs": [
    {
     "name": "stdout",
     "output_type": "stream",
     "text": [
      "{\n",
      "  \"species\": \"Helogale parvula\",\n",
      "  \"accession\": \"GCA_004023845.1\",\n",
      "  \"contigN50\": 113567\n",
      "}\n",
      "{\n",
      "  \"species\": \"Mungos mungo\",\n",
      "  \"accession\": \"GCA_004023785.1\",\n",
      "  \"contigN50\": 180702\n",
      "}\n",
      "{\n",
      "  \"species\": \"Suricata suricatta\",\n",
      "  \"accession\": \"GCF_006229205.1\",\n",
      "  \"contigN50\": 75409\n",
      "}\n",
      "{\n",
      "  \"species\": \"Suricata suricatta\",\n",
      "  \"accession\": \"GCA_004023905.1\",\n",
      "  \"contigN50\": 148487\n",
      "}\n",
      "{\n",
      "  \"species\": \"Suricata suricatta\",\n",
      "  \"accession\": \"GCA_006229205.1\",\n",
      "  \"contigN50\": 75409\n",
      "}\n"
     ]
    }
   ],
   "source": [
    "%%bash\n",
    "datasets summary genome taxon herpestidae | jq '.assemblies[].assembly \n",
    "| {species: .org.sci_name, accession: .assembly_accession, contigN50:.contig_n50}'"
   ]
  },
  {
   "cell_type": "markdown",
   "id": "7a6fe95c",
   "metadata": {},
   "source": [
    "**Last one**: let's look at a larger collection of genome assemblies (let's say, all Carnivora) and select only those assemblies with contig N50 larger than 15 Mb (15000000 bp). `datasets` provides many options for filtering, but there is no built-in filter for contig N50 size.  \n",
    "\n",
    "Here's what we want to see: assembly accession number, species and assembly level for those genomes with contig N50 above 15 Mb."
   ]
  },
  {
   "cell_type": "code",
   "execution_count": 10,
   "id": "3f2a71f4",
   "metadata": {},
   "outputs": [
    {
     "name": "stdout",
     "output_type": "stream",
     "text": [
      "GCA_905319855.2\tCanis lupus\tChromosome\n",
      "GCF_012295265.1\tCanis lupus dingo\tChromosome\n",
      "GCA_003254725.2\tCanis lupus dingo\tChromosome\n",
      "GCA_012295265.1\tCanis lupus dingo\tChromosome\n",
      "GCF_000002285.5\tCanis lupus familiaris\tChromosome\n",
      "GCF_013276365.1\tCanis lupus familiaris\tChromosome\n",
      "GCA_000002285.4\tCanis lupus familiaris\tChromosome\n",
      "GCA_008641055.3\tCanis lupus familiaris\tChromosome\n",
      "GCA_013276365.2\tCanis lupus familiaris\tChromosome\n",
      "GCF_018350175.1\tFelis catus\tChromosome\n",
      "GCF_000181335.3\tFelis catus\tChromosome\n",
      "GCA_000181335.5\tFelis catus\tChromosome\n",
      "GCA_013340865.1\tFelis catus\tContig\n",
      "GCA_016509815.2\tFelis catus\tChromosome\n",
      "GCA_018350175.1\tFelis catus\tChromosome\n",
      "GCA_019924945.1\tFelis chaus\tChromosome\n",
      "GCF_018350155.1\tLeopardus geoffroyi\tChromosome\n",
      "GCA_018350155.1\tLeopardus geoffroyi\tChromosome\n",
      "GCA_902655055.2\tLutra lutra\tChromosome\n",
      "GCA_922984935.1\tMeles meles\tChromosome\n",
      "GCF_009829155.1\tMustela erminea\tChromosome\n",
      "GCA_009829155.1\tMustela erminea\tChromosome\n",
      "GCF_011764305.1\tMustela putorius furo\tContig\n",
      "GCA_009859125.1\tMustela putorius furo\tContig\n",
      "GCA_009859175.1\tMustela putorius furo\tContig\n",
      "GCA_009859215.1\tMustela putorius furo\tContig\n",
      "GCA_009859225.1\tMustela putorius furo\tContig\n",
      "GCA_009859235.1\tMustela putorius furo\tContig\n",
      "GCA_009859245.1\tMustela putorius furo\tContig\n",
      "GCA_009859265.1\tMustela putorius furo\tContig\n",
      "GCA_010015535.1\tMustela putorius furo\tContig\n",
      "GCA_010367565.1\tMustela putorius furo\tContig\n",
      "GCA_010367575.1\tMustela putorius furo\tContig\n",
      "GCA_011764305.2\tMustela putorius furo\tContig\n",
      "GCF_020171115.1\tNeogale vison\tChromosome\n",
      "GCA_020171115.1\tNeogale vison\tChromosome\n",
      "GCA_905146905.1\tNyctereutes procyonoides\tScaffold\n",
      "GCF_018350215.1\tPanthera leo\tChromosome\n",
      "GCA_018350215.1\tPanthera leo\tChromosome\n",
      "GCF_018350195.1\tPanthera tigris\tChromosome\n",
      "GCA_018350195.2\tPanthera tigris\tChromosome\n",
      "GCF_016509475.1\tPrionailurus bengalensis\tChromosome\n",
      "GCA_016509475.2\tPrionailurus bengalensis\tChromosome\n",
      "GCF_018345385.1\tVulpes lagopus\tChromosome\n",
      "GCA_018345385.1\tVulpes lagopus\tChromosome\n",
      "GCF_009762305.2\tZalophus californianus\tChromosome\n",
      "GCA_009762305.2\tZalophus californianus\tChromosome\n"
     ]
    }
   ],
   "source": [
    "%%bash\n",
    "datasets summary genome taxon carnivora | jq -r '.assemblies[].assembly \n",
    "| select(.contig_n50 > 15000000) \n",
    "| [.assembly_accession, .org.sci_name, .assembly_level] \n",
    "| @tsv'"
   ]
  },
  {
   "cell_type": "markdown",
   "id": "64bd7499",
   "metadata": {},
   "source": [
    "**RESOURCE:**  \n",
    "We included a list of all fields in the genome summary in our [jq cheatsheet](https://github.com/ncbi/datasets/blob/workshop-cshl-2021/training/cshl-2021/jq_cheatsheet.md) to help you extract the information you need. And we will show you now how to do that. "
   ]
  },
  {
   "cell_type": "markdown",
   "id": "2f550f75",
   "metadata": {},
   "source": [
    "### Let's continue to explore the available genomes for the family Formicidae\n",
    "\n",
    "<img src=\"./images/genome_summary.drawio.png\" alt=\"summary\" style=\"width: 600px\"/>"
   ]
  },
  {
   "cell_type": "markdown",
   "id": "87806b8c",
   "metadata": {},
   "source": [
    "For this part, we will use two UNIX commands: `sort` and `uniq`. \n",
    "\n",
    "- `sort` can be used to sort text files line by line, numerically and alphabetically.   \n",
    "- `uniq` will filter out the repeated lines in a file. However, `uniq` can only detect repeated lines if they are adjacent to each other. In other words, if they are alphabetically or numerically sorted. The flag `-c` or `--count` tells the command `uniq` to remove the repeated lines, and to count how many times each value appeared. \n",
    "\n",
    "So, we will use `jq` to extract the information we need, sort the result and count the number of unique entries."
   ]
  },
  {
   "cell_type": "code",
   "execution_count": 11,
   "id": "b2c1912d",
   "metadata": {},
   "outputs": [
    {
     "name": "stdout",
     "output_type": "stream",
     "text": [
      "   1 \"Acromyrmex charruanus\"\n",
      "   2 \"Acromyrmex echinatior\"\n",
      "   1 \"Acromyrmex heyeri\"\n",
      "   1 \"Acromyrmex insinuator\"\n",
      "   1 \"Aphaenogaster ashmeadi\"\n",
      "   1 \"Aphaenogaster floridana\"\n",
      "   1 \"Aphaenogaster fulva\"\n",
      "   1 \"Aphaenogaster miamiana\"\n",
      "   1 \"Aphaenogaster picea\"\n",
      "   2 \"Aphaenogaster rudis\"\n",
      "   2 \"Atta cephalotes\"\n",
      "   2 \"Atta colombica\"\n",
      "   1 \"Atta texana\"\n",
      "   4 \"Camponotus floridanus\"\n",
      "   1 \"Cardiocondyla obscurior\"\n",
      "   1 \"Cataglyphis hispanica\"\n",
      "   1 \"Cataglyphis niger\"\n",
      "   1 \"Crematogaster levior\"\n",
      "   2 \"Cyphomyrmex costatus\"\n",
      "   2 \"Dinoponera quadriceps\"\n",
      "   1 \"Eciton burchellii\"\n",
      "   1 \"Formica aquilonia x Formica polyctena\"\n",
      "   2 \"Formica exsecta\"\n",
      "   1 \"Formica selysi\"\n",
      "   4 \"Harpegnathos saltator\"\n",
      "   1 \"Lasius niger\"\n",
      "   2 \"Linepithema humile\"\n",
      "   7 \"Monomorium pharaonis\"\n",
      "   2 \"Nylanderia fulva\"\n",
      "   2 \"Odontomachus brunneus\"\n",
      "   4 \"Ooceraea biroi\"\n",
      "   2 \"Pogonomyrmex barbatus\"\n",
      "   1 \"Pogonomyrmex californicus\"\n",
      "   1 \"Pseudoatta argentina\"\n",
      "   1 \"Pseudomyrmex concolor\"\n",
      "   1 \"Pseudomyrmex cubaensis\"\n",
      "   1 \"Pseudomyrmex dendroicus\"\n",
      "   1 \"Pseudomyrmex elongatus\"\n",
      "   1 \"Pseudomyrmex flavicornis\"\n",
      "   2 \"Pseudomyrmex gracilis\"\n",
      "   1 \"Pseudomyrmex pallidus\"\n",
      "   1 \"Pseudomyrmex sp. PSW-54\"\n",
      "   1 \"Solenopsis fugax\"\n",
      "  10 \"Solenopsis invicta\"\n",
      "   2 \"Temnothorax curvispinosus\"\n",
      "   1 \"Temnothorax longispinosus\"\n",
      "   1 \"Tetramorium bicarinatum\"\n",
      "   1 \"Tetramorium immigrans\"\n",
      "   1 \"Tetramorium parvispinum\"\n",
      "   1 \"Tetramorium simillimum\"\n",
      "   2 \"Trachymyrmex cornetzi\"\n",
      "   2 \"Trachymyrmex septentrionalis\"\n",
      "   2 \"Trachymyrmex zeteki\"\n",
      "   2 \"Vollenhovia emeryi\"\n",
      "   2 \"Wasmannia auropunctata\"\n"
     ]
    }
   ],
   "source": [
    "%%bash\n",
    "# For which species does NCBI have genomes in its database? How many per species?\n",
    "\n",
    "datasets summary genome taxon formicidae | jq '.assemblies[].assembly.org.sci_name' | sort | uniq -c"
   ]
  },
  {
   "cell_type": "code",
   "execution_count": 12,
   "id": "6c953fbd",
   "metadata": {},
   "outputs": [
    {
     "name": "stdout",
     "output_type": "stream",
     "text": [
      "  12 \"Chromosome\"\n",
      "   1 \"Contig\"\n",
      "  84 \"Scaffold\"\n"
     ]
    }
   ],
   "source": [
    "%%bash\n",
    "# What is the assembly level (contig, scaffold, chromosome, complete) breakdown?\n",
    "\n",
    "datasets summary genome taxon formicidae | jq '.assemblies[].assembly.assembly_level' | sort | uniq -c"
   ]
  },
  {
   "cell_type": "markdown",
   "id": "ed84aedf",
   "metadata": {},
   "source": [
    "### How to get help when using the command line\n",
    "\n",
    "Since `datasets` is a very hierarchical program, we can use that characteristic to our advantage to get very specific help.   For example: if we type `datasets --help`, we will see the first level of commands available.\n"
   ]
  },
  {
   "cell_type": "code",
   "execution_count": 13,
   "id": "d219e750",
   "metadata": {},
   "outputs": [
    {
     "name": "stdout",
     "output_type": "stream",
     "text": [
      "datasets is a command-line tool that is used to query and download biological sequence data\n",
      "across all domains of life from NCBI databases.\n",
      "\n",
      "Refer to NCBI's [command line quickstart](https://www.ncbi.nlm.nih.gov/datasets/docs/quickstarts/command-line-tools/) documentation for information about getting started with the command-line tools.\n",
      "\n",
      "Usage\n",
      "  datasets [command]\n",
      "\n",
      "Data Retrieval Commands\n",
      "  summary              print a summary of a gene or genome dataset\n",
      "  download             download a gene, genome or coronavirus dataset as a zip file\n",
      "  rehydrate            rehydrate a downloaded, dehydrated dataset\n",
      "\n",
      "Miscellaneous Commands\n",
      "  completion           generate autocompletion scripts\n",
      "  version              print the version of this client and exit\n",
      "  help                 Help about any command\n",
      "\n",
      "Flags\n",
      "      --api-key string   NCBI Datasets API Key\n",
      "  -h, --help             help for datasets\n",
      "      --no-progressbar   hide progress bar\n",
      "\n",
      "Use datasets help <command> for detailed help about a command.\n"
     ]
    }
   ],
   "source": [
    "%%bash\n",
    "datasets --help"
   ]
  },
  {
   "cell_type": "markdown",
   "id": "db05f935",
   "metadata": {},
   "source": [
    "Notice the difference from when we type `datasets summary genome taxon formicidae --help`  \n"
   ]
  },
  {
   "cell_type": "code",
   "execution_count": 14,
   "id": "a09930dd",
   "metadata": {},
   "outputs": [
    {
     "name": "stdout",
     "output_type": "stream",
     "text": [
      "\n",
      "Print a summary of a genome dataset by taxon (NCBI Taxonomy ID, scientific or common name at any tax rank). The summary is returned in JSON format.\n",
      "\n",
      "Refer to NCBI's [command line quickstart](https://www.ncbi.nlm.nih.gov/datasets/docs/quickstarts/command-line-tools/) documentation for information about getting started with the command-line tools.\n",
      "\n",
      "Usage\n",
      "  datasets summary genome taxon [flags]\n",
      "\n",
      "Examples\n",
      "  datasets summary genome taxon human\n",
      "  datasets summary genome taxon \"mus musculus\"\n",
      "  datasets summary genome taxon 10116\n",
      "\n",
      "Flags\n",
      "  -h, --help              help for taxon\n",
      "      --tax-exact-match   exclude sub-species when a species-level taxon is specified\n",
      "\n",
      "\n",
      "Global Flags\n",
      "  -a, --annotated                only include genomes with annotation\n",
      "      --api-key string           NCBI Datasets API Key\n",
      "      --as-json-lines            Stream results as newline delimited JSON-Lines\n",
      "      --assembly-level string    restrict assemblies to a comma-separated list of one or more of: chromosome, complete_genome, contig, scaffold\n",
      "      --assembly-source string   restrict assemblies to refseq or genbank only\n",
      "      --assmaccs                 return only assembly accessions\n",
      "      --limit string             limit the number of genome summaries returned\n",
      "                                 * \"all\": returns all matching genome summaries\n",
      "                                 * \"none\": returns only the number of matching genome summaries\n",
      "                                 * a number: returns the specified number of matching genome summaries\n",
      "                                  (default \"all\")\n",
      "      --no-progressbar           hide progress bar\n",
      "      --reference                limit to reference and representative (GCF_ and GCA_) assemblies\n",
      "      --released-before string   only include genomes that have been released before a specified date (MM/DD/YYYY)\n",
      "      --released-since string    only include genomes that have been released after a specified date (MM/DD/YYYY)\n",
      "      --search strings           only include genomes that have the specified text in the\n",
      "                                 searchable fields: species and infraspecies, assembly name and submitter\n",
      "                                 To provide multiple strings '--search' can be included multiple times\n",
      "\n"
     ]
    }
   ],
   "source": [
    "%%bash\n",
    "datasets summary genome taxon formicidae --help"
   ]
  },
  {
   "cell_type": "markdown",
   "id": "598672be",
   "metadata": {},
   "source": [
    "### Exercises\n",
    "\n",
    "Now we will practice what we learned about `datasets`. Take a look at the questions below and feel free to ask questions. Useful resources for this exercise are the `--help` from the command line and the [jq cheatsheet](). \n"
   ]
  },
  {
   "cell_type": "code",
   "execution_count": 15,
   "id": "7c88ac9b",
   "metadata": {},
   "outputs": [],
   "source": [
    "%%bash\n",
    "# How many reference genomes in the family Formicidae? (hint --reference)\n",
    "\n"
   ]
  },
  {
   "cell_type": "code",
   "execution_count": 16,
   "id": "e5632797",
   "metadata": {},
   "outputs": [],
   "source": [
    "%%bash\n",
    "# How many reference genomes are annotated? (hint: --annotated)\n",
    "\n"
   ]
  },
  {
   "cell_type": "code",
   "execution_count": 17,
   "id": "462d4858",
   "metadata": {},
   "outputs": [],
   "source": [
    "%%bash\n",
    "# How many genomes have NCBI (RefSeq) annotations? (hint: --assembly-source)\n",
    "\n"
   ]
  },
  {
   "cell_type": "markdown",
   "id": "507517eb",
   "metadata": {},
   "source": [
    "### Bonus questions:"
   ]
  },
  {
   "cell_type": "code",
   "execution_count": 18,
   "id": "b74655c4",
   "metadata": {},
   "outputs": [],
   "source": [
    "%%bash\n",
    "## Take a look at the jq cheat sheet (link here) and try to build a jq query for the metadata\n",
    "\n"
   ]
  },
  {
   "cell_type": "code",
   "execution_count": 19,
   "id": "c114d6ee",
   "metadata": {},
   "outputs": [],
   "source": [
    "%%bash\n",
    "# Now look at the summary metadata for your organism of interest \n",
    "# (if you don't have a favorite, go with red panda, Ailurus fulgens, taxid: 9649)\n",
    "\n"
   ]
  },
  {
   "cell_type": "code",
   "execution_count": 20,
   "id": "62ff1beb",
   "metadata": {},
   "outputs": [],
   "source": [
    "%%bash\n",
    "# How many genomes?\n",
    "\n"
   ]
  },
  {
   "cell_type": "code",
   "execution_count": 21,
   "id": "308bd3d3",
   "metadata": {},
   "outputs": [],
   "source": [
    "%%bash\n",
    "# Assembly level breakdown\n",
    "\n"
   ]
  },
  {
   "cell_type": "code",
   "execution_count": 22,
   "id": "9bf4dbee",
   "metadata": {},
   "outputs": [],
   "source": [
    "%%bash\n",
    "# How many genomes have a contig N50 value above 15Mb?\n",
    "\n"
   ]
  },
  {
   "cell_type": "markdown",
   "id": "6c3bdb20",
   "metadata": {},
   "source": [
    "### Back to the main room\n"
   ]
  },
  {
   "cell_type": "markdown",
   "id": "6b9ce67e",
   "metadata": {},
   "source": [
    "### What is the difference/relationship between Genbank, RefSeq and Reference assemblies?\n",
    "\n",
    "<img src=\"./images/gca_gcf.png\" alt=\"ref\" />"
   ]
  },
  {
   "cell_type": "markdown",
   "id": "d66b33f7",
   "metadata": {},
   "source": [
    "### Data package\n",
    "\n",
    "We explored the `datasets summary` option, in which we had a chance to look at the summary metadata ***without*** downloading any files. In the next steps, we will look at the data packages, which contain the actual data files. \n",
    "\n",
    "<img src=\"./images/genome_data_package.png\" alt=\"data_package\" />"
   ]
  },
  {
   "cell_type": "code",
   "execution_count": 23,
   "id": "fa1fd70d",
   "metadata": {},
   "outputs": [],
   "source": [
    "%%bash\n",
    "# Download all available GenBank assemblies for the genus Acromyrmex and save as genomes.zip\n",
    "datasets download genome taxon acromyrmex --assembly-source genbank --filename genomes.zip --no-progressbar"
   ]
  },
  {
   "cell_type": "code",
   "execution_count": 24,
   "id": "5f57b5e8",
   "metadata": {},
   "outputs": [
    {
     "name": "stdout",
     "output_type": "stream",
     "text": [
      "Archive:  genomes.zip\n",
      "  inflating: genomes/README.md       \n",
      "  inflating: genomes/ncbi_dataset/data/assembly_data_report.jsonl  \n",
      "  inflating: genomes/ncbi_dataset/data/GCA_000204515.1/unplaced.scaf.fna  \n",
      "  inflating: genomes/ncbi_dataset/data/GCA_000204515.1/cds_from_genomic.fna  \n",
      "  inflating: genomes/ncbi_dataset/data/GCA_000204515.1/genomic.gff  \n",
      "  inflating: genomes/ncbi_dataset/data/GCA_000204515.1/protein.faa  \n",
      "  inflating: genomes/ncbi_dataset/data/GCA_017607455.1/GCA_017607455.1_ASM1760745v1_genomic.fna  \n",
      "  inflating: genomes/ncbi_dataset/data/GCA_017607455.1/cds_from_genomic.fna  \n",
      "  inflating: genomes/ncbi_dataset/data/GCA_017607455.1/genomic.gff  \n",
      "  inflating: genomes/ncbi_dataset/data/GCA_017607455.1/protein.faa  \n",
      "  inflating: genomes/ncbi_dataset/data/GCA_017607545.1/GCA_017607545.1_ASM1760754v1_genomic.fna  \n",
      "  inflating: genomes/ncbi_dataset/data/GCA_017607545.1/cds_from_genomic.fna  \n",
      "  inflating: genomes/ncbi_dataset/data/GCA_017607545.1/genomic.gff  \n",
      "  inflating: genomes/ncbi_dataset/data/GCA_017607545.1/protein.faa  \n",
      "  inflating: genomes/ncbi_dataset/data/GCA_017607565.1/GCA_017607565.1_ASM1760756v1_genomic.fna  \n",
      "  inflating: genomes/ncbi_dataset/data/GCA_017607565.1/cds_from_genomic.fna  \n",
      "  inflating: genomes/ncbi_dataset/data/GCA_017607565.1/genomic.gff  \n",
      "  inflating: genomes/ncbi_dataset/data/GCA_017607565.1/protein.faa  \n",
      "  inflating: genomes/ncbi_dataset/data/GCA_000204515.1/sequence_report.jsonl  \n",
      "  inflating: genomes/ncbi_dataset/data/GCA_017607455.1/sequence_report.jsonl  \n",
      "  inflating: genomes/ncbi_dataset/data/dataset_catalog.json  \n"
     ]
    }
   ],
   "source": [
    "%%bash\n",
    "# Unzip genomes.zip to the folder genomes\n",
    "unzip -o genomes.zip -d genomes"
   ]
  },
  {
   "cell_type": "code",
   "execution_count": 25,
   "id": "f3337168",
   "metadata": {},
   "outputs": [
    {
     "name": "stdout",
     "output_type": "stream",
     "text": [
      "\u001b[01;34mgenomes/\u001b[00m\n",
      "├── README.md\n",
      "└── \u001b[01;34mncbi_dataset\u001b[00m\n",
      "    └── \u001b[01;34mdata\u001b[00m\n",
      "        ├── \u001b[01;34mGCA_000204515.1\u001b[00m\n",
      "        │   ├── cds_from_genomic.fna\n",
      "        │   ├── genomic.gff\n",
      "        │   ├── protein.faa\n",
      "        │   ├── sequence_report.jsonl\n",
      "        │   └── unplaced.scaf.fna\n",
      "        ├── \u001b[01;34mGCA_017607455.1\u001b[00m\n",
      "        │   ├── GCA_017607455.1_ASM1760745v1_genomic.fna\n",
      "        │   ├── cds_from_genomic.fna\n",
      "        │   ├── genomic.gff\n",
      "        │   ├── protein.faa\n",
      "        │   └── sequence_report.jsonl\n",
      "        ├── \u001b[01;34mGCA_017607545.1\u001b[00m\n",
      "        │   ├── GCA_017607545.1_ASM1760754v1_genomic.fna\n",
      "        │   ├── cds_from_genomic.fna\n",
      "        │   ├── genomic.gff\n",
      "        │   └── protein.faa\n",
      "        ├── \u001b[01;34mGCA_017607565.1\u001b[00m\n",
      "        │   ├── GCA_017607565.1_ASM1760756v1_genomic.fna\n",
      "        │   ├── cds_from_genomic.fna\n",
      "        │   ├── genomic.gff\n",
      "        │   └── protein.faa\n",
      "        ├── assembly_data_report.jsonl\n",
      "        └── dataset_catalog.json\n",
      "\n",
      "6 directories, 21 files\n"
     ]
    }
   ],
   "source": [
    "%%bash\n",
    "# Explore the folder structure of the folder genome with the command tree\n",
    "tree -C genomes/"
   ]
  },
  {
   "cell_type": "markdown",
   "id": "77a0fe05",
   "metadata": {},
   "source": [
    "### Let's recap our goals\n",
    "\n",
    "We used `datasets` to download all the Genbank assemblies for the genus *Acromyrmex*. The next step is to download the gene *orco* (odorance receptor coreceptor) for the same genus. But first, let's learn more about how genes are organized at NCBI.\n",
    "\n",
    "<img src=\"./images/elmo_done1.png\" alt=\"done1\" style=\"width: 500px;\" />"
   ]
  }
 ],
 "metadata": {
  "kernelspec": {
   "display_name": "Python 3 (ipykernel)",
   "language": "python",
   "name": "python3"
  },
  "language_info": {
   "codemirror_mode": {
    "name": "ipython",
    "version": 3
   },
   "file_extension": ".py",
   "mimetype": "text/x-python",
   "name": "python",
   "nbconvert_exporter": "python",
   "pygments_lexer": "ipython3",
   "version": "3.9.9"
  }
 },
 "nbformat": 4,
 "nbformat_minor": 5
}
