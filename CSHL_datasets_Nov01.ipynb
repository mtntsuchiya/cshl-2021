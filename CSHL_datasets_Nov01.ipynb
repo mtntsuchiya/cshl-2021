{
 "cells": [
  {
   "cell_type": "markdown",
   "id": "a17a866f",
   "metadata": {},
   "source": [
    "# NCBI Datasets - CSHL (11/02/2021)"
   ]
  },
  {
   "cell_type": "markdown",
   "id": "26f69883",
   "metadata": {},
   "source": [
    "### Table of contents\n",
    "* [Part I: Accessing genomes](#Part-I)\n",
    "* [Part II: Accessing genes](#Part-II)\n",
    "* [Part III: Accessing orthologs](#Part-III)\n",
    "* [Part IV: Building a BLAST database and creating a phylogenetic tree](#Part-IV)\n",
    "* [Part V: Downloading large datasets (dehydration/rehydration) and `dataformat`](#Part-V)"
   ]
  },
  {
   "cell_type": "markdown",
   "id": "3c2018eb",
   "metadata": {},
   "source": [
    "### Important resources\n",
    "- Etherpad: https://etherpad.wikimedia.org/p/CSHL_Datasets_Workshop_2021\n",
    "- Github: https://github.com/ncbi/datasets/tree/workshop-cshl-2021/training/cshl-2021\n",
    "- NCBI datasets: https://www.ncbi.nlm.nih.gov/datasets/\n",
    "- jq cheat sheet: https://github.com/ncbi/datasets/blob/workshop-cshl-2021/training/cshl-2021/jq_cheatsheet.md"
   ]
  },
  {
   "cell_type": "markdown",
   "id": "ec6eeabe",
   "metadata": {},
   "source": [
    "## Before we start... What is a jupyter notebook?\n",
    "\n",
    "Jupyter Notebooks are a web-based approach to interactive code. A single notebook (the file you are currently reading) is composed of many \"cells\" which can contain either text, or code. To navigate between cells, either click, or use the arrow keys on your keyboard.\n",
    "\n",
    "A text cell will look like... well... this! While a code cell will look something like what you see below. To run the code inside a code cell, click on it, then click the \"Run\" button at the top of the screen. Try it on the code cell below!"
   ]
  },
  {
   "cell_type": "code",
   "execution_count": null,
   "id": "c93b68fd",
   "metadata": {},
   "outputs": [],
   "source": [
    "#This is a code cell\n",
    "print('You ran the code cell!')"
   ]
  },
  {
   "cell_type": "markdown",
   "id": "9bea448c",
   "metadata": {},
   "source": [
    "If it worked, you should have seen text pop up underneath the cell saying `You ran the code cell!`. Note the `In [1]:` that appeared next to the cell. This tells you the order you have run code cells throughout the notebook. The next time you run a code cell, it will say `In [2]:`, then `In [3]:` and so on... This will help you know if/when code has been run.\n",
    "\n",
    "The remainder of the notebook below has been pre-built by the workshop organizer. You will not need to create any new cells, and you will be explicitly told if/when to execute a code cell.\n",
    "\n",
    "The code in this workshop is either Bash (i.e., terminal commands) or Python. Bash commands are prefixed with `!` or the cells have the notation `%%bash` at the top., while Python commands are not. If you are not familiar with code, don't feel pressured to interpret it very deeply. Descriptions of each code block will be provided!\n",
    "\n",
    "(Jupyter Notebook explanation by Cooper Park at the workshop on [Finding and Analyzing Metagenomic Data](https://www.nlm.nih.gov/oet/ed/ncbi/2021_10_meta.html))"
   ]
  },
  {
   "cell_type": "markdown",
   "id": "b8805d73",
   "metadata": {},
   "source": [
    "## Case study: Elmo loves ants\n",
    "\n",
    "Elmo is a graduate student at the Via Sesamum University. As part of his Ph.D. project, he studies Panamanian leaf cutter ants (genus *Acromyrmex*, family Formicidae) and how variation in the gene *orco* (**o**dorant **r**eceptor **co**receptor) affects the colonies of this genus.\n",
    "\n",
    "(here's the [link](https://www.ncbi.nlm.nih.gov/labs/pmc/articles/PMC5556950/) to a cool paper talking about this gene in ants of the species *Ooceraea biroi*).\n",
    "\n",
    "<img src=\"./images/ants.png\" alt=\"image\"/>"
   ]
  },
  {
   "cell_type": "markdown",
   "id": "fb672e02",
   "metadata": {},
   "source": [
    "Elmo will use `datasets` to help him gather the existing genomic resources from NCBI. He will:\n",
    "\n",
    "- download all available genomes for the genus *Acromyrmex*\n",
    "- download the *orco* gene from the *Acromyrmex* reference genome\n",
    "- download the ortholog set for this gene for all ants (Formicidae)\n",
    "\n",
    "In addition, he will also do the following tasks:\n",
    "- Create a custom BLAST database with the Panamanian leaf cutter ants genomes \n",
    "- BLAST the gene *orco* against the database\n",
    "- Multiple sequence alignment of the BLAST results and the ortholog gene sequences\n",
    "- Build a phylogenetic tree using fastTree\n"
   ]
  },
  {
   "cell_type": "markdown",
   "id": "8b785d5b",
   "metadata": {},
   "source": [
    "### How is `datasets` organized?\n",
    "\n",
    "[NCBI datasets](https://www.ncbi.nlm.nih.gov/datasets/docs/v1/quickstarts/command-line-tools/) is a command line tool that allows users to download data packages (data + metadata) or look at metadata summaries for genomes, RefSeq annotated genes, curated ortholog sets and SARS-Cov-2 virus sequences and proteins. The program follows a hierarchy that makes it easier for users to select exact which options they would like to use. In addition to the program commands, additional flags are available for filtering the results. We will go over those during this tutorial.\n",
    "<img src=\"./images/datasets_horizontal.drawio.png\" alt=\"datasets\" style=\"width: 600px;\"/>"
   ]
  },
  {
   "cell_type": "markdown",
   "id": "54d048ca",
   "metadata": {},
   "source": [
    "In addition to `datasets`, we will be using `jq` (JSON parser) to take a look at the metadata information. Our metadata reports are almost all in JSON or [JSON Lines](https://jsonlines.org/) format. We put together a [jq cheat sheet]( https://github.com/ncbi/datasets/blob/workshop-cshl-2021/training/cshl-2021/jq_cheatsheet.md) to help you extract information from those files.  "
   ]
  },
  {
   "cell_type": "markdown",
   "id": "75ad66b3",
   "metadata": {},
   "source": [
    "## Part I: Accessing genomes<a class=\"anchor\" id=\"Part-I\"></a>"
   ]
  },
  {
   "cell_type": "markdown",
   "id": "c5509425",
   "metadata": {},
   "source": [
    "![workflow](./images/elmo_workflow.drawio.png)"
   ]
  },
  {
   "cell_type": "markdown",
   "id": "b29b46e2",
   "metadata": {},
   "source": [
    "First, let's figure out what kind of genome information NCBI has for ants (family Formicidae)."
   ]
  },
  {
   "cell_type": "markdown",
   "id": "b1c78dcf",
   "metadata": {},
   "source": [
    "<img src=\"./images/genome_summary.drawio.png\" style=\"width: 600px;\"/>"
   ]
  },
  {
   "cell_type": "code",
   "execution_count": null,
   "id": "076161ca",
   "metadata": {},
   "outputs": [],
   "source": [
    "%%bash\n",
    "# Get metadata info\n",
    "datasets summary genome taxon formicidae"
   ]
  },
  {
   "cell_type": "code",
   "execution_count": null,
   "id": "9f1c4ea3",
   "metadata": {},
   "outputs": [],
   "source": [
    "%%bash\n",
    "# Get metadata info and save to a file\n",
    "datasets summary genome taxon formicidae > formicidae_summary.json"
   ]
  },
  {
   "cell_type": "markdown",
   "id": "dd676b9b",
   "metadata": {},
   "source": [
    "**Now let's take a look at the metadata using jq**"
   ]
  },
  {
   "cell_type": "code",
   "execution_count": null,
   "id": "4206d799",
   "metadata": {},
   "outputs": [],
   "source": [
    "%%bash\n",
    "datasets summary genome taxon formicidae | jq ."
   ]
  },
  {
   "cell_type": "markdown",
   "id": "0c98b353",
   "metadata": {},
   "source": [
    "### A little bit more about json files\n",
    "A JSON (JavaScript Object Notation) file stores data structures and objects. In a very simplified (and non-technical) way, a JSON file is a box, that might contain other boxes with more boxes inside. In `datasets summary genome` our JSON \"box\" is organized like this:\n",
    "<img src=\"./images/json8.png\" alt=\"image\"/>"
   ]
  },
  {
   "cell_type": "markdown",
   "id": "bec22061",
   "metadata": {},
   "source": [
    "But let's explore the \"boxes\" in stages, so we can understand how everything is organized and how we can use this knowledge to extract information from the summary metadata file. At the first level, we have this: \n",
    "```\n",
    "{\n",
    " assemblies[\n",
    "      assembly{},\n",
    "      assembly{},\n",
    " ],\n",
    " total_count\n",
    "}\n",
    "```\n",
    "<img src=\"./images/json1.png\" />"
   ]
  },
  {
   "cell_type": "markdown",
   "id": "df8dc57c",
   "metadata": {},
   "source": [
    "If we want to look at the value in the field \"total_count\", here's the command we would use:"
   ]
  },
  {
   "cell_type": "code",
   "execution_count": null,
   "id": "16dcb31e",
   "metadata": {},
   "outputs": [],
   "source": [
    "%%bash\n",
    "datasets summary genome taxon herpestidae | jq '.total_count'"
   ]
  },
  {
   "cell_type": "markdown",
   "id": "648dbd10",
   "metadata": {},
   "source": [
    "If we continue to expand each one of those assembly boxes, more levels of the hierarchy will be revealed. Let's expand each assembly and look at what information we can find at that level.  \n",
    "\n",
    "<img src=\"./images/json2a.png\" alt=\"image\"/>"
   ]
  },
  {
   "cell_type": "markdown",
   "id": "3332c595",
   "metadata": {},
   "source": [
    "Here we can see that some of the assembly information, such as assembly accession number, contig N50 or submission date are not included inside any of the available \"boxes\" (annotation_metadata, chromosomes, bioproject_lineage, and org). Those fields describe assembly features/characteristics that pertain to the entire assembly, and not only any of those boxes available. What are the contig n50 values of those assemblies?\n",
    "\n",
    "To retrieve that information, we need to call each box, starting from the largest one, until the field we're interested in. And each level is separated from the next by a period (.). \n",
    "\n",
    "<img src=\"./images/json3.png\" />"
   ]
  },
  {
   "cell_type": "code",
   "execution_count": null,
   "id": "bf818971",
   "metadata": {},
   "outputs": [],
   "source": [
    "%%bash\n",
    "datasets summary genome taxon herpestidae | jq '.assemblies[].assembly.contig_n50'"
   ]
  },
  {
   "cell_type": "markdown",
   "id": "c4998eb9",
   "metadata": {},
   "source": [
    "Now let's see what we have inside `annotation_metadata`, `bioproject_lineages`, `org` and `chromosomes`. \n",
    "<img src=\"./images/json8.png\" alt=\"image\"/>"
   ]
  },
  {
   "cell_type": "markdown",
   "id": "e4d84d63",
   "metadata": {},
   "source": [
    "Now let's see how we can retrieve the scientific names associated with those assemblies.\n",
    "<img src=\"./images/json4.png\" />"
   ]
  },
  {
   "cell_type": "code",
   "execution_count": null,
   "id": "d4e19c50",
   "metadata": {},
   "outputs": [],
   "source": [
    "%%bash\n",
    "datasets summary genome taxon herpestidae | jq '.assemblies[].assembly.org.sci_name'"
   ]
  },
  {
   "cell_type": "markdown",
   "id": "7cb3fd67",
   "metadata": {},
   "source": [
    "As you can see, `jq` is very useful in retrieving information from the summary metadata *as long as* you know the path to find it. Let's try a few more complex examples.\n",
    "<img src=\"./images/json5.png\" />"
   ]
  },
  {
   "cell_type": "markdown",
   "id": "5a7bb1f1",
   "metadata": {},
   "source": [
    "First, let's retrieve information from three fields at the same time: scientific name (`sci_name`), assembly accession number (`assembly_accession`) and contig N50 (`contig_n50`)."
   ]
  },
  {
   "cell_type": "code",
   "execution_count": null,
   "id": "0804f4ca",
   "metadata": {},
   "outputs": [],
   "source": [
    "%%bash\n",
    "datasets summary genome taxon herpestidae | jq '.assemblies[].assembly | (.org.sci_name, .assembly_accession, .contig_n50)'"
   ]
  },
  {
   "cell_type": "markdown",
   "id": "d98060ff",
   "metadata": {},
   "source": [
    "Since all three fields are inside the `.assemblies[].assembly`, we can call the first part of the path once and use a pipe (|) to call each specific field. \n",
    "Now let's try to make this a little easier to read. We can create new fields and assign values to them, like this:"
   ]
  },
  {
   "cell_type": "code",
   "execution_count": null,
   "id": "2237df0b",
   "metadata": {},
   "outputs": [],
   "source": [
    "%%bash\n",
    "datasets summary genome taxon herpestidae | jq '.assemblies[].assembly \n",
    "| {species: .org.sci_name, accession: .assembly_accession, contigN50:.contig_n50}'"
   ]
  },
  {
   "cell_type": "markdown",
   "id": "7a6fe95c",
   "metadata": {},
   "source": [
    "**Last one**: let's look at a larger collection of genome assemblies (let's say, all Carnivora) and select only those assemblies with contig N50 larger than 15 Mb (15000000 bp). `datasets` provides many options for filtering, but there is no built-in filter for contig N50 size.  \n",
    "\n",
    "Here's what we want to see: assembly accession number, species and assembly level for those genomes with contig N50 above 15 Mb."
   ]
  },
  {
   "cell_type": "code",
   "execution_count": null,
   "id": "3f2a71f4",
   "metadata": {},
   "outputs": [],
   "source": [
    "%%bash\n",
    "datasets summary genome taxon carnivora | jq -r '.assemblies[].assembly \n",
    "| select(.contig_n50 > 15000000) \n",
    "| [.assembly_accession, .org.sci_name, .assembly_level] \n",
    "| @tsv'"
   ]
  },
  {
   "cell_type": "markdown",
   "id": "64bd7499",
   "metadata": {},
   "source": [
    "**RESOURCE:**  \n",
    "We included a list of all fields in the genome summary in our [jq cheatsheet](https://github.com/ncbi/datasets/blob/workshop-cshl-2021/training/cshl-2021/jq_cheatsheet.md) to help you extract the information you need. And we will show you now how to do that. "
   ]
  },
  {
   "cell_type": "markdown",
   "id": "2f550f75",
   "metadata": {},
   "source": [
    "### Let's continue to explore the available genomes for the family Formicidae\n",
    "\n",
    "<img src=\"./images/genome_summary.drawio.png\" alt=\"summary\" style=\"width: 600px\"/>"
   ]
  },
  {
   "cell_type": "markdown",
   "id": "87806b8c",
   "metadata": {},
   "source": [
    "For this part, we will use two UNIX commands: `sort` and `uniq`. \n",
    "\n",
    "- `sort` can be used to sort text files line by line, numerically and alphabetically.   \n",
    "- `uniq` will filter out the repeated lines in a file. However, `uniq` can only detect repeated lines if they are adjacent to each other. In other words, if they are alphabetically or numerically sorted. The flag `-c` or `--count` tells the command `uniq` to remove the repeated lines, and to count how many times each value appeared. \n",
    "\n",
    "So, we will use `jq` to extract the information we need, sort the result and count the number of unique entries."
   ]
  },
  {
   "cell_type": "code",
   "execution_count": null,
   "id": "b2c1912d",
   "metadata": {},
   "outputs": [],
   "source": [
    "%%bash\n",
    "# For which species does NCBI have genomes in its database? How many per species?\n",
    "\n",
    "datasets summary genome taxon formicidae | jq '.assemblies[].assembly.org.sci_name' | sort | uniq -c"
   ]
  },
  {
   "cell_type": "code",
   "execution_count": null,
   "id": "6c953fbd",
   "metadata": {},
   "outputs": [],
   "source": [
    "%%bash\n",
    "# What is the assembly level (contig, scaffold, chromosome, complete) breakdown?\n",
    "\n",
    "datasets summary genome taxon formicidae | jq '.assemblies[].assembly.assembly_level' | sort | uniq -c"
   ]
  },
  {
   "cell_type": "markdown",
   "id": "ed84aedf",
   "metadata": {},
   "source": [
    "### How to get help when using the command line\n",
    "\n",
    "Since `datasets` is a very hierarchical program, we can use that characteristic to our advantage to get very specific help.   For example: if we type `datasets --help`, we will see the first level of commands available.\n"
   ]
  },
  {
   "cell_type": "code",
   "execution_count": null,
   "id": "d219e750",
   "metadata": {},
   "outputs": [],
   "source": [
    "%%bash\n",
    "datasets --help"
   ]
  },
  {
   "cell_type": "markdown",
   "id": "db05f935",
   "metadata": {},
   "source": [
    "Notice the difference from when we type `datasets summary genome taxon formicidae --help`  \n"
   ]
  },
  {
   "cell_type": "code",
   "execution_count": null,
   "id": "a09930dd",
   "metadata": {},
   "outputs": [],
   "source": [
    "%%bash\n",
    "datasets summary genome taxon formicidae --help"
   ]
  },
  {
   "cell_type": "markdown",
   "id": "598672be",
   "metadata": {},
   "source": [
    "### Exercises\n",
    "\n",
    "Now we will practice what we learned about `datasets`. Take a look at the questions below and feel free to ask questions. Useful resources for this exercise are the `--help` from the command line and the [jq cheatsheet](). \n"
   ]
  },
  {
   "cell_type": "code",
   "execution_count": null,
   "id": "7c88ac9b",
   "metadata": {},
   "outputs": [],
   "source": [
    "%%bash\n",
    "# How many reference genomes in the family Formicidae? (hint --reference)\n",
    "\n"
   ]
  },
  {
   "cell_type": "code",
   "execution_count": null,
   "id": "e5632797",
   "metadata": {},
   "outputs": [],
   "source": [
    "%%bash\n",
    "# How many reference genomes are annotated? (hint: --annotated)\n",
    "\n"
   ]
  },
  {
   "cell_type": "code",
   "execution_count": null,
   "id": "462d4858",
   "metadata": {},
   "outputs": [],
   "source": [
    "%%bash\n",
    "# How many genomes have NCBI (RefSeq) annotations? (hint: --assembly-source)\n",
    "\n"
   ]
  },
  {
   "cell_type": "markdown",
   "id": "507517eb",
   "metadata": {},
   "source": [
    "### Bonus questions:"
   ]
  },
  {
   "cell_type": "code",
   "execution_count": null,
   "id": "b74655c4",
   "metadata": {},
   "outputs": [],
   "source": [
    "%%bash\n",
    "## Take a look at the jq cheat sheet (link here) and try to build a jq query for the metadata\n",
    "\n"
   ]
  },
  {
   "cell_type": "code",
   "execution_count": null,
   "id": "c114d6ee",
   "metadata": {},
   "outputs": [],
   "source": [
    "%%bash\n",
    "# Now look at the summary metadata for your organism of interest \n",
    "# (if you don't have a favorite, go with red panda, Ailurus fulgens, taxid: 9649)\n",
    "\n"
   ]
  },
  {
   "cell_type": "code",
   "execution_count": null,
   "id": "62ff1beb",
   "metadata": {},
   "outputs": [],
   "source": [
    "%%bash\n",
    "# How many genomes?\n",
    "\n"
   ]
  },
  {
   "cell_type": "code",
   "execution_count": null,
   "id": "308bd3d3",
   "metadata": {},
   "outputs": [],
   "source": [
    "%%bash\n",
    "# Assembly level breakdown\n",
    "\n"
   ]
  },
  {
   "cell_type": "code",
   "execution_count": null,
   "id": "9bf4dbee",
   "metadata": {},
   "outputs": [],
   "source": [
    "%%bash\n",
    "# How many genomes have a contig N50 value above 15Mb?\n",
    "\n"
   ]
  },
  {
   "cell_type": "markdown",
   "id": "6c3bdb20",
   "metadata": {},
   "source": [
    "### Back to the main room\n"
   ]
  },
  {
   "cell_type": "markdown",
   "id": "6b9ce67e",
   "metadata": {},
   "source": [
    "### What is the difference/relationship between Genbank, RefSeq and Reference assemblies?\n",
    "\n",
    "<img src=\"./images/gca_gcf.png\" alt=\"ref\" />"
   ]
  },
  {
   "cell_type": "markdown",
   "id": "d66b33f7",
   "metadata": {},
   "source": [
    "### Data package\n",
    "\n",
    "We explored the `datasets summary` option, in which we had a chance to look at the summary metadata ***without*** downloading any files. In the next steps, we will look at the data packages, which contain the actual data files. \n",
    "\n",
    "<img src=\"./images/genome_data_package.png\" alt=\"data_package\" />"
   ]
  },
  {
   "cell_type": "code",
   "execution_count": null,
   "id": "fa1fd70d",
   "metadata": {},
   "outputs": [],
   "source": [
    "%%bash\n",
    "# Download all available GenBank assemblies for the genus Acromyrmex and save as genomes.zip\n",
    "datasets download genome taxon acromyrmex --assembly-source genbank --filename genomes.zip --no-progressbar"
   ]
  },
  {
   "cell_type": "code",
   "execution_count": null,
   "id": "5f57b5e8",
   "metadata": {},
   "outputs": [],
   "source": [
    "%%bash\n",
    "# Unzip genomes.zip to the folder genomes\n",
    "unzip genomes.zip -d genomes"
   ]
  },
  {
   "cell_type": "code",
   "execution_count": null,
   "id": "f3337168",
   "metadata": {},
   "outputs": [],
   "source": [
    "%%bash\n",
    "# Explore the folder structure of the folder genome with the command tree\n",
    "tree -C genomes/"
   ]
  },
  {
   "cell_type": "markdown",
   "id": "77a0fe05",
   "metadata": {},
   "source": [
    "### Let's recap our goals\n",
    "\n",
    "We used `datasets` to download all the Genbank assemblies for the genus *Acromyrmex*. The next step is to download the gene *orco* (odorance receptor coreceptor) for the same genus. But first, let's learn more about how genes are organized at NCBI.\n",
    "\n",
    "<img src=\"./images/elmo_done1.png\" alt=\"done1\" style=\"width: 500px;\" />"
   ]
  },
  {
   "cell_type": "markdown",
   "id": "92c031a1",
   "metadata": {},
   "source": [
    "## Part II: Accessing genes <a class=\"anchor\" id=\"Part-II\"></a>\n",
    "### GENES\n",
    "\n",
    "Independent of choosing `datasets download` or `datasets summary`, there are three options for retrieving gene information:\n",
    "- accession\n",
    "- gene-id\n",
    "- symbol\n",
    "\n",
    "<img src=\"./images/genes_op2.png\" style=\"width: 800px;\"/>\n"
   ]
  },
  {
   "cell_type": "markdown",
   "id": "5b4d055b",
   "metadata": {},
   "source": [
    "When choosing any of those three options, you will retrieve the gene information for the **reference** taxon. Like this:\n",
    "\n",
    "`datasets download gene accession XR_002738142.1`  \n",
    "`datasets download gene gene-id 101081937`  \n",
    "`datasets download gene symbol BRCA1 --taxon cat`  \n",
    "\n",
    "All three commands will download the same gene from the cat (<i>Felis catus</i>) <u>reference genome</u>. \n",
    "\n",
    "#### accession\n",
    "Unique identifier. Accession includes RefSeq RNA and protein accessions. Since it's unique, taxon is implied (aka there will never be two sequences from different taxa with the same accession number).  \n",
    "\n",
    "#### gene-id\n",
    "Also a unique identifier. Every RefSeq genome annotated has a unique set of identifiers. For example: the gene-id for BRCA1 in human is 672, while in cat is 101081937.  \n",
    "\n",
    "#### symbol\n",
    "Differently from accession and gene-id, gene symbol is not unique and means different things in different taxonomic groups. If using the symbol option, you should specify the species. The default option is human.\n",
    "\n",
    "**Remember**: both `summary` and `download` will return results for the **reference assembly** of a <u>single species</u>. If you want to download a curated set of the same gene for multiple taxa, you should use the option `ortholog`. We'll talk more about it later. For reference, here's the JSON organization of the gene summary metadata.  \n",
    "\n",
    "<img src=\"./images/gene_json.drawio.png\" />\n",
    "\n",
    "Now let's take a look at a gene example:"
   ]
  },
  {
   "cell_type": "code",
   "execution_count": null,
   "id": "6e2b6fe8",
   "metadata": {},
   "outputs": [],
   "source": [
    "%%bash\n",
    "#Example: IFNG in human\n",
    "datasets summary gene symbol ifng | jq -C .\n"
   ]
  },
  {
   "cell_type": "code",
   "execution_count": null,
   "id": "e748073a",
   "metadata": {},
   "outputs": [],
   "source": [
    "%%bash\n",
    "# how datasets deals with synonyms\n",
    "datasets summary gene symbol IFG | jq -C -r '.genes[].gene | {species: .taxname, symbol: .symbol, synonyms:.synonyms}'\n"
   ]
  },
  {
   "cell_type": "code",
   "execution_count": null,
   "id": "94d1bdbf",
   "metadata": {},
   "outputs": [],
   "source": [
    "%%bash\n",
    "#Example: IFNG in cat\n",
    "datasets summary gene symbol ifng --taxon \"felis catus\"\n"
   ]
  },
  {
   "cell_type": "markdown",
   "id": "1d69331f",
   "metadata": {},
   "source": [
    "### Back to ants\n",
    "We will download the gene *orco* for the species *Acromyrmex echinatior*. We will use the gene-id 105147775 instead of the symbol because no informative gene symbol has been assigned for this gene.  "
   ]
  },
  {
   "cell_type": "code",
   "execution_count": null,
   "id": "0d5bb16e",
   "metadata": {},
   "outputs": [],
   "source": [
    "%%bash\n",
    "# Using gene-id to retrieve gene information\n",
    "datasets summary gene gene-id 105147775 | jq -C '.genes[].gene \n",
    "| {gene_description: .description, gene_id: .gene_id, symbol: .symbol, species: .taxname}'"
   ]
  },
  {
   "cell_type": "code",
   "execution_count": null,
   "id": "91058e44",
   "metadata": {},
   "outputs": [],
   "source": [
    "%%bash\n",
    "# if we try to retrieve metadata information for this gene using the symbol orco, what happens?\n",
    "datasets summary gene symbol orco --taxon \"acromyrmex echinatior\"\n"
   ]
  },
  {
   "cell_type": "code",
   "execution_count": null,
   "id": "e08b9763",
   "metadata": {},
   "outputs": [],
   "source": [
    "%%bash\n",
    "# Download the gene data package for the gene-id 105147775 (*orco* in Acromyrmex echinatior)\n",
    "datasets download gene gene-id 105147775 --filename gene.zip --no-progressbar\n"
   ]
  },
  {
   "cell_type": "code",
   "execution_count": null,
   "id": "32ff018d",
   "metadata": {},
   "outputs": [],
   "source": [
    "%%bash\n",
    "#Unzip the file\n",
    "unzip gene.zip -d gene"
   ]
  },
  {
   "cell_type": "code",
   "execution_count": null,
   "id": "9ab71ee8",
   "metadata": {},
   "outputs": [],
   "source": [
    "%%bash\n",
    "#Explore the data package structure using tree\n",
    "tree gene"
   ]
  },
  {
   "cell_type": "markdown",
   "id": "970bc941",
   "metadata": {},
   "source": [
    "Now we are going to take advantage of the fact that we are using a Jupyter Notebook and use the package `pandas` to look at the gene data table"
   ]
  },
  {
   "cell_type": "code",
   "execution_count": null,
   "id": "255253a9",
   "metadata": {},
   "outputs": [],
   "source": [
    "import pandas as pd                                                        #load pandas to this notebook\n",
    "gene_orco = pd.read_csv('gene/ncbi_dataset/data/data_table.tsv', sep='\\t') #use pandas to import the data_table.tsv\n",
    "gene_orco                                                                  #visualize the data table as the object gene_orco"
   ]
  },
  {
   "cell_type": "markdown",
   "id": "af8f7dde",
   "metadata": {},
   "source": [
    "### Exercises\n",
    "\n",
    "1. Look for the summary data for a gene of interest (check the [etherpad](https://etherpad.wikimedia.org/p/CSHL_Datasets_Workshop_2021) for suggestions)\n",
    "2. What is the gene location?\n",
    "3. What is the gene range?\n",
    "4. Now, download a list of gene symbols using the file genes.txt (provided). Save it as gene_list.zip\n",
    "5. Unzip gene_list.zip and explore the folder structure\n",
    "6. How many fasta files are there?"
   ]
  },
  {
   "cell_type": "code",
   "execution_count": null,
   "id": "a4250b69",
   "metadata": {},
   "outputs": [],
   "source": [
    "%%bash\n",
    "# Summary data\n",
    "\n"
   ]
  },
  {
   "cell_type": "code",
   "execution_count": null,
   "id": "60d2f31e",
   "metadata": {},
   "outputs": [],
   "source": [
    "%%bash\n",
    "# Gene location\n",
    "\n"
   ]
  },
  {
   "cell_type": "code",
   "execution_count": null,
   "id": "a2d483de",
   "metadata": {},
   "outputs": [],
   "source": [
    "%%bash\n",
    "# Gene range\n",
    "\n"
   ]
  },
  {
   "cell_type": "code",
   "execution_count": null,
   "id": "0ed6c85b",
   "metadata": {},
   "outputs": [],
   "source": [
    "%%bash\n",
    "# Download a list of genes and save the data package as gene_list.zip (--filename gene_list.zip)\n"
   ]
  },
  {
   "cell_type": "code",
   "execution_count": null,
   "id": "bfa13ee9",
   "metadata": {},
   "outputs": [],
   "source": [
    "%%bash\n",
    "# Explore the folder structure\n",
    "\n"
   ]
  },
  {
   "cell_type": "code",
   "execution_count": null,
   "id": "cde5b036",
   "metadata": {},
   "outputs": [],
   "source": [
    "%%bash\n",
    "# How many genes were downloaded?\n",
    "\n"
   ]
  },
  {
   "cell_type": "code",
   "execution_count": null,
   "id": "f4dfb0a2",
   "metadata": {},
   "outputs": [],
   "source": [
    "%%bash\n",
    "# How many fasta files in the data package?\n",
    "\n"
   ]
  },
  {
   "cell_type": "markdown",
   "id": "c908cc8b",
   "metadata": {},
   "source": [
    "## Part III: Accessing orthologs <a class=\"anchor\" id=\"Part-III\"></a>\n",
    "\n",
    "### Orthologs\n",
    "\n",
    "The options to retrieve ortholog sets are the same as those for genes. We'll go over the differences when using each option:\n",
    "\n",
    "- accession\n",
    "- gene-id\n",
    "- symbol\n",
    "\n",
    "<img src=\"./images/ortholog.png\" style=\"width: 800px;\" />\n",
    "\n",
    "When choosing any of those three options, you will download the **full ortholog set** to which they belong (unless you use additional filtering. We'll cover it below). Like this:\n",
    "\n",
    "`datasets download ortholog accession XR_002738142.1`  \n",
    "`datasets download ortholog gene-id 101081937`  \n",
    "`datasets download ortholog symbol BRCA1 --taxon cat`  \n",
    "\n",
    "All three commands will download the **same** ortholog set. \n",
    "\n",
    "---\n",
    "\n",
    "#### <font color='blue'>Wait, but what is an ortholog set?</font>\n",
    "\n",
    ">An ortholog set, or ortholog gene group, is a group of sequences that have been identified by the NCBI genome annotation team as homologous genes related to each other by speciation events. They are identified by a combination of protein similarity + local syntheny information. \n",
    "Currently, NCBI has ortholog sets calculated for vertebrates and some insects. \n",
    "\n",
    "\n",
    "#### accession\n",
    "Unique identifier. Accession includes RefSeq accession RNA and protein sequences. Since it's unique, taxon is implied (aka there will never be two sequences from different taxa with the same accession number).\n",
    "\n",
    "#### gene-id\n",
    "Also an unique identifier. Every RefSeq genome annotated has a unique set of identifiers. For example: the gene-id for BRCA1 in human is 672, while in cat is 101081937. You can use either one (672 or 101081937) to get the same vertebrate BRCA1 ortholog set.\n",
    "\n",
    "#### symbol\n",
    "Differently from accession and gene-id, gene symbol is not unique and means different things in different taxonomic groups. For example: the P53 ortholog set in vertebrates is different from the insect set. If using the symbol option, you should specify the taxonomic group. The default option is human. Note that if you want ortholog sets from multiple vertebrate species, you might end up downloading the same ortholog set multiple times. Like this: \n",
    "\n",
    "`datasets download ortholog symbol brca1 --taxon cat`  \n",
    "`datasets download ortholog symbol brca1 --taxon chicken`  \n",
    "`datasets download ortholog symbol brca1 --taxon \"chelonia mydas\"`  \n",
    "\n",
    "If that's the case, how do you filter the ortholog set to include *only* your taxonomic group of interest?\n",
    "\n",
    "### Applying a taxonomic filter to the ortholog set\n",
    "\n",
    "For the orthologs, `datasets` provides the flag `--taxon-filter`, which allows the user to restrict the summary or download to one or multiple taxonomic groups.  `--taxon` and `--taxon-filter` have different effects on the data package/summary output. A few examples:\n",
    "\n",
    "- `datasets summary ortholog symbol brca1 --taxon-filter \"felis catus\"`  \n",
    "Prints a json metadata summary of the gene brca1 for the domestic cat. \n",
    "We did not specify a `--taxon` because the default is human, and Felidae and human are part of the same brca1 ortholog set.   \n",
    "\n",
    "  \n",
    "\n",
    "- `datasets summary ortholog symbol brca1 --taxon \"felis catus\"`  \n",
    "Even though this option looks almost the same as the one above, the result is *very different*. Here, we're asking `datasets` to find the ortholog set to which the gene brca1 in the domestic cat belongs. And `datasets` will download the <u>entire</u> ortholog set, not only the sequences for the domestic cat.\n",
    "\n",
    "\n",
    "- `datasets summary ortholog symbol brca1 --taxon \"felis catus\" --taxon-filter \"felis catus\"`  \n",
    "gives you the same result as `datasets summary ortholog symbol brca1 --taxon-filter \"felis catus\"`\n",
    "\n",
    "\n",
    "The summary metadata for orthologs is presented in JSON Lines, which means that each gene entry is in a different line. Here's the diagram to help you create queries.\n",
    "  \n",
    "<img src=\"./images/ortholog_jsonl.drawio.png\" />"
   ]
  },
  {
   "cell_type": "markdown",
   "id": "3673c066",
   "metadata": {},
   "source": [
    "#### We are going to do the following steps:\n",
    "- download the ortholog data package and save it with the name ortholog.zip\n",
    "- unzip it to the folder ortholog\n",
    "- look at the files\n",
    "\n",
    "Helpful info:\n",
    "\n",
    "- gene symbol: orco\n",
    "- gene-id in *Drosophila melanogaster*: 40650\n",
    "- gene-id in *Acromyrmer echinatior*: 105147775\n",
    "- target taxon: Formicidae"
   ]
  },
  {
   "cell_type": "code",
   "execution_count": null,
   "id": "4040acda",
   "metadata": {},
   "outputs": [],
   "source": [
    "%%bash\n",
    "# download the orco ortholog set for ants (Formicidae)\n",
    "datasets download ortholog gene-id 40650 --taxon-filter formicidae --filename ortholog.zip --no-progressbar\n"
   ]
  },
  {
   "cell_type": "code",
   "execution_count": null,
   "id": "c295a289",
   "metadata": {},
   "outputs": [],
   "source": [
    "%%bash\n",
    "# unzip it to the folder ortholog\n",
    "unzip ortholog.zip -d ortholog\n"
   ]
  },
  {
   "cell_type": "code",
   "execution_count": null,
   "id": "5f22996a",
   "metadata": {},
   "outputs": [],
   "source": [
    "%%bash\n",
    "#Explore the folder structure\n",
    "tree ortholog/\n"
   ]
  },
  {
   "cell_type": "code",
   "execution_count": null,
   "id": "edc2c564",
   "metadata": {},
   "outputs": [],
   "source": [
    "# Create an object called ortho_table using pandas\n",
    "ortho_table = pd.read_csv(\"ortholog/ncbi_dataset/data/data_table.tsv\", sep='\\t')\n",
    "ortho_table"
   ]
  },
  {
   "cell_type": "markdown",
   "id": "ad41374d",
   "metadata": {},
   "source": [
    "## What have we done so far?\n",
    "- Explored metadata for all ant genomes\n",
    "- Downloaded genomes for the panamanian leaf cutter ant\n",
    "- Downloaded the orco gene for Acromyrmex echinatior\n",
    "- Downloaded the ortholog set for all ants for the orco gene\n",
    "\n",
    "<img src=\"./images/elmo_done.png\" />"
   ]
  },
  {
   "cell_type": "markdown",
   "id": "8a89ad6f",
   "metadata": {},
   "source": [
    "## Part IV: Building a BLAST database and creating a phylogenetic tree<a class=\"anchor\" id=\"Part-IV\"></a>\n",
    "\n",
    "### Here's what we are showing you now:\n",
    "- BLAST:\n",
    "    - Create a BLAST database for each genome\n",
    "    - BLAST the *orco* gene sequence against the genomes database and extract the matching regions\n",
    "- multiple sequence alignment of the blast matches and the ortholog sequences\n",
    "- generate a approximate maximum likelihood tree using FastTree\n",
    "\n",
    "We'll add more detailed information about the commands we're using here to the GitHub page."
   ]
  },
  {
   "cell_type": "markdown",
   "id": "aca6900d",
   "metadata": {},
   "source": [
    "#### Extracting taxIDs from the genome data package\n",
    "\n",
    "First, let's use `dataformat` to extract the species names, taxID and assembly accession numbers from the genomes we downloaded. We will talk in more detail about `dataformat` later."
   ]
  },
  {
   "cell_type": "code",
   "execution_count": null,
   "id": "b1ce6599",
   "metadata": {},
   "outputs": [],
   "source": [
    "%%bash\n",
    "# Extract tax id for each species:\n",
    "dataformat tsv genome --fields organism-name,tax-id,assminfo-accession --package genomes.zip "
   ]
  },
  {
   "cell_type": "markdown",
   "id": "0c5e8357",
   "metadata": {},
   "source": [
    "#### Creating a BLAST database with taxonomy information.\n",
    "\n",
    "First we are going to create a folder called `blastdb` with the UNIX command `mkdir`. Next, we will change to the directory we just created. Finally, we will make a copy of the NCBI taxonomy database (taxdb)"
   ]
  },
  {
   "cell_type": "code",
   "execution_count": null,
   "id": "89044275",
   "metadata": {},
   "outputs": [],
   "source": [
    "# Create a folder called blastdb\n",
    "!mkdir blastdb\n",
    "\n",
    "# change directory to the folder blastdb\n",
    "%cd blastdb\n",
    "\n",
    "# download the NCBI Taxonomy Database (taxdb)\n",
    "!update_blastdb.pl taxdb"
   ]
  },
  {
   "cell_type": "markdown",
   "id": "6ec18669",
   "metadata": {},
   "source": [
    "#### BLAST database and search\n",
    "Now we will create a BLAST database with the *Acromyrmex* genomes we downloaded. More information about the commands is available on out GitHub page."
   ]
  },
  {
   "cell_type": "code",
   "execution_count": null,
   "id": "a15f18f5",
   "metadata": {},
   "outputs": [],
   "source": [
    "%%bash\n",
    "# Create a blast database for each genome\n",
    "makeblastdb -dbtype nucl -in ../genomes/ncbi_dataset/data/GCA_000204515.1/unplaced.scaf.fna -taxid 103372 -out Aechinatior\n",
    "makeblastdb -dbtype nucl -in ../genomes/ncbi_dataset/data/GCA_017607455.1/GCA_017607455.1_ASM1760745v1_genomic.fna -taxid 230686 -out Ainsinuator \n",
    "makeblastdb -dbtype nucl -in ../genomes/ncbi_dataset/data/GCA_017607545.1/GCA_017607545.1_ASM1760754v1_genomic.fna -taxid 2715315 -out Acharruanus\n",
    "makeblastdb -dbtype nucl -in ../genomes/ncbi_dataset/data/GCA_017607565.1/GCA_017607565.1_ASM1760756v1_genomic.fna -taxid 230685 -out Aheyeri\n",
    "\n",
    "# Create an alias under which the four genome databases can be called\n",
    "blastdb_aliastool -dbtype nucl -title acromyrmex -out acromyrmex -dblist \"Acharruanus Aechinatior Aheyeri Ainsinuator\"\n",
    "\n",
    "# BLASTN search\n",
    "blastn \\\n",
    "-db acromyrmex \\\n",
    "-query ../gene/ncbi_dataset/data/gene.fna \\\n",
    "-evalue 1e-50 \\\n",
    "-outfmt 11 \\\n",
    "-max_hsps 1 \\\n",
    "-out orco_acromyrmex_1e-50.asn\n",
    "\n",
    "# Covert the asn.1 output to tabular (output format 6)\n",
    "\n",
    "blast_formatter \\\n",
    "-archive orco_acromyrmex_1e-50.asn \\\n",
    "-outfmt '6 sseqid sstart send evalue length staxid ssciname' > orco_acromyrmex_1e-50.tsv"
   ]
  },
  {
   "cell_type": "markdown",
   "id": "4ec1c81f",
   "metadata": {},
   "source": [
    "Using `pandas` again, we will create an object with the tsv file we just created from the BLAST output, so we can take a look at our results."
   ]
  },
  {
   "cell_type": "code",
   "execution_count": null,
   "id": "ba539fd4",
   "metadata": {},
   "outputs": [],
   "source": [
    "# Create a table and visualize the BLAST results\n",
    "\n",
    "blast_table = pd.read_csv('orco_acromyrmex_1e-50.tsv', sep='\\t', header=None)\n",
    "blast_table"
   ]
  },
  {
   "cell_type": "markdown",
   "id": "ad0ead0a",
   "metadata": {},
   "source": [
    "#### Converting from BLAST to fasta\n",
    "\n",
    "Now we are going to use some \"tricks\" (not really, just some good old bash scripting) to extract fasta sequences from the BLAST output. For tthis task, we will be using `blast_formatter` again."
   ]
  },
  {
   "cell_type": "code",
   "execution_count": null,
   "id": "6b0fcd5b",
   "metadata": {},
   "outputs": [],
   "source": [
    "%%bash\n",
    "# Convert BLAST output to fasta\n",
    "\n",
    "blast_formatter \\\n",
    "-archive orco_acromyrmex_1e-50.asn \\\n",
    "-outfmt '6 ssciname sseqid sseq' \\\n",
    "-max_target_seqs 4 | awk 'BEGIN{FS=\"\\t\"; OFS=\"\\n\"}{gsub(/ /, \"_\", $1);gsub(/-/, \"\", $3); print \">\"$1\"_\"$2,$3}' > ../acromyrmex_orco.fasta\n"
   ]
  },
  {
   "cell_type": "markdown",
   "id": "2d7041a1",
   "metadata": {},
   "source": [
    "<img src=\"./images/elmo_blast_done.png\"/>"
   ]
  },
  {
   "cell_type": "markdown",
   "id": "de48261f",
   "metadata": {},
   "source": [
    "### VERY IMPORTANT!\n",
    "For the next steps, we need to go back to our home folder. Let's do it in steps again."
   ]
  },
  {
   "cell_type": "code",
   "execution_count": null,
   "id": "5e9fa8c8",
   "metadata": {},
   "outputs": [],
   "source": [
    "%%bash\n",
    "## Check where you are\n",
    "pwd"
   ]
  },
  {
   "cell_type": "code",
   "execution_count": null,
   "id": "d795c1c9",
   "metadata": {},
   "outputs": [],
   "source": [
    "## If you're not in the home folder, run this command:\n",
    "%cd .."
   ]
  },
  {
   "cell_type": "markdown",
   "id": "1fdf2d6a",
   "metadata": {},
   "source": [
    "### Multiple sequence alignment: BLAST matches + *orco* orthologs\n",
    "\n",
    "First, let's simplify the FASTA headers in the ortholog set."
   ]
  },
  {
   "cell_type": "code",
   "execution_count": null,
   "id": "2a0d770e",
   "metadata": {},
   "outputs": [],
   "source": [
    "%%bash\n",
    "# Extract the seqids from the gene ortholog fasta and remove the spaces\n",
    "grep \">\" ortholog/ncbi_dataset/data/gene.fna | sed 's/ /,/g' > ortholog_seqid.txt\n",
    "\n",
    "#Create a mapping file with the original name in the column 1 and a shortened name on column 2\n",
    "cat ortholog_seqid.txt | while read line; do\n",
    "new=$( echo $line | awk 'BEGIN {FS=\",\"; OFS=\"_\"}{gsub(/\\[organism\\=/, \"\", $3);gsub(/]/, \"\", $4);gsub(/\\[GeneID\\=|\\]/, \"\", $5)} ;{print substr($3,0,1)$4,$5}'); \n",
    "old=$( echo $line | sed 's/,/\\_/g;s/>//g')\n",
    "printf \"${old}\\t${new}\\n\" >> name_map.tsv; \n",
    "done\n",
    "\n",
    "#Copy the ortholog dataset fasta\n",
    "cp ortholog/ncbi_dataset/data/gene.fna ortholog_gene.fna\n",
    "\n",
    "#Remove spaces in the fasta sequnce names\n",
    "sed 's/ /_/g' ortholog_gene.fna > ortholog_gene_nospaces.fna\n",
    "\n",
    "#Replace the names in the fasta file\n",
    "cat ortholog_gene_nospaces.fna | seqkit replace \\\n",
    "--kv-file  <(cut -f 1,2 name_map.tsv) \\\n",
    "--pattern \"^(.*)\" --replacement \"{kv}\" > ortholog_gene_final.fna"
   ]
  },
  {
   "cell_type": "markdown",
   "id": "2fa2ed2f",
   "metadata": {},
   "source": [
    "### Multiple sequence alignment and phylogenetic reconstruction\n",
    "\n",
    "Now, let's concatenate the FASTA we extracted from the BLAST matches, align them using MAFFT and use FastTree to generate an approximate ML phylogeny."
   ]
  },
  {
   "cell_type": "code",
   "execution_count": null,
   "id": "006779c3",
   "metadata": {},
   "outputs": [],
   "source": [
    "%%bash\n",
    "\n",
    "#Concatenate sequences\n",
    "cat ortholog_gene_final.fna acromyrmex_orco.fasta > orco_all.fasta\n",
    "\n",
    "#align sequences with mafft\n",
    "mafft orco_all.fasta > orco_all_aln.fasta\n",
    "\n",
    "#Generate a phylogeny using fasttree\n",
    "FastTree -nt orco_all_aln.fasta > orco.tree"
   ]
  },
  {
   "cell_type": "markdown",
   "id": "5015f7d8",
   "metadata": {},
   "source": [
    "### Visualizing the tree"
   ]
  },
  {
   "cell_type": "code",
   "execution_count": null,
   "id": "0044312d",
   "metadata": {},
   "outputs": [],
   "source": [
    "# We will use the package toytree to look at the phylogenetic tree we just created\n",
    "\n",
    "import toytree\n",
    "orco_tree = toytree.tree(\"orco.tree\")\n",
    "orco_tree_rooted = orco_tree.root(names=[\"Obrunneus_116854080\",\"Dquadriceps_106748868\",\"Hsaltator_105183395\"])\n",
    "orco_tree_rooted.draw(tree_style='d')"
   ]
  },
  {
   "cell_type": "markdown",
   "id": "6c13030e",
   "metadata": {},
   "source": [
    "## Part V: Downloading large datasets (dehydration/rehydration) and `dataformat`<a class=\"anchor\" id=\"Part-V\"></a>"
   ]
  },
  {
   "cell_type": "markdown",
   "id": "f337e0d4",
   "metadata": {},
   "source": [
    "Now you learned how to download genomes, genes and ortholog gene sets from NCBI with one command using `datasets`. Now we want to show you another feature of `datasets` that allows you to download what we call a `dehydrated` package. Let's download a dehydrated package and explore the files inside it."
   ]
  },
  {
   "cell_type": "code",
   "execution_count": null,
   "id": "641aef51",
   "metadata": {},
   "outputs": [],
   "source": [
    "%%bash\n",
    "# Download a dehydrated data package for all acromyrmex GenBank genomes\n",
    "datasets download genome taxon acromyrmex --assembly-source genbank --dehydrated --filename acromyrmex-dry.zip --no-progressbar"
   ]
  },
  {
   "cell_type": "code",
   "execution_count": null,
   "id": "50a28140",
   "metadata": {},
   "outputs": [],
   "source": [
    "%%bash\n",
    "# Next we have to unzip the dehydrated package\n",
    "unzip acromyrmex-dry.zip -d acromyrmex-dry "
   ]
  },
  {
   "cell_type": "code",
   "execution_count": null,
   "id": "21ef31e6",
   "metadata": {},
   "outputs": [],
   "source": [
    "%%bash\n",
    "# Now let's use the command tree to look at the data package contents\n",
    "tree acromyrmex-dry/"
   ]
  },
  {
   "cell_type": "markdown",
   "id": "bdf17759",
   "metadata": {},
   "source": [
    "**What is difference between this folder (`acromyrmex-dry`) and the folder `genomes`?**   \n",
    "Let's use `tree` again to look at the contents of the folder genomes."
   ]
  },
  {
   "cell_type": "code",
   "execution_count": null,
   "id": "681ecb2f",
   "metadata": {},
   "outputs": [],
   "source": [
    "%%bash\n",
    "# Check the folder contents of genome\n",
    "tree genomes/"
   ]
  },
  {
   "cell_type": "markdown",
   "id": "7d0770b7",
   "metadata": {},
   "source": [
    "Both packages include the files `assembly_data_report.jsonl` and `dataset_catalog.json`, but the folder acromyrmex-dry has the file `fetch.txt` instead of the *actual* data. Let's take a look in this file."
   ]
  },
  {
   "cell_type": "code",
   "execution_count": null,
   "id": "468d7749",
   "metadata": {},
   "outputs": [],
   "source": [
    "# Inspect the file fetch.txt\n",
    "fetch = pd.read_csv('./acromyrmex-dry/ncbi_dataset/fetch.txt', sep='\\t', header=None)\n",
    "fetch"
   ]
  },
  {
   "cell_type": "markdown",
   "id": "19110c84",
   "metadata": {},
   "source": [
    "The file `fetch.txt` has a list of files to be \"fetched\" (downloaded) with their respective links. And they are the same files that were originally included in when we downloaded the genomes in the beginning of this notebook.  "
   ]
  },
  {
   "cell_type": "markdown",
   "id": "9cd8e6be",
   "metadata": {},
   "source": [
    "#### BUT WHY WOULD I WANT TO USE THIS OPTION?\n",
    "\n",
    "Some possibilities:\n",
    "- You are working with very large genomes and want to share the data with your collaborators. Instead of sending a massive data file, you can send a text file that they can use to download the same data you're working on.\n",
    "- Or maybe you hand selected some genomes for a project from the [NCBI Datasets website](https://www.ncbi.nlm.nih.gov/datasets/genomes/) and they don't follow a specific pattern that can be replicated. You can also download a dehydrated package from our website, share it and download everything you need later."
   ]
  },
  {
   "cell_type": "markdown",
   "id": "fb824fdf",
   "metadata": {},
   "source": [
    "### `dataformat`\n",
    "\n",
    "Now we are going to combine `datasets` with another tool called `dataformat`. `dataformat` allows you to extract metadata information from the JSON data report files included with all `datasets` data packages. You can use `dataformat` to:\n",
    "- Create a tab-delimited file (.tsv) or excel file with the fields you need\n",
    "- Quickly visualize the information on the screen\n",
    "\n",
    "`dataformat` currently can not be used with the output of `datasets summary`, only the JSON Lines data report included with the data package."
   ]
  },
  {
   "cell_type": "code",
   "execution_count": null,
   "id": "9d794025",
   "metadata": {},
   "outputs": [],
   "source": [
    "%%bash\n",
    "# Read the dataformat help menu. This is a great way to get a list of the available metadata fields.\n",
    "dataformat tsv genome -h"
   ]
  },
  {
   "cell_type": "markdown",
   "id": "8cb5aa3c",
   "metadata": {},
   "source": [
    "#### Now let's combine the features of `dataformat` and dehydration/rehydration to select which genomes to download."
   ]
  },
  {
   "cell_type": "markdown",
   "id": "ad8ea652",
   "metadata": {},
   "source": [
    "Let's use `dataformat` to look at the genome data package for ants. We can use this information to select a \"best\" genome - we'll pick one with the highest contigN50 value."
   ]
  },
  {
   "cell_type": "code",
   "execution_count": null,
   "id": "4074fd9c",
   "metadata": {},
   "outputs": [],
   "source": [
    "%%bash\n",
    "# Use dataformat to look at the genome data package for ants\n",
    "dataformat tsv genome \\\n",
    "--fields organism-name,assminfo-accession,assmstats-contig-n50,assminfo-level,assminfo-submission-date,assminfo-submitter \\\n",
    "--package acromyrmex-dry.zip"
   ]
  },
  {
   "cell_type": "code",
   "execution_count": null,
   "id": "58ce2486",
   "metadata": {},
   "outputs": [],
   "source": [
    "%%bash\n",
    "# Let's look at the help file for rehydrate\n",
    "datasets rehydrate -h"
   ]
  },
  {
   "cell_type": "code",
   "execution_count": null,
   "id": "973ffa9b",
   "metadata": {},
   "outputs": [],
   "source": [
    "%%bash\n",
    "# Let's get a list of files that are available for download \n",
    "datasets rehydrate --directory acromyrmex-dry/ --list"
   ]
  },
  {
   "cell_type": "code",
   "execution_count": null,
   "id": "2daf20e5",
   "metadata": {},
   "outputs": [],
   "source": [
    "%%bash\n",
    "# Let's only get the protein sequences for the genome with the highest contigN50 value\n",
    "datasets rehydrate --directory acromyrmex-dry/ --match GCA_000204515.1/protein.faa --no-progressbar"
   ]
  },
  {
   "cell_type": "code",
   "execution_count": null,
   "id": "c601a31b",
   "metadata": {},
   "outputs": [],
   "source": [
    "%%bash\n",
    "# Let's use tree to look at our folder acromyrmex-dry again\n",
    "tree acromyrmex-dry/"
   ]
  },
  {
   "cell_type": "markdown",
   "id": "a5f5f853",
   "metadata": {},
   "source": [
    "We can see that the file we requested ` GCA_000204515.1/protein.faa` was downloaded to the folder `acromyrmex-dry`"
   ]
  },
  {
   "cell_type": "code",
   "execution_count": null,
   "id": "ff56a582",
   "metadata": {},
   "outputs": [],
   "source": [
    "%%bash\n",
    "# Take a peek at the downloaded protein file\n",
    "cat acromyrmex-dry/ncbi_dataset/data/GCA_000204515.1/protein.faa | head"
   ]
  },
  {
   "cell_type": "markdown",
   "id": "7f69f702",
   "metadata": {},
   "source": [
    "## Exercise\n",
    "* Download a dehydrated package for all *Mycobacterium tuberculosis* genomes that meet all of the following criteria (hint: use flags)\n",
    "    1. submitted/released in 2021\n",
    "    2. annotated\n",
    "    3. assembly level of complete_genome\n",
    "* use dataformat to view the sequencing technology used for each of these genomes\n",
    "* use rehydrate to get the genome sequence for one genome generated using Oxford Nanopore"
   ]
  },
  {
   "cell_type": "code",
   "execution_count": null,
   "id": "1ca7bc51",
   "metadata": {},
   "outputs": [],
   "source": [
    "%%bash\n",
    "# Download a dehydrated genome data package\n",
    "\n"
   ]
  },
  {
   "cell_type": "code",
   "execution_count": null,
   "id": "94ca3308",
   "metadata": {},
   "outputs": [],
   "source": [
    "%%bash\n",
    "# Unzip the data package\n",
    "\n"
   ]
  },
  {
   "cell_type": "code",
   "execution_count": null,
   "id": "78bcf9f1",
   "metadata": {},
   "outputs": [],
   "source": [
    "%%bash\n",
    "# Use dataformat to generate a table that includes sequencing technology\n",
    "\n"
   ]
  },
  {
   "cell_type": "code",
   "execution_count": null,
   "id": "d3a4727d",
   "metadata": {},
   "outputs": [],
   "source": [
    "%%bash\n",
    "# Use rehydrate to get genome sequence generated using Oxford Nanopore\n",
    "\n"
   ]
  }
 ],
 "metadata": {
  "kernelspec": {
   "display_name": "Python 3 (ipykernel)",
   "language": "python",
   "name": "python3"
  },
  "language_info": {
   "codemirror_mode": {
    "name": "ipython",
    "version": 3
   },
   "file_extension": ".py",
   "mimetype": "text/x-python",
   "name": "python",
   "nbconvert_exporter": "python",
   "pygments_lexer": "ipython3",
   "version": "3.7.11"
  }
 },
 "nbformat": 4,
 "nbformat_minor": 5
}
