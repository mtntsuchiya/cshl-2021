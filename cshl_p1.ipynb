{
 "cells": [
  {
   "cell_type": "markdown",
   "id": "a17a866f",
   "metadata": {},
   "source": [
    "# NCBI Datasets - CSHL (11/02/2021)"
   ]
  },
  {
   "cell_type": "markdown",
   "id": "26f69883",
   "metadata": {},
   "source": [
    "### Table of contents\n",
    "* [Part I: Accessing genomes](#Part-I)\n",
    "* [Part II: Accessing genes](#Part-II)\n",
    "* [Part III: Accessing orthologs](#Part-III)\n",
    "* [Part IV: Building a BLAST database and creating a phylogenetic tree](#Part-IV)\n",
    "* [Part V: Downloading large datasets (dehydration/rehydration) and `dataformat`](#Part-V)"
   ]
  },
  {
   "cell_type": "markdown",
   "id": "3c2018eb",
   "metadata": {},
   "source": [
    "### Important resources\n",
    "- Etherpad: https://etherpad.wikimedia.org/p/CSHL_Datasets_Workshop_2021\n",
    "- Github: https://github.com/ncbi/datasets/tree/workshop-cshl-2021/training/cshl-2021\n",
    "- NCBI datasets: https://www.ncbi.nlm.nih.gov/datasets/\n",
    "- jq cheat sheet: https://github.com/ncbi/datasets/blob/workshop-cshl-2021/training/cshl-2021/jq_cheatsheet.md"
   ]
  },
  {
   "cell_type": "markdown",
   "id": "ec6eeabe",
   "metadata": {},
   "source": [
    "## Before we start... What is a jupyter notebook?\n",
    "\n",
    "Jupyter Notebooks are a web-based approach to interactive code. A single notebook (the file you are currently reading) is composed of many \"cells\" which can contain either text, or code. To navigate between cells, either click, or use the arrow keys on your keyboard.\n",
    "\n",
    "A text cell will look like... well... this! While a code cell will look something like what you see below. To run the code inside a code cell, click on it, then click the \"Run\" button at the top of the screen. Try it on the code cell below!"
   ]
  },
  {
   "cell_type": "code",
   "execution_count": 1,
   "id": "c93b68fd",
   "metadata": {},
   "outputs": [
    {
     "name": "stdout",
     "output_type": "stream",
     "text": [
      "You ran the code cell!\n"
     ]
    }
   ],
   "source": [
    "#This is a code cell\n",
    "print('You ran the code cell!')"
   ]
  },
  {
   "cell_type": "markdown",
   "id": "9bea448c",
   "metadata": {},
   "source": [
    "If it worked, you should have seen text pop up underneath the cell saying `You ran the code cell!`. Note the `In [1]:` that appeared next to the cell. This tells you the order you have run code cells throughout the notebook. The next time you run a code cell, it will say `In [2]:`, then `In [3]:` and so on... This will help you know if/when code has been run.\n",
    "\n",
    "The remainder of the notebook below has been pre-built by the workshop organizer. You will not need to create any new cells, and you will be explicitly told if/when to execute a code cell.\n",
    "\n",
    "The code in this workshop is either Bash (i.e., terminal commands) or Python. Bash commands are prefixed with `!` or the cells have the notation `%%bash` at the top., while Python commands are not. If you are not familiar with code, don't feel pressured to interpret it very deeply. Descriptions of each code block will be provided!\n",
    "\n",
    "(Jupyter Notebook explanation by Cooper Park at the workshop on [Finding and Analyzing Metagenomic Data](https://www.nlm.nih.gov/oet/ed/ncbi/2021_10_meta.html))"
   ]
  },
  {
   "cell_type": "markdown",
   "id": "b8805d73",
   "metadata": {},
   "source": [
    "## Case study: Elmo loves ants\n",
    "\n",
    "Elmo is a graduate student at the Via Sesamum University. As part of his Ph.D. project, he studies Panamanian leaf cutter ants (genus *Acromyrmex*, family Formicidae) and how variation in the gene *orco* (**o**dorant **r**eceptor **co**receptor) affects the colonies of this genus.\n",
    "\n",
    "(here's the [link](https://www.ncbi.nlm.nih.gov/labs/pmc/articles/PMC5556950/) to a cool paper talking about this gene in ants of the species *Ooceraea biroi*).\n",
    "\n",
    "<img src=\"./images/ants.png\" alt=\"image\"/>"
   ]
  },
  {
   "cell_type": "markdown",
   "id": "fb672e02",
   "metadata": {},
   "source": [
    "Elmo will use `datasets` to help him gather the existing genomic resources from NCBI. He will:\n",
    "\n",
    "- download all available genomes for the genus *Acromyrmex*\n",
    "- download the *orco* gene from the *Acromyrmex* reference genome\n",
    "- download the ortholog set for this gene for all ants (Formicidae)\n",
    "\n",
    "In addition, he will also do the following tasks:\n",
    "- Create a custom BLAST database with the Panamanian leaf cutter ants genomes \n",
    "- BLAST the gene *orco* against the database\n",
    "- Multiple sequence alignment of the BLAST results and the ortholog gene sequences\n",
    "- Build a phylogenetic tree using fastTree\n"
   ]
  },
  {
   "cell_type": "markdown",
   "id": "8b785d5b",
   "metadata": {},
   "source": [
    "### How is `datasets` organized?\n",
    "\n",
    "[NCBI datasets](https://www.ncbi.nlm.nih.gov/datasets/docs/v1/quickstarts/command-line-tools/) is a command line tool that allows users to download data packages (data + metadata) or look at metadata summaries for genomes, RefSeq annotated genes, curated ortholog sets and SARS-Cov-2 virus sequences and proteins. The program follows a hierarchy that makes it easier for users to select exact which options they would like to use. In addition to the program commands, additional flags are available for filtering the results. We will go over those during this tutorial.\n",
    "<img src=\"./images/datasets_horizontal.drawio.png\" alt=\"datasets\" style=\"width: 600px;\"/>"
   ]
  },
  {
   "cell_type": "markdown",
   "id": "54d048ca",
   "metadata": {},
   "source": [
    "In addition to `datasets`, we will be using `jq` (JSON parser) to take a look at the metadata information. Our metadata reports are almost all in JSON or [JSON Lines](https://jsonlines.org/) format. We put together a [jq cheat sheet]( https://github.com/ncbi/datasets/blob/workshop-cshl-2021/training/cshl-2021/jq_cheatsheet.md) to help you extract information from those files.  "
   ]
  },
  {
   "cell_type": "markdown",
   "id": "75ad66b3",
   "metadata": {},
   "source": [
    "## Part I: Accessing genomes<a class=\"anchor\" id=\"Part-I\"></a>"
   ]
  },
  {
   "cell_type": "markdown",
   "id": "c5509425",
   "metadata": {},
   "source": [
    "![workflow](./images/elmo_workflow.drawio.png)"
   ]
  },
  {
   "cell_type": "markdown",
   "id": "b29b46e2",
   "metadata": {},
   "source": [
    "First, let's figure out what kind of genome information NCBI has for ants (family Formicidae)."
   ]
  },
  {
   "cell_type": "markdown",
   "id": "b1c78dcf",
   "metadata": {},
   "source": [
    "<img src=\"./images/genome_summary.drawio.png\" style=\"width: 600px;\"/>"
   ]
  },
  {
   "cell_type": "code",
   "execution_count": 2,
   "id": "076161ca",
   "metadata": {},
   "outputs": [
    {
     "name": "stdout",
     "output_type": "stream",
     "text": [
      "{\"assemblies\": [{\"assembly\": {\"annotation_metadata\":{\"file\":[{\"estimated_size\":\"3421616\",\"type\":\"GENOME_GFF\"},{\"estimated_size\":\"129483045\",\"type\":\"GENOME_GBFF\"},{\"estimated_size\":\"3444924\",\"type\":\"PROT_FASTA\"},{\"estimated_size\":\"2684704\",\"type\":\"GENOME_GTF\"},{\"estimated_size\":\"7862131\",\"type\":\"CDS_FASTA\"}],\"name\":\"From INSDC submitter\",\"release_date\":\"2021-03-29\",\"source\":\"BGI\",\"stats\":{\"gene_counts\":{\"protein_coding\":8986,\"total\":14640}}},\"assembly_accession\":\"GCA_017607545.1\",\"assembly_category\":\"representative genome\",\"assembly_level\":\"Scaffold\",\"bioproject_lineages\":[{\"bioprojects\":[{\"accession\":\"PRJNA605929\",\"title\":\"Project of the leaf-cutting ants\"}]}],\"biosample_accession\":\"SAMN14167745\",\"blast_url\":\"https://blast.ncbi.nlm.nih.gov/Blast.cgi?PAGE_TYPE=BlastSearch\\u0026PROG_DEF=blastn\\u0026BLAST_SPEC=GDH_GCA_017607545.1\",\"chromosomes\":[{\"length\":\"296539234\",\"name\":\"Un\"}],\"contig_n50\":34925,\"display_name\":\"ASM1760754v1\",\"estimated_size\":\"241200730\",\"gc_count\":\"99149685\",\"org\":{\"assembly_counts\":{\"node\":1,\"subtree\":1},\"isolate\":\"BGI-DK2014a\",\"key\":\"2715315\",\"parent_tax_id\":\"64782\",\"rank\":\"SPECIES\",\"sci_name\":\"Acromyrmex charruanus\",\"tax_id\":\"2715315\",\"title\":\"Acromyrmex charruanus\"},\"seq_length\":\"296539234\",\"submission_date\":\"2021-03-29\",\"submitter\":\"BGI\"}},{\"assembly\": {\"annotation_metadata\":{\"busco\":{\"busco_lineage\":\"hymenoptera_odb10\",\"busco_ver\":\"4.0.2\",\"complete\":0.99265563,\"duplicated\":0.003171424,\"fragmented\":0.004172926,\"missing\":0.003171424,\"single_copy\":0.98948\n"
     ]
    }
   ],
   "source": [
    "%%bash\n",
    "# Get metadata info - this example output has been truncated to fit the notebook output screen in github\n",
    "# by printing only the first 1500 characters\n",
    "\n",
    "datasets summary genome taxon formicidae | cut -c1-1500\n",
    "\n",
    "# Original code run in the workshop\n",
    "# datasets summary genome taxon formicidae\n"
   ]
  },
  {
   "cell_type": "code",
   "execution_count": 3,
   "id": "9f1c4ea3",
   "metadata": {},
   "outputs": [],
   "source": [
    "%%bash\n",
    "# Get metadata info and save to a file\n",
    "datasets summary genome taxon formicidae > formicidae_summary.json"
   ]
  },
  {
   "cell_type": "markdown",
   "id": "dd676b9b",
   "metadata": {},
   "source": [
    "**Now let's take a look at the metadata using jq**"
   ]
  },
  {
   "cell_type": "code",
   "execution_count": 4,
   "id": "4206d799",
   "metadata": {},
   "outputs": [
    {
     "name": "stdout",
     "output_type": "stream",
     "text": [
      "{\n",
      "  \"assemblies\": [\n",
      "    {\n",
      "      \"assembly\": {\n",
      "        \"annotation_metadata\": {\n",
      "          \"file\": [\n",
      "            {\n",
      "              \"estimated_size\": \"3421616\",\n",
      "              \"type\": \"GENOME_GFF\"\n",
      "            },\n",
      "            {\n",
      "              \"estimated_size\": \"129483045\",\n",
      "              \"type\": \"GENOME_GBFF\"\n",
      "            },\n",
      "            {\n",
      "              \"estimated_size\": \"3444924\",\n",
      "              \"type\": \"PROT_FASTA\"\n",
      "            },\n",
      "            {\n",
      "              \"estimated_size\": \"2684704\",\n",
      "              \"type\": \"GENOME_GTF\"\n",
      "            },\n",
      "            {\n",
      "              \"estimated_size\": \"7862131\",\n",
      "              \"type\": \"CDS_FASTA\"\n",
      "            }\n",
      "          ],\n",
      "          \"name\": \"From INSDC submitter\",\n",
      "          \"release_date\": \"2021-03-29\",\n",
      "          \"source\": \"BGI\",\n",
      "          \"stats\": {\n",
      "            \"gene_counts\": {\n",
      "              \"protein_coding\": 8986,\n",
      "              \"total\": 14640\n",
      "            }\n",
      "          }\n",
      "        },\n",
      "        \"assembly_accession\": \"GCA_017607545.1\",\n",
      "        \"assembly_category\": \"representative genome\",\n",
      "        \"assembly_level\": \"Scaffold\",\n",
      "        \"bioproject_lineages\": [\n",
      "          {\n",
      "            \"bioprojects\": [\n",
      "              {\n",
      "                \"accession\": \"PRJNA605929\",\n",
      "                \"title\": \"Project of the leaf-cutting ants\"\n",
      "              }\n",
      "            ]\n",
      "          }\n",
      "        ],\n",
      "        \"biosample_accession\": \"SAMN14167745\",\n",
      "        \"blast_url\": \"https://blast.ncbi.nlm.nih.gov/Blast.cgi?PAGE_TYPE=BlastSearch&PROG_DEF=blastn&BLAST_SPEC=GDH_GCA_017607545.1\",\n",
      "        \"chromosomes\": [\n",
      "          {\n",
      "            \"length\": \"296539234\",\n",
      "            \"name\": \"Un\"\n",
      "          }\n",
      "        ],\n",
      "        \"contig_n50\": 34925,\n",
      "        \"display_name\": \"ASM1760754v1\",\n",
      "        \"estimated_size\": \"241200730\",\n",
      "        \"gc_count\": \"99149685\",\n",
      "        \"org\": {\n",
      "          \"assembly_counts\": {\n",
      "            \"node\": 1,\n",
      "            \"subtree\": 1\n",
      "          },\n",
      "          \"isolate\": \"BGI-DK2014a\",\n",
      "          \"key\": \"2715315\",\n",
      "          \"parent_tax_id\": \"64782\",\n",
      "          \"rank\": \"SPECIES\",\n",
      "          \"sci_name\": \"Acromyrmex charruanus\",\n",
      "          \"tax_id\": \"2715315\",\n",
      "          \"title\": \"Acromyrmex charruanus\"\n",
      "        },\n",
      "        \"seq_length\": \"296539234\",\n",
      "        \"submission_date\": \"2021-03-29\",\n",
      "        \"submitter\": \"BGI\"\n",
      "      }\n",
      "    },\n",
      "    {\n",
      "      \"assembly\": {\n",
      "        \"annotation_metadata\": {\n",
      "          \"busco\": {\n",
      "            \"busco_lineage\": \"hymenoptera_odb10\",\n",
      "            \"busco_ver\": \"4.0.2\",\n",
      "            \"complete\": 0.99265563,\n",
      "            \"duplicated\": 0.003171424,\n",
      "            \"fragmented\": 0.004172926,\n",
      "            \"missing\": 0.003171424,\n",
      "            \"single_copy\": 0.98948425,\n",
      "            \"total_count\": \"5991\"\n",
      "          },\n",
      "          \"file\": [\n",
      "            {\n",
      "              \"estimated_size\": \"5006475\",\n",
      "              \"type\": \"GENOME_GFF\"\n",
      "            },\n",
      "            {\n",
      "              \"estimated_size\": \"130785045\",\n"
     ]
    }
   ],
   "source": [
    "%%bash\n",
    "# this example has been truncated to fit the notebook output in github by only printing the first 100 lines\n",
    "datasets summary genome taxon formicidae | jq . | perl -ne'1..100 and print' \n",
    "\n",
    "# Original code run in the workshop\n",
    "# datasets summary genome taxon formicidae | jq . "
   ]
  }
 ],
 "metadata": {
  "kernelspec": {
   "display_name": "Python 3 (ipykernel)",
   "language": "python",
   "name": "python3"
  },
  "language_info": {
   "codemirror_mode": {
    "name": "ipython",
    "version": 3
   },
   "file_extension": ".py",
   "mimetype": "text/x-python",
   "name": "python",
   "nbconvert_exporter": "python",
   "pygments_lexer": "ipython3",
   "version": "3.9.9"
  }
 },
 "nbformat": 4,
 "nbformat_minor": 5
}
